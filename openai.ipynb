{
 "cells": [
  {
   "cell_type": "code",
   "execution_count": 389,
   "metadata": {},
   "outputs": [
    {
     "data": {
      "text/plain": [
       "True"
      ]
     },
     "execution_count": 389,
     "metadata": {},
     "output_type": "execute_result"
    }
   ],
   "source": [
    "from dotenv import load_dotenv\n",
    "load_dotenv()"
   ]
  },
  {
   "cell_type": "code",
   "execution_count": 390,
   "metadata": {},
   "outputs": [],
   "source": [
    "load_dotenv()\n",
    "import os\n",
    "import openai\n",
    "# from openai import OpenAI\n",
    "\n",
    "openai.api_key = os.getenv(\"OPENAI_API_KEY\")"
   ]
  },
  {
   "cell_type": "code",
   "execution_count": 392,
   "metadata": {},
   "outputs": [
    {
     "name": "stdout",
     "output_type": "stream",
     "text": [
      "ChatCompletionMessage(content=\"In the realm of code, there lies a mighty force,\\nWhere functions call themselves, of course.\\nRecursion, a clever and powerful tool,\\nTo solve problems deep, like a wise old fool.\\n\\nLike a mirror reflecting its own reflection,\\nRecursion dives deep, without a moment's hesitation.\\nA function, it runs, itself it does invoke,\\nTackling tasks complex, like a masterly stroke.\\n\\nWith each recursive call, the stack it does climb,\\nEach step forward, revealing truth sublime.\\nDivide and conquer, the strategy it employs,\\nBreaking down problems, with elegant poise.\\n\\nYet beware, young coder, of infinite loops,\\nRecursive calls stacked high, like never-ending scoops.\\nBase case in hand, the cycle must end,\\nOr in a sea of errors, your code will descend.\\n\\nSo embrace recursion, let your logic flow,\\nIn the world of programming, it's a dazzling show.\\nA concept profound, like a mystical rhyme,\\nRecursion in code, stands the test of time.\", role='assistant', function_call=None, tool_calls=None)\n"
     ]
    }
   ],
   "source": [
    "\n",
    "\n",
    "client =openai.OpenAI()\n",
    "\n",
    "completion = client.chat.completions.create(\n",
    "  model=\"gpt-3.5-turbo\",\n",
    "  messages=[\n",
    "    {\"role\": \"system\", \"content\": \"You are a poetic assistant, skilled in explaining complex programming concepts with creative flair.\"},\n",
    "    {\"role\": \"user\", \"content\": \"Compose a poem that explains the concept of recursion in programming.\"}\n",
    "  ]\n",
    ")\n",
    "\n",
    "print(completion.choices[0].message)"
   ]
  },
  {
   "cell_type": "code",
   "execution_count": 393,
   "metadata": {},
   "outputs": [],
   "source": [
    "pdf_path = \"PBI_240622.pdf\"\n",
    "\n",
    "import fitz"
   ]
  },
  {
   "cell_type": "code",
   "execution_count": 394,
   "metadata": {},
   "outputs": [],
   "source": [
    "from pathlib import Path\n",
    "from llama_index.readers.file.pymu_pdf import PyMuPDFReader\n",
    "\n",
    "doc = fitz.open(Path(pdf_path))\n",
    "\n",
    "total_page = len(doc)"
   ]
  },
  {
   "cell_type": "code",
   "execution_count": 395,
   "metadata": {},
   "outputs": [
    {
     "data": {
      "text/plain": [
       "'- 1 -  \\n \\nPERATURAN BANK INDONESIA \\nNOMOR 24/ 6 /PBI/2022 \\nTENTANG \\nKEBIJAKAN PENGGUNAAN RUPIAH PADA KEGIATAN INTERNASIONAL \\n \\nDENGAN RAHMAT TUHAN YANG MAHA ESA \\n \\nGUBERNUR BANK INDONESIA, \\n \\n \\nMenimbang  : a. \\nbahwa untuk mencapai dan memelihara kestabilan nilai \\nrupiah, \\nBank \\nIndonesia \\nsebagai \\notoritas \\nmoneter \\nberwenang menetapkan kebijakan penggunaan rupiah \\npada kegiatan internasional; \\n \\n \\nb.  \\nbahwa kehati-hatian dalam penggunaan rupiah pada \\nkegiatan internasional diperlukan untuk mendukung \\ntercapainya kestabilan nilai tukar rupiah dan memberikan \\ndampak dan manfaat positif bagi perekonomian Indonesia; \\n \\n \\nc.  \\nbahwa berdasarkan pertimbangan sebagaimana dimaksud \\ndalam huruf a dan huruf b, perlu menetapkan Peraturan \\nBank Indonesia tentang Kebijakan Penggunaan Rupiah \\npada Kegiatan Internasional; \\n \\n \\n \\nMengingat  \\n:  \\nUndang-Undang Nomor 23 Tahun 1999 tentang Bank \\nIndonesia (Lembaran Negara Republik Indonesia Tahun \\n1999 Nomor 66, Tambahan Lembaran Negara Republik \\nIndonesia  Nomor 3843) sebagaimana telah beberapa kali \\ndiubah terakhir dengan Undang-Undang Nomor 6 Tahun  \\n2009 tentang Penetapan  Peraturan  Pemerintah  Pengganti\\n'"
      ]
     },
     "execution_count": 395,
     "metadata": {},
     "output_type": "execute_result"
    }
   ],
   "source": [
    "doc[0].get_text()"
   ]
  },
  {
   "cell_type": "code",
   "execution_count": 396,
   "metadata": {},
   "outputs": [],
   "source": [
    "reader = PyMuPDFReader()\n",
    "\n",
    "document = reader.load(Path(pdf_path))"
   ]
  },
  {
   "cell_type": "code",
   "execution_count": 397,
   "metadata": {},
   "outputs": [
    {
     "name": "stdout",
     "output_type": "stream",
     "text": [
      "\u001b[1;31mType:\u001b[0m        list\n",
      "\u001b[1;31mString form:\u001b[0m [Document(id_='b9b09042-50f4-4c95-a98a-2ced32d6b722', embedding=None, metadata={'total_pages': 13 <...> late='{metadata_str}\\n\\n{content}', metadata_template='{key}: {value}', metadata_seperator='\\n')]\n",
      "\u001b[1;31mLength:\u001b[0m      13\n",
      "\u001b[1;31mDocstring:\u001b[0m  \n",
      "Built-in mutable sequence.\n",
      "\n",
      "If no argument is given, the constructor creates a new empty list.\n",
      "The argument must be an iterable if specified."
     ]
    }
   ],
   "source": [
    "document?"
   ]
  },
  {
   "cell_type": "code",
   "execution_count": 398,
   "metadata": {},
   "outputs": [
    {
     "data": {
      "text/plain": [
       "[Document(id_='54556eca-29fc-4ea2-ad09-924bf8944e00', embedding=None, metadata={}, excluded_embed_metadata_keys=[], excluded_llm_metadata_keys=[], relationships={}, text='- 1 -  \\n \\nPERATURAN BANK INDONESIA \\nNOMOR 24/ 6 /PBI/2022 \\nTENTANG \\nKEBIJAKAN PENGGUNAAN RUPIAH PADA KEGIATAN INTERNASIONAL \\n \\nDENGAN RAHMAT TUHAN YANG MAHA ESA \\n \\nGUBERNUR BANK INDONESIA, \\n \\n \\nMenimbang  : a. \\nbahwa untuk mencapai dan memelihara kestabilan nilai \\nrupiah, \\nBank \\nIndonesia \\nsebagai \\notoritas \\nmoneter \\nberwenang menetapkan kebijakan penggunaan rupiah \\npada kegiatan internasional; \\n \\n \\nb.  \\nbahwa kehati-hatian dalam penggunaan rupiah pada \\nkegiatan internasional diperlukan untuk mendukung \\ntercapainya kestabilan nilai tukar rupiah dan memberikan \\ndampak dan manfaat positif bagi perekonomian Indonesia; \\n \\n \\nc.  \\nbahwa berdasarkan pertimbangan sebagaimana dimaksud \\ndalam huruf a dan huruf b, perlu menetapkan Peraturan \\nBank Indonesia tentang Kebijakan Penggunaan Rupiah \\npada Kegiatan Internasional; \\n \\n \\n \\nMengingat  \\n:  \\nUndang-Undang Nomor 23 Tahun 1999 tentang Bank \\nIndonesia (Lembaran Negara Republik Indonesia Tahun \\n1999 Nomor 66, Tambahan Lembaran Negara Republik \\nIndonesia  Nomor 3843) sebagaimana telah beberapa kali \\ndiubah terakhir dengan Undang-Undang Nomor 6 Tahun  \\n2009 tentang Penetapan  Peraturan  Pemerintah  Pengganti\\n', start_char_idx=None, end_char_idx=None, text_template='{metadata_str}\\n\\n{content}', metadata_template='{key}: {value}', metadata_seperator='\\n'),\n",
       " Document(id_='b15bf473-7f25-4711-9ccd-1681ed8b9a7b', embedding=None, metadata={}, excluded_embed_metadata_keys=[], excluded_llm_metadata_keys=[], relationships={}, text='- 2 -  \\n \\n \\n \\n \\nUndang-Undang Nomor 2 Tahun 2008 tentang Perubahan \\nKedua atas Undang-Undang Nomor 23 Tahun 1999 tentang \\nBank Indonesia Menjadi Undang-Undang (Lembaran \\nNegara Republik Indonesia Tahun 2009 Nomor 7, \\nTambahan Lembaran Negara Republik Indonesia Nomor \\n4962); \\n \\nMEMUTUSKAN: \\nMenetapkan  : PERATURAN \\nBANK \\nINDONESIA \\nTENTANG \\nKEBIJAKAN \\nPENGGUNAAN RUPIAH PADA KEGIATAN INTERNASIONAL. \\n \\nBAB I \\nKETENTUAN UMUM \\n \\nPasal 1 \\n \\n \\nDalam Peraturan Bank Indonesia ini yang dimaksud dengan:  \\n1. \\nRupiah adalah mata uang Negara Kesatuan Republik \\nIndonesia yang berlaku sebagai alat pembayaran yang sah \\ndi wilayah Negara Kesatuan Republik Indonesia. \\n2. \\nUang Rupiah adalah uang kertas maupun uang logam yang \\nmerupakan alat pembayaran yang sah di wilayah Negara \\nKesatuan Republik Indonesia. \\n3. \\nWilayah Negara Kesatuan Republik Indonesia adalah \\nseluruh wilayah teritorial Indonesia, termasuk kapal dan \\npesawat terbang yang berbendera Republik Indonesia, \\nKedutaan Republik Indonesia, dan kantor perwakilan \\nRepublik Indonesia lainnya di luar negeri. \\n4. \\nPenduduk adalah orang, badan hukum, atau badan \\nlainnya, yang berdomisili atau berencana berdomisili di \\nIndonesia sekurang-kurangnya 1 (satu) tahun, termasuk \\nperwakilan dan staf diplomatik Republik Indonesia di luar \\nnegeri. \\n5. \\nBukan Penduduk adalah orang, badan hukum, atau badan \\nlainnya, yang tidak berdomisili di \\nIndonesia \\natau \\nberdomisili di Indonesia kurang dari 1 (satu) tahun, \\ntermasuk perwakilan dan staf diplomatik negara lain di \\nIndonesia. \\n', start_char_idx=None, end_char_idx=None, text_template='{metadata_str}\\n\\n{content}', metadata_template='{key}: {value}', metadata_seperator='\\n'),\n",
       " Document(id_='bea3c50d-ab25-4da9-87d1-aee06e560687', embedding=None, metadata={}, excluded_embed_metadata_keys=[], excluded_llm_metadata_keys=[], relationships={}, text='- 3 -  \\n \\nPasal 2 \\nBank Indonesia menetapkan kebijakan penggunaan Rupiah \\npada kegiatan internasional untuk: \\na. \\nmencapai dan memelihara kestabilan nilai Rupiah dan \\nkestabilan sistem keuangan; dan \\nb. \\nmencegah dan mengurangi risiko di bidang moneter. \\n \\n Pasal 3 \\nKebijakan penggunaan Rupiah pada kegiatan internasional \\ndilakukan berdasarkan prinsip: \\na. \\npenggunaan Rupiah hanya dapat dilakukan di dalam \\nWilayah Negara Kesatuan Republik Indonesia; dan \\nb. \\ndalam hal Rupiah digunakan di luar Wilayah Negara \\nKesatuan Republik Indonesia, penggunaannya dapat \\ndilakukan secara terbatas sepanjang memberikan dampak \\ndan manfaat positif bagi perekonomian Indonesia dengan \\nmemperhatikan: \\n1. \\nkondisi, ukuran, dan tingkat keterbukaan ekonomi \\nnasional;  \\n2. \\nkondisi, \\nketerbukaan, \\ndan \\nkedalaman \\npasar \\nkeuangan; dan \\n3. \\nkesiapan institusional dan infrastruktur. \\n \\nBAB II \\nRUANG LINGKUP PENGGUNAAN RUPIAH  \\nPADA KEGIATAN INTERNASIONAL \\n \\nBagian Kesatu \\nUmum \\n \\nPasal 4 \\n(1) \\nRuang \\nlingkup \\npenggunaan \\nRupiah \\npada \\nkegiatan \\ninternasional meliputi: \\na. \\npenggunaan Rupiah di luar Wilayah Negara Kesatuan \\nRepublik Indonesia; dan \\nb. \\npenggunaan Rupiah oleh Bukan Penduduk di dalam \\nWilayah Negara Kesatuan Republik Indonesia. \\n', start_char_idx=None, end_char_idx=None, text_template='{metadata_str}\\n\\n{content}', metadata_template='{key}: {value}', metadata_seperator='\\n'),\n",
       " Document(id_='f8fcb6be-0963-41da-98b0-28960760ff39', embedding=None, metadata={}, excluded_embed_metadata_keys=[], excluded_llm_metadata_keys=[], relationships={}, text='- 4 -  \\n \\n(2) \\nDalam ruang lingkup penggunaan Rupiah pada kegiatan \\ninternasional sebagaimana dimaksud pada ayat (1) huruf a, \\ntermasuk pula pembawaan Uang Rupiah keluar Wilayah \\nNegara Kesatuan Republik Indonesia. \\n \\nBagian Kedua \\nPenggunaan Rupiah di Luar Wilayah Negara Kesatuan  \\nRepublik Indonesia \\n \\nPasal 5 \\n(1) \\nPenggunaan Rupiah di luar Wilayah Negara Kesatuan \\nRepublik Indonesia dilarang bagi Penduduk dan Bukan \\nPenduduk. \\n(2) \\nBank Indonesia dapat mengatur pengecualian atas \\nlarangan penggunaan Rupiah di luar Wilayah Negara \\nKesatuan Republik Indonesia sebagaimana dimaksud pada \\nayat (1). \\n(3) \\nPengecualian atas larangan penggunaan Rupiah di luar \\nWilayah Negara Kesatuan Republik Indonesia sebagaimana \\ndimaksud pada ayat (2) diberikan dengan pertimbangan: \\na. \\npencapaian tujuan kebijakan penggunaan Rupiah \\npada kegiatan internasional;  \\nb. \\nmanfaat bagi perekonomian nasional dan kestabilan \\nsistem keuangan; dan \\nc. \\npertimbangan lainnya.  \\n(4) \\nPelanggaran terhadap larangan sebagaimana dimaksud \\npada ayat (1) dikenakan sanksi administratif. \\n \\nPasal 6 \\nPenggunaan Rupiah di luar Wilayah Negara Kesatuan Republik \\nIndonesia sebagaimana dimaksud dalam Pasal 5 dilakukan \\ndalam bentuk: \\na. \\nfisik; \\nb. \\nrekening; dan/atau  \\nc. \\ninstrumen keuangan digital.  \\n \\n \\n', start_char_idx=None, end_char_idx=None, text_template='{metadata_str}\\n\\n{content}', metadata_template='{key}: {value}', metadata_seperator='\\n'),\n",
       " Document(id_='261021a1-fcd9-412a-916a-ed81e52104f0', embedding=None, metadata={}, excluded_embed_metadata_keys=[], excluded_llm_metadata_keys=[], relationships={}, text='- 5 -  \\n \\nPasal 7 \\nPenggunaan Rupiah di luar Wilayah Negara Kesatuan Republik \\nIndonesia sebagaimana dimaksud dalam Pasal 5 dilakukan \\ndalam: \\na. \\nkuotasi; \\nb. \\ntransaksi keuangan; dan/atau  \\nc. \\npenyelesaian transaksi keuangan.  \\n \\nPasal 8 \\nKetentuan lebih lanjut mengenai kebijakan penggunaan Rupiah \\ndi luar Wilayah Negara Kesatuan Republik Indonesia diatur \\ndalam Peraturan Bank Indonesia. \\n \\nBagian Ketiga \\nPenggunaan Rupiah oleh Bukan Penduduk di Dalam  \\nWilayah Negara Kesatuan Republik Indonesia \\n \\nPasal 9 \\n(1) \\nPenggunaan Rupiah oleh Bukan Penduduk di dalam \\nWilayah Negara Kesatuan Republik Indonesia wajib \\ndidukung dengan underlying kegiatan perekonomian.  \\n(2) \\nUnderlying kegiatan perekonomian sebagaimana dimaksud \\npada ayat (1) meliputi:   \\na. \\nkegiatan transaksi berjalan; \\nb. \\nkegiatan transaksi finansial; \\nc. \\nkegiatan transaksi modal; dan \\nd. \\nunderlying transaksi lain yang ditetapkan oleh Bank \\nIndonesia. \\n(3) \\nPelanggaran terhadap kewajiban sebagaimana dimaksud \\npada ayat (1) dikenakan sanksi administratif. \\n \\nPasal 10 \\n(1) Bank Indonesia dapat mengatur pembatasan penggunaan \\nRupiah pada kegiatan tertentu oleh Bukan Penduduk di \\ndalam Wilayah Negara Kesatuan Republik Indonesia dan \\npengecualiannya. \\n', start_char_idx=None, end_char_idx=None, text_template='{metadata_str}\\n\\n{content}', metadata_template='{key}: {value}', metadata_seperator='\\n'),\n",
       " Document(id_='0e163008-2d15-4339-a680-6428c184a285', embedding=None, metadata={}, excluded_embed_metadata_keys=[], excluded_llm_metadata_keys=[], relationships={}, text='- 6 -  \\n \\n(2) Pembatasan penggunaan Rupiah pada kegiatan tertentu \\ndan pengecualiannya sebagaimana dimaksud pada ayat (1) \\ndilakukan dengan pertimbangan: \\na. \\npencapaian tujuan kebijakan penggunaan Rupiah \\npada kegiatan internasional; \\nb. \\nmanfaat bagi perekonomian nasional dan kestabilan \\nsistem keuangan; dan \\nc. \\npertimbangan lainnya.  \\n \\nPasal 11 \\nKetentuan lebih lanjut mengenai kebijakan penggunaan Rupiah \\noleh Bukan Penduduk di dalam Wilayah Negara Kesatuan \\nRepublik Indonesia diatur dalam Peraturan Bank Indonesia. \\n \\nBAB III \\nPENGAWASAN \\n \\nPasal 12 \\n(1) \\nBank Indonesia melakukan pengawasan penggunaan \\nRupiah pada kegiatan internasional. \\n(2) \\nPengawasan \\nsebagaimana \\ndimaksud \\npada \\nayat \\n(1) \\ndilakukan melalui: \\na. \\npengawasan tidak langsung; dan/atau \\nb. \\npemeriksaan. \\n(3) \\nDalam melakukan pengawasan sebagaimana dimaksud \\npada ayat (1), Bank Indonesia dapat meminta data, \\ninformasi, dan keterangan yang diperlukan kepada \\nPenduduk dan Bukan Penduduk. \\n(4) \\nPengawasan \\nsebagaimana \\ndimaksud \\npada \\nayat \\n(1) \\ndilaksanakan sesuai dengan ketentuan Peraturan Bank \\nIndonesia. \\n \\n \\n \\n \\n \\n \\n', start_char_idx=None, end_char_idx=None, text_template='{metadata_str}\\n\\n{content}', metadata_template='{key}: {value}', metadata_seperator='\\n'),\n",
       " Document(id_='9311df29-0f7b-4fca-9976-3a591c1dad4b', embedding=None, metadata={}, excluded_embed_metadata_keys=[], excluded_llm_metadata_keys=[], relationships={}, text='- 7 -  \\n \\nBAB IV \\nKOORDINASI \\n \\nPasal 13 \\nBank Indonesia dapat melakukan koordinasi dengan otoritas, \\ninstansi, lembaga, dan/atau pihak lainnya dalam mendukung \\nkebijakan penggunaan Rupiah pada kegiatan internasional. \\n \\nBAB V \\nKETENTUAN PENUTUP \\n \\nPasal 14 \\nPeraturan Bank Indonesia ini mulai berlaku pada tanggal           \\ndiundangkan. \\n \\n \\n \\n \\n \\n \\n \\n \\n \\n \\n \\n \\n \\n \\n \\n \\n \\n \\n \\n \\n \\n \\n', start_char_idx=None, end_char_idx=None, text_template='{metadata_str}\\n\\n{content}', metadata_template='{key}: {value}', metadata_seperator='\\n'),\n",
       " Document(id_='91cbef38-215b-402a-9f95-bd09f39ec025', embedding=None, metadata={}, excluded_embed_metadata_keys=[], excluded_llm_metadata_keys=[], relationships={}, text='- 8 -  \\n \\nAgar \\nsetiap \\norang \\nmengetahuinya, \\nmemerintahkan \\npengundangan \\nPeraturan \\nBank \\nIndonesia \\nini \\ndengan \\npenempatannya dalam Lembaran Negara Republik Indonesia. \\n \\n \\nDitetapkan di Jakarta \\npada tanggal 27 April 2022     \\n \\nGUBERNUR BANK INDONESIA, \\n \\n \\n \\n      TTD \\n \\n      PERRY WARJIYO \\n \\nDiundangkan di Jakarta \\npada tanggal       \\n \\nMENTERI HUKUM DAN HAK ASASI MANUSIA \\nREPUBLIK INDONESIA,  \\n \\n \\n \\nYASONNA H. LAOLY \\n \\n \\n \\nLEMBARAN NEGARA REPUBLIK INDONESIA TAHUN 2022 NOMOR 115 \\n \\n \\n \\n \\n \\nTTD \\n', start_char_idx=None, end_char_idx=None, text_template='{metadata_str}\\n\\n{content}', metadata_template='{key}: {value}', metadata_seperator='\\n'),\n",
       " Document(id_='10a3135e-3c05-4409-9e2e-fb54b0aa7919', embedding=None, metadata={}, excluded_embed_metadata_keys=[], excluded_llm_metadata_keys=[], relationships={}, text=' \\n \\nPENJELASAN  \\nATAS \\nPERATURAN BANK INDONESIA \\nNOMOR 24/ 6 /PBI/2022 \\nTENTANG \\nKEBIJAKAN PENGGUNAAN RUPIAH PADA KEGIATAN INTERNASIONAL \\n \\nI. \\nUMUM \\nDari sisi fundamental ekonomi, perkembangan transaksi perdagangan \\ninternasional Indonesia masih diwarnai oleh transaksi neraca berjalan \\n(current account) yang cenderung defisit. Sementara itu, kondisi pasar \\nkeuangan, khususnya pasar valuta asing domestik masih cenderung belum \\ndalam. Kondisi ini menyebabkan risiko volatilitas nilai tukar Rupiah yang \\nmasih tinggi.  \\nUntuk mencapai kestabilan nilai tukar Rupiah, Bank Indonesia telah \\nmengatur kebijakan penggunaan Rupiah pada kegiatan internasional \\ndalam beberapa peraturan Bank Indonesia. Secara bertahap, penguatan \\nkebijakan terus dilakukan dari aspek prudential measures dan pelaporan, \\nbaik yang dilakukan oleh bank maupun nonbank. \\nSelanjutnya, untuk memperkuat kebijakan Bank Indonesia dalam \\nmenjaga kestabilan nilai tukar Rupiah dengan mengurangi ketergantungan \\npenggunaan \\nmata \\nuang  \\nnegara \\nutama \\ndalam \\nperdagangan \\ninternasional, dilakukan pengaturan yang memungkinkan penggunaan \\nRupiah di luar Wilayah Negara Kesatuan Republik Indonesia dan \\nmendorong peningkatan peran Rupiah dalam transaksi perdagangan \\ninternasional dan pendalaman pasar keuangan, termasuk pelaksanaan \\nskema penyelesaian transaksi bilateral menggunakan mata uang lokal \\nmelalui bank. Dengan demikian sejalan dengan adanya kebutuhan dari sisi \\nperdagangan dan transaksi keuangan internasional maka penggunaan \\n', start_char_idx=None, end_char_idx=None, text_template='{metadata_str}\\n\\n{content}', metadata_template='{key}: {value}', metadata_seperator='\\n'),\n",
       " Document(id_='e457052d-49cb-4339-b32e-7fdc7dfaac46', embedding=None, metadata={}, excluded_embed_metadata_keys=[], excluded_llm_metadata_keys=[], relationships={}, text='- 2 - \\nRupiah pada kegiatan internasional dapat dilakukan dalam lingkup \\nterbatas. \\nKebijakan penggunaan Rupiah pada kegiatan internasional diperlukan \\nuntuk memastikan Rupiah digunakan untuk mendukung kegiatan \\nperekonomian nasional. Dampak dari kebijakan penggunaan Rupiah pada \\nkegiatan internasional tersebut diharapkan mampu mendukung kestabilan \\nnilai tukar Rupiah, mendorong pendalaman pasar keuangan, dan \\nmendorong perbaikan struktur ekonomi domestik. \\nSelanjutnya, guna membentuk pengaturan yang komprehensif yang \\nmeliputi seluruh aspek penggunaan Rupiah pada kegiatan internasional \\ndan mendukung perkembangan perekonomian, perlu ditetapkan Peraturan \\nBank Indonesia tentang Kebijakan Penggunaan Rupiah pada Kegiatan \\nInternasional.  \\n \\nII.  PASAL DEMI PASAL  \\n \\nPasal 1 \\n \\nCukup jelas. \\n \\nPasal 2 \\nHuruf a \\nCukup jelas.  \\nHuruf b \\nRisiko di bidang moneter antara lain berupa risiko nilai tukar, \\nrisiko likuiditas, dan risiko inflasi yang dapat mengganggu \\nstabilitas moneter. \\n \\nPasal 3  \\n \\nCukup jelas.  \\n \\nPasal 4 \\n \\nAyat (1) \\nContoh \\nkegiatan \\ninternasional \\nantara \\nlain \\nperdagangan \\ninternasional dan transaksi keuangan internasional. \\nAyat (2) \\nPembawaan Uang Rupiah keluar Wilayah Negara Kesatuan \\nRepublik Indonesia dilaksanakan sesuai dengan ketentuan \\n', start_char_idx=None, end_char_idx=None, text_template='{metadata_str}\\n\\n{content}', metadata_template='{key}: {value}', metadata_seperator='\\n'),\n",
       " Document(id_='783fb497-b187-40ac-bd6f-bd68e2b344c7', embedding=None, metadata={}, excluded_embed_metadata_keys=[], excluded_llm_metadata_keys=[], relationships={}, text='- 3 - \\nPeraturan Bank Indonesia mengenai persyaratan dan tata cara \\nmembawa uang rupiah keluar atau masuk wilayah pabean \\nRepublik Indonesia. \\n \\nPasal 5 \\n \\nAyat (1) \\n \\n \\nCukup jelas. \\n \\nAyat (2) \\n \\n \\nContoh pengecualian atas larangan penggunaan Rupiah pada \\nkegiatan internasional di luar Wilayah Negara Kesatuan Republik \\nIndonesia \\nantara \\nlain \\npenyelesaian \\ntransaksi \\nbilateral \\nmenggunakan mata uang lokal melalui bank. \\n \\nAyat (3) \\n \\n \\nCukup jelas. \\n \\nAyat (4) \\n \\n \\nCukup jelas. \\n \\nPasal 6 \\n \\nHuruf a \\nYang dimaksud dengan “fisik” adalah Uang Rupiah dalam bentuk \\nkertas maupun logam. \\n \\nHuruf b \\nContoh penggunaan Rupiah dalam bentuk rekening (account \\nbased) antara lain pembukaan rekening. \\nHuruf c \\nContoh penggunaan Rupiah dalam bentuk instrumen keuangan \\ndigital (digital based) antara lain penggunaan Rupiah dengan \\nteknologi kriptografi atau teknologi buku besar yang terdistribusi \\n(distributed ledger technology). \\n \\nPasal 7 \\n \\nHuruf a \\nYang \\ndimaksud \\ndengan \\n“kuotasi” \\nadalah \\nsegala \\nbentuk \\npenggunaan referensi dan/atau denominasi mata uang yang \\ndijadikan dasar dalam transaksi keuangan internasional. \\n', start_char_idx=None, end_char_idx=None, text_template='{metadata_str}\\n\\n{content}', metadata_template='{key}: {value}', metadata_seperator='\\n'),\n",
       " Document(id_='802b4664-8a3a-473e-8ef1-fb8b4c468d5f', embedding=None, metadata={}, excluded_embed_metadata_keys=[], excluded_llm_metadata_keys=[], relationships={}, text='- 4 - \\nContoh kuotasi antara lain penggunaan denominasi Rupiah pada \\npenerbitan surat berharga di luar Wilayah Negara Kesatuan \\nRepublik Indonesia. \\n \\nHuruf b \\nContoh transaksi keuangan antara lain transaksi jual beli barang \\ndan/atau jasa, jual beli instrumen keuangan, transfer Rupiah ke \\nluar Wilayah Negara Kesatuan Republik Indonesia, dan transaksi \\npinjam-meminjam dana dan/atau instrumen keuangan.  \\nHuruf c \\nContoh \\npenyelesaian \\ntransaksi \\nkeuangan \\nantara \\nlain \\npenyelesaian \\ntransaksi \\njual \\nbeli \\nbarang \\ndan/atau \\njasa, \\npenyelesaian jual beli instrumen keuangan, dan penyelesaian \\ntransaksi \\npinjam-meminjam \\ndana \\ndan/atau \\ninstrumen \\nkeuangan.  \\n \\nPasal 8 \\n \\nCukup jelas. \\n \\nPasal 9 \\n \\nAyat (1)  \\nTermasuk penggunaan Rupiah oleh Bukan Penduduk di dalam \\nWilayah Negara Kesatuan Republik Indonesia yaitu transfer \\nkepada Bukan Penduduk.  \\nAyat (2) \\nCukup jelas. \\nAyat (3) \\nCukup jelas. \\n \\nPasal 10 \\n \\nAyat (1) \\nContoh pembatasan penggunaan Rupiah pada kegiatan tertentu \\noleh Bukan Penduduk di dalam Wilayah Negara Kesatuan \\nRepublik Indonesia dan pengecualiannya antara lain terkait \\npenerimaan kredit dan/atau pembiayaan.  \\nAyat (2) \\n \\n \\nCukup jelas. \\n \\n', start_char_idx=None, end_char_idx=None, text_template='{metadata_str}\\n\\n{content}', metadata_template='{key}: {value}', metadata_seperator='\\n'),\n",
       " Document(id_='28c79b22-e34a-48d8-b9c3-ca692507237c', embedding=None, metadata={}, excluded_embed_metadata_keys=[], excluded_llm_metadata_keys=[], relationships={}, text='- 5 - \\nPasal 11  \\nCukup jelas.  \\n \\nPasal 12 \\nCukup jelas.  \\n \\nPasal 13 \\n \\nCukup jelas.  \\n \\n \\n \\nPasal 14 \\n \\nCukup jelas. \\n \\n \\nTAMBAHAN LEMBARAN NEGARA REPUBLIK INDONESIA NOMOR 6791 \\n \\n', start_char_idx=None, end_char_idx=None, text_template='{metadata_str}\\n\\n{content}', metadata_template='{key}: {value}', metadata_seperator='\\n')]"
      ]
     },
     "execution_count": 398,
     "metadata": {},
     "output_type": "execute_result"
    }
   ],
   "source": [
    "from llama_index.core import Document\n",
    "\n",
    "docs = []\n",
    "\n",
    "for page in doc:\n",
    "    text = page.get_text()\n",
    "    docs.append(Document(text=text))\n",
    "    \n",
    "docs"
   ]
  },
  {
   "cell_type": "code",
   "execution_count": 399,
   "metadata": {},
   "outputs": [],
   "source": [
    "from llama_index.core.node_parser import HierarchicalNodeParser"
   ]
  },
  {
   "cell_type": "code",
   "execution_count": 400,
   "metadata": {},
   "outputs": [],
   "source": [
    "node_parser = HierarchicalNodeParser.from_defaults()"
   ]
  },
  {
   "cell_type": "code",
   "execution_count": 401,
   "metadata": {},
   "outputs": [
    {
     "data": {
      "text/plain": [
       "HierarchicalNodeParser(include_metadata=True, include_prev_next_rel=True, callback_manager=<llama_index.core.callbacks.base.CallbackManager object at 0x0000022429177CD0>, id_func=None, chunk_sizes=[2048, 512, 128], node_parser_ids=['chunk_size_2048', 'chunk_size_512', 'chunk_size_128'], node_parser_map={'chunk_size_2048': SentenceSplitter(include_metadata=True, include_prev_next_rel=True, callback_manager=<llama_index.core.callbacks.base.CallbackManager object at 0x0000022429177CD0>, id_func=<function default_id_func at 0x000002241E4A4E50>, chunk_size=2048, chunk_overlap=20, separator=' ', paragraph_separator='\\n\\n\\n', secondary_chunking_regex='[^,.;。？！]+[,.;。？！]?'), 'chunk_size_512': SentenceSplitter(include_metadata=True, include_prev_next_rel=True, callback_manager=<llama_index.core.callbacks.base.CallbackManager object at 0x0000022429177CD0>, id_func=<function default_id_func at 0x000002241E4A4E50>, chunk_size=512, chunk_overlap=20, separator=' ', paragraph_separator='\\n\\n\\n', secondary_chunking_regex='[^,.;。？！]+[,.;。？！]?'), 'chunk_size_128': SentenceSplitter(include_metadata=True, include_prev_next_rel=True, callback_manager=<llama_index.core.callbacks.base.CallbackManager object at 0x0000022429177CD0>, id_func=<function default_id_func at 0x000002241E4A4E50>, chunk_size=128, chunk_overlap=20, separator=' ', paragraph_separator='\\n\\n\\n', secondary_chunking_regex='[^,.;。？！]+[,.;。？！]?')})"
      ]
     },
     "execution_count": 401,
     "metadata": {},
     "output_type": "execute_result"
    }
   ],
   "source": [
    "HierarchicalNodeParser.from_defaults()"
   ]
  },
  {
   "cell_type": "code",
   "execution_count": 402,
   "metadata": {},
   "outputs": [
    {
     "name": "stderr",
     "output_type": "stream",
     "text": [
      "Parsing documents into nodes: 100%|██████████| 13/13 [00:00<00:00, 532.48it/s]\n"
     ]
    }
   ],
   "source": [
    "nodes = node_parser.get_nodes_from_documents(docs, show_progress=True)"
   ]
  },
  {
   "cell_type": "code",
   "execution_count": 403,
   "metadata": {},
   "outputs": [
    {
     "data": {
      "text/plain": [
       "[TextNode(id_='f0e8a7c0-4c0e-41f5-9d31-f338ebb73534', embedding=None, metadata={}, excluded_embed_metadata_keys=[], excluded_llm_metadata_keys=[], relationships={<NodeRelationship.SOURCE: '1'>: RelatedNodeInfo(node_id='54556eca-29fc-4ea2-ad09-924bf8944e00', node_type=<ObjectType.DOCUMENT: '4'>, metadata={}, hash='ed237b372c3cbb98029622150b9f71e80d16fbbdd1699ff5d0d5ed10281704fa'), <NodeRelationship.CHILD: '5'>: [RelatedNodeInfo(node_id='9934a883-c274-4e45-9dac-5a8eacfd4747', node_type=<ObjectType.TEXT: '1'>, metadata={}, hash='39a2430289b2d60d544db4a31298008c8e46613a4e1bde2d83da20001375843b')]}, text='- 1 -  \\n \\nPERATURAN BANK INDONESIA \\nNOMOR 24/ 6 /PBI/2022 \\nTENTANG \\nKEBIJAKAN PENGGUNAAN RUPIAH PADA KEGIATAN INTERNASIONAL \\n \\nDENGAN RAHMAT TUHAN YANG MAHA ESA \\n \\nGUBERNUR BANK INDONESIA, \\n \\n \\nMenimbang  : a. \\nbahwa untuk mencapai dan memelihara kestabilan nilai \\nrupiah, \\nBank \\nIndonesia \\nsebagai \\notoritas \\nmoneter \\nberwenang menetapkan kebijakan penggunaan rupiah \\npada kegiatan internasional; \\n \\n \\nb.  \\nbahwa kehati-hatian dalam penggunaan rupiah pada \\nkegiatan internasional diperlukan untuk mendukung \\ntercapainya kestabilan nilai tukar rupiah dan memberikan \\ndampak dan manfaat positif bagi perekonomian Indonesia; \\n \\n \\nc.  \\nbahwa berdasarkan pertimbangan sebagaimana dimaksud \\ndalam huruf a dan huruf b, perlu menetapkan Peraturan \\nBank Indonesia tentang Kebijakan Penggunaan Rupiah \\npada Kegiatan Internasional; \\n \\n \\n \\nMengingat  \\n:  \\nUndang-Undang Nomor 23 Tahun 1999 tentang Bank \\nIndonesia (Lembaran Negara Republik Indonesia Tahun \\n1999 Nomor 66, Tambahan Lembaran Negara Republik \\nIndonesia  Nomor 3843) sebagaimana telah beberapa kali \\ndiubah terakhir dengan Undang-Undang Nomor 6 Tahun  \\n2009 tentang Penetapan  Peraturan  Pemerintah  Pengganti', start_char_idx=0, end_char_idx=1161, text_template='{metadata_str}\\n\\n{content}', metadata_template='{key}: {value}', metadata_seperator='\\n'),\n",
       " TextNode(id_='9934a883-c274-4e45-9dac-5a8eacfd4747', embedding=None, metadata={}, excluded_embed_metadata_keys=[], excluded_llm_metadata_keys=[], relationships={<NodeRelationship.SOURCE: '1'>: RelatedNodeInfo(node_id='f0e8a7c0-4c0e-41f5-9d31-f338ebb73534', node_type=<ObjectType.TEXT: '1'>, metadata={}, hash='39a2430289b2d60d544db4a31298008c8e46613a4e1bde2d83da20001375843b'), <NodeRelationship.PARENT: '4'>: RelatedNodeInfo(node_id='f0e8a7c0-4c0e-41f5-9d31-f338ebb73534', node_type=<ObjectType.TEXT: '1'>, metadata={}, hash='39a2430289b2d60d544db4a31298008c8e46613a4e1bde2d83da20001375843b'), <NodeRelationship.CHILD: '5'>: [RelatedNodeInfo(node_id='3070f689-00b9-4138-b7e4-0dc3e244862b', node_type=<ObjectType.TEXT: '1'>, metadata={}, hash='59bc2879005abf40b06ba54fe90e5d4455fd4331643d8f2f55e98b2bbd5f0706'), RelatedNodeInfo(node_id='a1ce12af-4f08-42fc-951d-4368bf055ad9', node_type=<ObjectType.TEXT: '1'>, metadata={}, hash='d065f2e1bde7ee0411cca5f4a36ebad01f277aa4cd26e1cc270866cb212c2b8b'), RelatedNodeInfo(node_id='c09b1009-102f-44f2-b49c-d2b666177d53', node_type=<ObjectType.TEXT: '1'>, metadata={}, hash='0a7796c23c2793305bd6de31eeb96d1cfef5d5627c853df7381d8d9299522bb5'), RelatedNodeInfo(node_id='20b1fdb3-5704-4268-a681-3e7435df9631', node_type=<ObjectType.TEXT: '1'>, metadata={}, hash='b162d0417844980bd300c9ec6ae8d902c556a6752ff003e521129b2c8f3ba558')]}, text='- 1 -  \\n \\nPERATURAN BANK INDONESIA \\nNOMOR 24/ 6 /PBI/2022 \\nTENTANG \\nKEBIJAKAN PENGGUNAAN RUPIAH PADA KEGIATAN INTERNASIONAL \\n \\nDENGAN RAHMAT TUHAN YANG MAHA ESA \\n \\nGUBERNUR BANK INDONESIA, \\n \\n \\nMenimbang  : a. \\nbahwa untuk mencapai dan memelihara kestabilan nilai \\nrupiah, \\nBank \\nIndonesia \\nsebagai \\notoritas \\nmoneter \\nberwenang menetapkan kebijakan penggunaan rupiah \\npada kegiatan internasional; \\n \\n \\nb.  \\nbahwa kehati-hatian dalam penggunaan rupiah pada \\nkegiatan internasional diperlukan untuk mendukung \\ntercapainya kestabilan nilai tukar rupiah dan memberikan \\ndampak dan manfaat positif bagi perekonomian Indonesia; \\n \\n \\nc.  \\nbahwa berdasarkan pertimbangan sebagaimana dimaksud \\ndalam huruf a dan huruf b, perlu menetapkan Peraturan \\nBank Indonesia tentang Kebijakan Penggunaan Rupiah \\npada Kegiatan Internasional; \\n \\n \\n \\nMengingat  \\n:  \\nUndang-Undang Nomor 23 Tahun 1999 tentang Bank \\nIndonesia (Lembaran Negara Republik Indonesia Tahun \\n1999 Nomor 66, Tambahan Lembaran Negara Republik \\nIndonesia  Nomor 3843) sebagaimana telah beberapa kali \\ndiubah terakhir dengan Undang-Undang Nomor 6 Tahun  \\n2009 tentang Penetapan  Peraturan  Pemerintah  Pengganti', start_char_idx=0, end_char_idx=1161, text_template='{metadata_str}\\n\\n{content}', metadata_template='{key}: {value}', metadata_seperator='\\n'),\n",
       " TextNode(id_='3070f689-00b9-4138-b7e4-0dc3e244862b', embedding=None, metadata={}, excluded_embed_metadata_keys=[], excluded_llm_metadata_keys=[], relationships={<NodeRelationship.SOURCE: '1'>: RelatedNodeInfo(node_id='9934a883-c274-4e45-9dac-5a8eacfd4747', node_type=<ObjectType.TEXT: '1'>, metadata={}, hash='39a2430289b2d60d544db4a31298008c8e46613a4e1bde2d83da20001375843b'), <NodeRelationship.NEXT: '3'>: RelatedNodeInfo(node_id='a1ce12af-4f08-42fc-951d-4368bf055ad9', node_type=<ObjectType.TEXT: '1'>, metadata={}, hash='d065f2e1bde7ee0411cca5f4a36ebad01f277aa4cd26e1cc270866cb212c2b8b'), <NodeRelationship.PARENT: '4'>: RelatedNodeInfo(node_id='9934a883-c274-4e45-9dac-5a8eacfd4747', node_type=<ObjectType.TEXT: '1'>, metadata={}, hash='39a2430289b2d60d544db4a31298008c8e46613a4e1bde2d83da20001375843b')}, text='- 1 -  \\n \\nPERATURAN BANK INDONESIA \\nNOMOR 24/ 6 /PBI/2022 \\nTENTANG \\nKEBIJAKAN PENGGUNAAN RUPIAH PADA KEGIATAN INTERNASIONAL \\n \\nDENGAN RAHMAT TUHAN YANG MAHA ESA \\n \\nGUBERNUR BANK INDONESIA, \\n \\n \\nMenimbang  : a. \\nbahwa untuk mencapai dan memelihara kestabilan nilai \\nrupiah,', start_char_idx=0, end_char_idx=272, text_template='{metadata_str}\\n\\n{content}', metadata_template='{key}: {value}', metadata_seperator='\\n'),\n",
       " TextNode(id_='a1ce12af-4f08-42fc-951d-4368bf055ad9', embedding=None, metadata={}, excluded_embed_metadata_keys=[], excluded_llm_metadata_keys=[], relationships={<NodeRelationship.SOURCE: '1'>: RelatedNodeInfo(node_id='9934a883-c274-4e45-9dac-5a8eacfd4747', node_type=<ObjectType.TEXT: '1'>, metadata={}, hash='39a2430289b2d60d544db4a31298008c8e46613a4e1bde2d83da20001375843b'), <NodeRelationship.PREVIOUS: '2'>: RelatedNodeInfo(node_id='3070f689-00b9-4138-b7e4-0dc3e244862b', node_type=<ObjectType.TEXT: '1'>, metadata={}, hash='59bc2879005abf40b06ba54fe90e5d4455fd4331643d8f2f55e98b2bbd5f0706'), <NodeRelationship.NEXT: '3'>: RelatedNodeInfo(node_id='c09b1009-102f-44f2-b49c-d2b666177d53', node_type=<ObjectType.TEXT: '1'>, metadata={}, hash='0a7796c23c2793305bd6de31eeb96d1cfef5d5627c853df7381d8d9299522bb5'), <NodeRelationship.PARENT: '4'>: RelatedNodeInfo(node_id='9934a883-c274-4e45-9dac-5a8eacfd4747', node_type=<ObjectType.TEXT: '1'>, metadata={}, hash='39a2430289b2d60d544db4a31298008c8e46613a4e1bde2d83da20001375843b')}, text='Bank \\nIndonesia \\nsebagai \\notoritas \\nmoneter \\nberwenang menetapkan kebijakan penggunaan rupiah \\npada kegiatan internasional; \\n \\n \\nb.  \\nbahwa kehati-hatian dalam penggunaan rupiah pada \\nkegiatan internasional diperlukan untuk mendukung \\ntercapainya kestabilan nilai tukar rupiah dan memberikan \\ndampak dan manfaat positif bagi perekonomian Indonesia; \\n \\n \\nc.', start_char_idx=274, end_char_idx=630, text_template='{metadata_str}\\n\\n{content}', metadata_template='{key}: {value}', metadata_seperator='\\n'),\n",
       " TextNode(id_='c09b1009-102f-44f2-b49c-d2b666177d53', embedding=None, metadata={}, excluded_embed_metadata_keys=[], excluded_llm_metadata_keys=[], relationships={<NodeRelationship.SOURCE: '1'>: RelatedNodeInfo(node_id='9934a883-c274-4e45-9dac-5a8eacfd4747', node_type=<ObjectType.TEXT: '1'>, metadata={}, hash='39a2430289b2d60d544db4a31298008c8e46613a4e1bde2d83da20001375843b'), <NodeRelationship.PREVIOUS: '2'>: RelatedNodeInfo(node_id='a1ce12af-4f08-42fc-951d-4368bf055ad9', node_type=<ObjectType.TEXT: '1'>, metadata={}, hash='d065f2e1bde7ee0411cca5f4a36ebad01f277aa4cd26e1cc270866cb212c2b8b'), <NodeRelationship.NEXT: '3'>: RelatedNodeInfo(node_id='20b1fdb3-5704-4268-a681-3e7435df9631', node_type=<ObjectType.TEXT: '1'>, metadata={}, hash='b162d0417844980bd300c9ec6ae8d902c556a6752ff003e521129b2c8f3ba558'), <NodeRelationship.PARENT: '4'>: RelatedNodeInfo(node_id='9934a883-c274-4e45-9dac-5a8eacfd4747', node_type=<ObjectType.TEXT: '1'>, metadata={}, hash='39a2430289b2d60d544db4a31298008c8e46613a4e1bde2d83da20001375843b')}, text='c.  \\nbahwa berdasarkan pertimbangan sebagaimana dimaksud \\ndalam huruf a dan huruf b, perlu menetapkan Peraturan \\nBank Indonesia tentang Kebijakan Penggunaan Rupiah \\npada Kegiatan Internasional; \\n \\n \\n \\nMengingat  \\n:  \\nUndang-Undang Nomor 23 Tahun 1999 tentang Bank \\nIndonesia (Lembaran Negara Republik Indonesia Tahun \\n1999 Nomor 66,', start_char_idx=628, end_char_idx=960, text_template='{metadata_str}\\n\\n{content}', metadata_template='{key}: {value}', metadata_seperator='\\n'),\n",
       " TextNode(id_='20b1fdb3-5704-4268-a681-3e7435df9631', embedding=None, metadata={}, excluded_embed_metadata_keys=[], excluded_llm_metadata_keys=[], relationships={<NodeRelationship.SOURCE: '1'>: RelatedNodeInfo(node_id='9934a883-c274-4e45-9dac-5a8eacfd4747', node_type=<ObjectType.TEXT: '1'>, metadata={}, hash='39a2430289b2d60d544db4a31298008c8e46613a4e1bde2d83da20001375843b'), <NodeRelationship.PREVIOUS: '2'>: RelatedNodeInfo(node_id='c09b1009-102f-44f2-b49c-d2b666177d53', node_type=<ObjectType.TEXT: '1'>, metadata={}, hash='0a7796c23c2793305bd6de31eeb96d1cfef5d5627c853df7381d8d9299522bb5'), <NodeRelationship.PARENT: '4'>: RelatedNodeInfo(node_id='9934a883-c274-4e45-9dac-5a8eacfd4747', node_type=<ObjectType.TEXT: '1'>, metadata={}, hash='39a2430289b2d60d544db4a31298008c8e46613a4e1bde2d83da20001375843b')}, text='Tambahan Lembaran Negara Republik \\nIndonesia  Nomor 3843) sebagaimana telah beberapa kali \\ndiubah terakhir dengan Undang-Undang Nomor 6 Tahun  \\n2009 tentang Penetapan  Peraturan  Pemerintah  Pengganti', start_char_idx=961, end_char_idx=1161, text_template='{metadata_str}\\n\\n{content}', metadata_template='{key}: {value}', metadata_seperator='\\n'),\n",
       " TextNode(id_='4d61e77a-45a4-4025-80fa-aed6112e05a2', embedding=None, metadata={}, excluded_embed_metadata_keys=[], excluded_llm_metadata_keys=[], relationships={<NodeRelationship.SOURCE: '1'>: RelatedNodeInfo(node_id='b15bf473-7f25-4711-9ccd-1681ed8b9a7b', node_type=<ObjectType.DOCUMENT: '4'>, metadata={}, hash='6f37396f9a9b996b7751dc1dae8e40fb136bc7bb10df419effa99249eb0e2d9f'), <NodeRelationship.CHILD: '5'>: [RelatedNodeInfo(node_id='5963ca54-bb17-4193-bcf6-93716c13d3b0', node_type=<ObjectType.TEXT: '1'>, metadata={}, hash='957379d8c86fd222fffebe5be8c68a9de7d91a94edfc2b1fef20dbe116612f3f'), RelatedNodeInfo(node_id='2282aee6-265b-40cd-9d34-e6b83e371d95', node_type=<ObjectType.TEXT: '1'>, metadata={}, hash='10e5bdbfedc9b5248149a60306c46ec041b7de3691f163125c07b38dd82c7e14')]}, text='- 2 -  \\n \\n \\n \\n \\nUndang-Undang Nomor 2 Tahun 2008 tentang Perubahan \\nKedua atas Undang-Undang Nomor 23 Tahun 1999 tentang \\nBank Indonesia Menjadi Undang-Undang (Lembaran \\nNegara Republik Indonesia Tahun 2009 Nomor 7, \\nTambahan Lembaran Negara Republik Indonesia Nomor \\n4962); \\n \\nMEMUTUSKAN: \\nMenetapkan  : PERATURAN \\nBANK \\nINDONESIA \\nTENTANG \\nKEBIJAKAN \\nPENGGUNAAN RUPIAH PADA KEGIATAN INTERNASIONAL. \\n \\nBAB I \\nKETENTUAN UMUM \\n \\nPasal 1 \\n \\n \\nDalam Peraturan Bank Indonesia ini yang dimaksud dengan:  \\n1. \\nRupiah adalah mata uang Negara Kesatuan Republik \\nIndonesia yang berlaku sebagai alat pembayaran yang sah \\ndi wilayah Negara Kesatuan Republik Indonesia. \\n2. \\nUang Rupiah adalah uang kertas maupun uang logam yang \\nmerupakan alat pembayaran yang sah di wilayah Negara \\nKesatuan Republik Indonesia. \\n3. \\nWilayah Negara Kesatuan Republik Indonesia adalah \\nseluruh wilayah teritorial Indonesia, termasuk kapal dan \\npesawat terbang yang berbendera Republik Indonesia, \\nKedutaan Republik Indonesia, dan kantor perwakilan \\nRepublik Indonesia lainnya di luar negeri. \\n4. \\nPenduduk adalah orang, badan hukum, atau badan \\nlainnya, yang berdomisili atau berencana berdomisili di \\nIndonesia sekurang-kurangnya 1 (satu) tahun, termasuk \\nperwakilan dan staf diplomatik Republik Indonesia di luar \\nnegeri. \\n5. \\nBukan Penduduk adalah orang, badan hukum, atau badan \\nlainnya, yang tidak berdomisili di \\nIndonesia \\natau \\nberdomisili di Indonesia kurang dari 1 (satu) tahun, \\ntermasuk perwakilan dan staf diplomatik negara lain di \\nIndonesia.', start_char_idx=0, end_char_idx=1527, text_template='{metadata_str}\\n\\n{content}', metadata_template='{key}: {value}', metadata_seperator='\\n'),\n",
       " TextNode(id_='5963ca54-bb17-4193-bcf6-93716c13d3b0', embedding=None, metadata={}, excluded_embed_metadata_keys=[], excluded_llm_metadata_keys=[], relationships={<NodeRelationship.SOURCE: '1'>: RelatedNodeInfo(node_id='4d61e77a-45a4-4025-80fa-aed6112e05a2', node_type=<ObjectType.TEXT: '1'>, metadata={}, hash='e888ce5d638bcbbd7b49965b0bac8cf3e5979451232636061c7500eda6f7cf1d'), <NodeRelationship.NEXT: '3'>: RelatedNodeInfo(node_id='2282aee6-265b-40cd-9d34-e6b83e371d95', node_type=<ObjectType.TEXT: '1'>, metadata={}, hash='10e5bdbfedc9b5248149a60306c46ec041b7de3691f163125c07b38dd82c7e14'), <NodeRelationship.PARENT: '4'>: RelatedNodeInfo(node_id='4d61e77a-45a4-4025-80fa-aed6112e05a2', node_type=<ObjectType.TEXT: '1'>, metadata={}, hash='e888ce5d638bcbbd7b49965b0bac8cf3e5979451232636061c7500eda6f7cf1d'), <NodeRelationship.CHILD: '5'>: [RelatedNodeInfo(node_id='b111a064-7864-494e-9eb3-529c6d90abc6', node_type=<ObjectType.TEXT: '1'>, metadata={}, hash='e1ba03436171785e738cf55f99362e3642c1f7d9d5d84dd0f1cc4a82a04100ac'), RelatedNodeInfo(node_id='19fee113-ec4f-46e5-a5d7-dd94d0ad2e6d', node_type=<ObjectType.TEXT: '1'>, metadata={}, hash='dd29674c121aa3a505c1cb6915af689472c2b5d157d9a3b0ae9f738e3dfba8de'), RelatedNodeInfo(node_id='0ce661f7-b7d5-4c01-973a-1489c2126cf8', node_type=<ObjectType.TEXT: '1'>, metadata={}, hash='a87834f8236bcccaf4541af5f67f1a7eb18f4b57267cdd862dd49710870edd8f'), RelatedNodeInfo(node_id='fe4f9ff5-b3e8-40a4-91ea-2dd6ac3b53a4', node_type=<ObjectType.TEXT: '1'>, metadata={}, hash='0c414a57b57109f0dce1125561a6202cce0f4d5fef248514ca85f669110d92a5'), RelatedNodeInfo(node_id='b4e48751-e209-4108-bf5a-054a6b660590', node_type=<ObjectType.TEXT: '1'>, metadata={}, hash='151a349fe40183b7d19d1f3ae171aa3ebfe990a1aab28e992f7b7c1e5814049e')]}, text='- 2 -  \\n \\n \\n \\n \\nUndang-Undang Nomor 2 Tahun 2008 tentang Perubahan \\nKedua atas Undang-Undang Nomor 23 Tahun 1999 tentang \\nBank Indonesia Menjadi Undang-Undang (Lembaran \\nNegara Republik Indonesia Tahun 2009 Nomor 7, \\nTambahan Lembaran Negara Republik Indonesia Nomor \\n4962); \\n \\nMEMUTUSKAN: \\nMenetapkan  : PERATURAN \\nBANK \\nINDONESIA \\nTENTANG \\nKEBIJAKAN \\nPENGGUNAAN RUPIAH PADA KEGIATAN INTERNASIONAL. \\n \\nBAB I \\nKETENTUAN UMUM \\n \\nPasal 1 \\n \\n \\nDalam Peraturan Bank Indonesia ini yang dimaksud dengan:  \\n1. \\nRupiah adalah mata uang Negara Kesatuan Republik \\nIndonesia yang berlaku sebagai alat pembayaran yang sah \\ndi wilayah Negara Kesatuan Republik Indonesia. \\n2. \\nUang Rupiah adalah uang kertas maupun uang logam yang \\nmerupakan alat pembayaran yang sah di wilayah Negara \\nKesatuan Republik Indonesia. \\n3. \\nWilayah Negara Kesatuan Republik Indonesia adalah \\nseluruh wilayah teritorial Indonesia, termasuk kapal dan \\npesawat terbang yang berbendera Republik Indonesia, \\nKedutaan Republik Indonesia, dan kantor perwakilan \\nRepublik Indonesia lainnya di luar negeri. \\n4. \\nPenduduk adalah orang, badan hukum, atau badan \\nlainnya, yang berdomisili atau berencana berdomisili di \\nIndonesia sekurang-kurangnya 1 (satu) tahun, termasuk \\nperwakilan dan staf diplomatik Republik Indonesia di luar \\nnegeri. \\n5.', start_char_idx=0, end_char_idx=1298, text_template='{metadata_str}\\n\\n{content}', metadata_template='{key}: {value}', metadata_seperator='\\n'),\n",
       " TextNode(id_='2282aee6-265b-40cd-9d34-e6b83e371d95', embedding=None, metadata={}, excluded_embed_metadata_keys=[], excluded_llm_metadata_keys=[], relationships={<NodeRelationship.SOURCE: '1'>: RelatedNodeInfo(node_id='4d61e77a-45a4-4025-80fa-aed6112e05a2', node_type=<ObjectType.TEXT: '1'>, metadata={}, hash='e888ce5d638bcbbd7b49965b0bac8cf3e5979451232636061c7500eda6f7cf1d'), <NodeRelationship.PREVIOUS: '2'>: RelatedNodeInfo(node_id='5963ca54-bb17-4193-bcf6-93716c13d3b0', node_type=<ObjectType.TEXT: '1'>, metadata={}, hash='957379d8c86fd222fffebe5be8c68a9de7d91a94edfc2b1fef20dbe116612f3f'), <NodeRelationship.PARENT: '4'>: RelatedNodeInfo(node_id='4d61e77a-45a4-4025-80fa-aed6112e05a2', node_type=<ObjectType.TEXT: '1'>, metadata={}, hash='e888ce5d638bcbbd7b49965b0bac8cf3e5979451232636061c7500eda6f7cf1d'), <NodeRelationship.CHILD: '5'>: [RelatedNodeInfo(node_id='05b71f15-4eb9-459a-9b07-ddff8fb69ac3', node_type=<ObjectType.TEXT: '1'>, metadata={}, hash='10e5bdbfedc9b5248149a60306c46ec041b7de3691f163125c07b38dd82c7e14')]}, text='5. \\nBukan Penduduk adalah orang, badan hukum, atau badan \\nlainnya, yang tidak berdomisili di \\nIndonesia \\natau \\nberdomisili di Indonesia kurang dari 1 (satu) tahun, \\ntermasuk perwakilan dan staf diplomatik negara lain di \\nIndonesia.', start_char_idx=1296, end_char_idx=1527, text_template='{metadata_str}\\n\\n{content}', metadata_template='{key}: {value}', metadata_seperator='\\n'),\n",
       " TextNode(id_='b111a064-7864-494e-9eb3-529c6d90abc6', embedding=None, metadata={}, excluded_embed_metadata_keys=[], excluded_llm_metadata_keys=[], relationships={<NodeRelationship.SOURCE: '1'>: RelatedNodeInfo(node_id='5963ca54-bb17-4193-bcf6-93716c13d3b0', node_type=<ObjectType.TEXT: '1'>, metadata={}, hash='957379d8c86fd222fffebe5be8c68a9de7d91a94edfc2b1fef20dbe116612f3f'), <NodeRelationship.NEXT: '3'>: RelatedNodeInfo(node_id='19fee113-ec4f-46e5-a5d7-dd94d0ad2e6d', node_type=<ObjectType.TEXT: '1'>, metadata={}, hash='dd29674c121aa3a505c1cb6915af689472c2b5d157d9a3b0ae9f738e3dfba8de'), <NodeRelationship.PARENT: '4'>: RelatedNodeInfo(node_id='5963ca54-bb17-4193-bcf6-93716c13d3b0', node_type=<ObjectType.TEXT: '1'>, metadata={}, hash='957379d8c86fd222fffebe5be8c68a9de7d91a94edfc2b1fef20dbe116612f3f')}, text='- 2 -  \\n \\n \\n \\n \\nUndang-Undang Nomor 2 Tahun 2008 tentang Perubahan \\nKedua atas Undang-Undang Nomor 23 Tahun 1999 tentang \\nBank Indonesia Menjadi Undang-Undang (Lembaran \\nNegara Republik Indonesia Tahun 2009 Nomor 7, \\nTambahan Lembaran Negara Republik Indonesia Nomor \\n4962);', start_char_idx=0, end_char_idx=274, text_template='{metadata_str}\\n\\n{content}', metadata_template='{key}: {value}', metadata_seperator='\\n'),\n",
       " TextNode(id_='19fee113-ec4f-46e5-a5d7-dd94d0ad2e6d', embedding=None, metadata={}, excluded_embed_metadata_keys=[], excluded_llm_metadata_keys=[], relationships={<NodeRelationship.SOURCE: '1'>: RelatedNodeInfo(node_id='5963ca54-bb17-4193-bcf6-93716c13d3b0', node_type=<ObjectType.TEXT: '1'>, metadata={}, hash='957379d8c86fd222fffebe5be8c68a9de7d91a94edfc2b1fef20dbe116612f3f'), <NodeRelationship.PREVIOUS: '2'>: RelatedNodeInfo(node_id='b111a064-7864-494e-9eb3-529c6d90abc6', node_type=<ObjectType.TEXT: '1'>, metadata={}, hash='e1ba03436171785e738cf55f99362e3642c1f7d9d5d84dd0f1cc4a82a04100ac'), <NodeRelationship.NEXT: '3'>: RelatedNodeInfo(node_id='0ce661f7-b7d5-4c01-973a-1489c2126cf8', node_type=<ObjectType.TEXT: '1'>, metadata={}, hash='a87834f8236bcccaf4541af5f67f1a7eb18f4b57267cdd862dd49710870edd8f'), <NodeRelationship.PARENT: '4'>: RelatedNodeInfo(node_id='5963ca54-bb17-4193-bcf6-93716c13d3b0', node_type=<ObjectType.TEXT: '1'>, metadata={}, hash='957379d8c86fd222fffebe5be8c68a9de7d91a94edfc2b1fef20dbe116612f3f')}, text='Tambahan Lembaran Negara Republik Indonesia Nomor \\n4962); \\n \\nMEMUTUSKAN: \\nMenetapkan  : PERATURAN \\nBANK \\nINDONESIA \\nTENTANG \\nKEBIJAKAN \\nPENGGUNAAN RUPIAH PADA KEGIATAN INTERNASIONAL. \\n \\nBAB I \\nKETENTUAN UMUM \\n \\nPasal 1 \\n \\n \\nDalam Peraturan Bank Indonesia ini yang dimaksud dengan:  \\n1.', start_char_idx=217, end_char_idx=502, text_template='{metadata_str}\\n\\n{content}', metadata_template='{key}: {value}', metadata_seperator='\\n'),\n",
       " TextNode(id_='0ce661f7-b7d5-4c01-973a-1489c2126cf8', embedding=None, metadata={}, excluded_embed_metadata_keys=[], excluded_llm_metadata_keys=[], relationships={<NodeRelationship.SOURCE: '1'>: RelatedNodeInfo(node_id='5963ca54-bb17-4193-bcf6-93716c13d3b0', node_type=<ObjectType.TEXT: '1'>, metadata={}, hash='957379d8c86fd222fffebe5be8c68a9de7d91a94edfc2b1fef20dbe116612f3f'), <NodeRelationship.PREVIOUS: '2'>: RelatedNodeInfo(node_id='19fee113-ec4f-46e5-a5d7-dd94d0ad2e6d', node_type=<ObjectType.TEXT: '1'>, metadata={}, hash='dd29674c121aa3a505c1cb6915af689472c2b5d157d9a3b0ae9f738e3dfba8de'), <NodeRelationship.NEXT: '3'>: RelatedNodeInfo(node_id='fe4f9ff5-b3e8-40a4-91ea-2dd6ac3b53a4', node_type=<ObjectType.TEXT: '1'>, metadata={}, hash='0c414a57b57109f0dce1125561a6202cce0f4d5fef248514ca85f669110d92a5'), <NodeRelationship.PARENT: '4'>: RelatedNodeInfo(node_id='5963ca54-bb17-4193-bcf6-93716c13d3b0', node_type=<ObjectType.TEXT: '1'>, metadata={}, hash='957379d8c86fd222fffebe5be8c68a9de7d91a94edfc2b1fef20dbe116612f3f')}, text='Rupiah adalah mata uang Negara Kesatuan Republik \\nIndonesia yang berlaku sebagai alat pembayaran yang sah \\ndi wilayah Negara Kesatuan Republik Indonesia. \\n2. \\nUang Rupiah adalah uang kertas maupun uang logam yang \\nmerupakan alat pembayaran yang sah di wilayah Negara \\nKesatuan Republik Indonesia. \\n3.', start_char_idx=504, end_char_idx=804, text_template='{metadata_str}\\n\\n{content}', metadata_template='{key}: {value}', metadata_seperator='\\n'),\n",
       " TextNode(id_='fe4f9ff5-b3e8-40a4-91ea-2dd6ac3b53a4', embedding=None, metadata={}, excluded_embed_metadata_keys=[], excluded_llm_metadata_keys=[], relationships={<NodeRelationship.SOURCE: '1'>: RelatedNodeInfo(node_id='5963ca54-bb17-4193-bcf6-93716c13d3b0', node_type=<ObjectType.TEXT: '1'>, metadata={}, hash='957379d8c86fd222fffebe5be8c68a9de7d91a94edfc2b1fef20dbe116612f3f'), <NodeRelationship.PREVIOUS: '2'>: RelatedNodeInfo(node_id='0ce661f7-b7d5-4c01-973a-1489c2126cf8', node_type=<ObjectType.TEXT: '1'>, metadata={}, hash='a87834f8236bcccaf4541af5f67f1a7eb18f4b57267cdd862dd49710870edd8f'), <NodeRelationship.NEXT: '3'>: RelatedNodeInfo(node_id='b4e48751-e209-4108-bf5a-054a6b660590', node_type=<ObjectType.TEXT: '1'>, metadata={}, hash='151a349fe40183b7d19d1f3ae171aa3ebfe990a1aab28e992f7b7c1e5814049e'), <NodeRelationship.PARENT: '4'>: RelatedNodeInfo(node_id='5963ca54-bb17-4193-bcf6-93716c13d3b0', node_type=<ObjectType.TEXT: '1'>, metadata={}, hash='957379d8c86fd222fffebe5be8c68a9de7d91a94edfc2b1fef20dbe116612f3f')}, text='3. \\nWilayah Negara Kesatuan Republik Indonesia adalah \\nseluruh wilayah teritorial Indonesia, termasuk kapal dan \\npesawat terbang yang berbendera Republik Indonesia, \\nKedutaan Republik Indonesia, dan kantor perwakilan \\nRepublik Indonesia lainnya di luar negeri. \\n4.', start_char_idx=802, end_char_idx=1066, text_template='{metadata_str}\\n\\n{content}', metadata_template='{key}: {value}', metadata_seperator='\\n'),\n",
       " TextNode(id_='b4e48751-e209-4108-bf5a-054a6b660590', embedding=None, metadata={}, excluded_embed_metadata_keys=[], excluded_llm_metadata_keys=[], relationships={<NodeRelationship.SOURCE: '1'>: RelatedNodeInfo(node_id='5963ca54-bb17-4193-bcf6-93716c13d3b0', node_type=<ObjectType.TEXT: '1'>, metadata={}, hash='957379d8c86fd222fffebe5be8c68a9de7d91a94edfc2b1fef20dbe116612f3f'), <NodeRelationship.PREVIOUS: '2'>: RelatedNodeInfo(node_id='fe4f9ff5-b3e8-40a4-91ea-2dd6ac3b53a4', node_type=<ObjectType.TEXT: '1'>, metadata={}, hash='0c414a57b57109f0dce1125561a6202cce0f4d5fef248514ca85f669110d92a5'), <NodeRelationship.PARENT: '4'>: RelatedNodeInfo(node_id='5963ca54-bb17-4193-bcf6-93716c13d3b0', node_type=<ObjectType.TEXT: '1'>, metadata={}, hash='957379d8c86fd222fffebe5be8c68a9de7d91a94edfc2b1fef20dbe116612f3f')}, text='4. \\nPenduduk adalah orang, badan hukum, atau badan \\nlainnya, yang berdomisili atau berencana berdomisili di \\nIndonesia sekurang-kurangnya 1 (satu) tahun, termasuk \\nperwakilan dan staf diplomatik Republik Indonesia di luar \\nnegeri. \\n5.', start_char_idx=1064, end_char_idx=1298, text_template='{metadata_str}\\n\\n{content}', metadata_template='{key}: {value}', metadata_seperator='\\n'),\n",
       " TextNode(id_='05b71f15-4eb9-459a-9b07-ddff8fb69ac3', embedding=None, metadata={}, excluded_embed_metadata_keys=[], excluded_llm_metadata_keys=[], relationships={<NodeRelationship.SOURCE: '1'>: RelatedNodeInfo(node_id='2282aee6-265b-40cd-9d34-e6b83e371d95', node_type=<ObjectType.TEXT: '1'>, metadata={}, hash='10e5bdbfedc9b5248149a60306c46ec041b7de3691f163125c07b38dd82c7e14'), <NodeRelationship.PARENT: '4'>: RelatedNodeInfo(node_id='2282aee6-265b-40cd-9d34-e6b83e371d95', node_type=<ObjectType.TEXT: '1'>, metadata={}, hash='10e5bdbfedc9b5248149a60306c46ec041b7de3691f163125c07b38dd82c7e14')}, text='5. \\nBukan Penduduk adalah orang, badan hukum, atau badan \\nlainnya, yang tidak berdomisili di \\nIndonesia \\natau \\nberdomisili di Indonesia kurang dari 1 (satu) tahun, \\ntermasuk perwakilan dan staf diplomatik negara lain di \\nIndonesia.', start_char_idx=0, end_char_idx=231, text_template='{metadata_str}\\n\\n{content}', metadata_template='{key}: {value}', metadata_seperator='\\n'),\n",
       " TextNode(id_='b56d69df-e2a5-4395-96bf-aaec10c53036', embedding=None, metadata={}, excluded_embed_metadata_keys=[], excluded_llm_metadata_keys=[], relationships={<NodeRelationship.SOURCE: '1'>: RelatedNodeInfo(node_id='bea3c50d-ab25-4da9-87d1-aee06e560687', node_type=<ObjectType.DOCUMENT: '4'>, metadata={}, hash='2d2d29efe087451fc86a9b4005e9add0335961be61cc3a3a22dd756739223199'), <NodeRelationship.CHILD: '5'>: [RelatedNodeInfo(node_id='e76764ac-2506-492f-928e-8026bef32c49', node_type=<ObjectType.TEXT: '1'>, metadata={}, hash='a16513f77740e3c111450120d60a0c4de1380346ef186498b3c16b84343f194f')]}, text='- 3 -  \\n \\nPasal 2 \\nBank Indonesia menetapkan kebijakan penggunaan Rupiah \\npada kegiatan internasional untuk: \\na. \\nmencapai dan memelihara kestabilan nilai Rupiah dan \\nkestabilan sistem keuangan; dan \\nb. \\nmencegah dan mengurangi risiko di bidang moneter. \\n \\n Pasal 3 \\nKebijakan penggunaan Rupiah pada kegiatan internasional \\ndilakukan berdasarkan prinsip: \\na. \\npenggunaan Rupiah hanya dapat dilakukan di dalam \\nWilayah Negara Kesatuan Republik Indonesia; dan \\nb. \\ndalam hal Rupiah digunakan di luar Wilayah Negara \\nKesatuan Republik Indonesia, penggunaannya dapat \\ndilakukan secara terbatas sepanjang memberikan dampak \\ndan manfaat positif bagi perekonomian Indonesia dengan \\nmemperhatikan: \\n1. \\nkondisi, ukuran, dan tingkat keterbukaan ekonomi \\nnasional;  \\n2. \\nkondisi, \\nketerbukaan, \\ndan \\nkedalaman \\npasar \\nkeuangan; dan \\n3. \\nkesiapan institusional dan infrastruktur. \\n \\nBAB II \\nRUANG LINGKUP PENGGUNAAN RUPIAH  \\nPADA KEGIATAN INTERNASIONAL \\n \\nBagian Kesatu \\nUmum \\n \\nPasal 4 \\n(1) \\nRuang \\nlingkup \\npenggunaan \\nRupiah \\npada \\nkegiatan \\ninternasional meliputi: \\na. \\npenggunaan Rupiah di luar Wilayah Negara Kesatuan \\nRepublik Indonesia; dan \\nb. \\npenggunaan Rupiah oleh Bukan Penduduk di dalam \\nWilayah Negara Kesatuan Republik Indonesia.', start_char_idx=0, end_char_idx=1234, text_template='{metadata_str}\\n\\n{content}', metadata_template='{key}: {value}', metadata_seperator='\\n'),\n",
       " TextNode(id_='e76764ac-2506-492f-928e-8026bef32c49', embedding=None, metadata={}, excluded_embed_metadata_keys=[], excluded_llm_metadata_keys=[], relationships={<NodeRelationship.SOURCE: '1'>: RelatedNodeInfo(node_id='b56d69df-e2a5-4395-96bf-aaec10c53036', node_type=<ObjectType.TEXT: '1'>, metadata={}, hash='a16513f77740e3c111450120d60a0c4de1380346ef186498b3c16b84343f194f'), <NodeRelationship.PARENT: '4'>: RelatedNodeInfo(node_id='b56d69df-e2a5-4395-96bf-aaec10c53036', node_type=<ObjectType.TEXT: '1'>, metadata={}, hash='a16513f77740e3c111450120d60a0c4de1380346ef186498b3c16b84343f194f'), <NodeRelationship.CHILD: '5'>: [RelatedNodeInfo(node_id='0551ba54-419c-4b27-b52b-6504fc041241', node_type=<ObjectType.TEXT: '1'>, metadata={}, hash='c80de743beb78a071723d12e24e531248d3758f95a1600d62efea2265cd5e3de'), RelatedNodeInfo(node_id='448da5cb-4ac3-4df6-89b9-63a8a53456b3', node_type=<ObjectType.TEXT: '1'>, metadata={}, hash='838a518d368b827346b013b9fccd696c3912636b413fc3c2313707b10c100366'), RelatedNodeInfo(node_id='4ee3b1ea-a492-4055-b460-ecbf8c82ce18', node_type=<ObjectType.TEXT: '1'>, metadata={}, hash='286e05574060864fd99ff37c12efb3db61293a422f003f53030b5ac6888991d9'), RelatedNodeInfo(node_id='cd9fea38-94e1-4ec3-ac2c-f38b11bf2d1d', node_type=<ObjectType.TEXT: '1'>, metadata={}, hash='9eaaeb008176e213c5756bf8dcbfd94930543faade25c18538dfaa8c1b2bca64'), RelatedNodeInfo(node_id='cae7a462-4e1e-4f90-989c-62bc28e2e658', node_type=<ObjectType.TEXT: '1'>, metadata={}, hash='3774b67ab74da188a2ae784a3fa732a73c5dcb9854150698b36befeb62eb19b0')]}, text='- 3 -  \\n \\nPasal 2 \\nBank Indonesia menetapkan kebijakan penggunaan Rupiah \\npada kegiatan internasional untuk: \\na. \\nmencapai dan memelihara kestabilan nilai Rupiah dan \\nkestabilan sistem keuangan; dan \\nb. \\nmencegah dan mengurangi risiko di bidang moneter. \\n \\n Pasal 3 \\nKebijakan penggunaan Rupiah pada kegiatan internasional \\ndilakukan berdasarkan prinsip: \\na. \\npenggunaan Rupiah hanya dapat dilakukan di dalam \\nWilayah Negara Kesatuan Republik Indonesia; dan \\nb. \\ndalam hal Rupiah digunakan di luar Wilayah Negara \\nKesatuan Republik Indonesia, penggunaannya dapat \\ndilakukan secara terbatas sepanjang memberikan dampak \\ndan manfaat positif bagi perekonomian Indonesia dengan \\nmemperhatikan: \\n1. \\nkondisi, ukuran, dan tingkat keterbukaan ekonomi \\nnasional;  \\n2. \\nkondisi, \\nketerbukaan, \\ndan \\nkedalaman \\npasar \\nkeuangan; dan \\n3. \\nkesiapan institusional dan infrastruktur. \\n \\nBAB II \\nRUANG LINGKUP PENGGUNAAN RUPIAH  \\nPADA KEGIATAN INTERNASIONAL \\n \\nBagian Kesatu \\nUmum \\n \\nPasal 4 \\n(1) \\nRuang \\nlingkup \\npenggunaan \\nRupiah \\npada \\nkegiatan \\ninternasional meliputi: \\na. \\npenggunaan Rupiah di luar Wilayah Negara Kesatuan \\nRepublik Indonesia; dan \\nb. \\npenggunaan Rupiah oleh Bukan Penduduk di dalam \\nWilayah Negara Kesatuan Republik Indonesia.', start_char_idx=0, end_char_idx=1234, text_template='{metadata_str}\\n\\n{content}', metadata_template='{key}: {value}', metadata_seperator='\\n'),\n",
       " TextNode(id_='0551ba54-419c-4b27-b52b-6504fc041241', embedding=None, metadata={}, excluded_embed_metadata_keys=[], excluded_llm_metadata_keys=[], relationships={<NodeRelationship.SOURCE: '1'>: RelatedNodeInfo(node_id='e76764ac-2506-492f-928e-8026bef32c49', node_type=<ObjectType.TEXT: '1'>, metadata={}, hash='a16513f77740e3c111450120d60a0c4de1380346ef186498b3c16b84343f194f'), <NodeRelationship.NEXT: '3'>: RelatedNodeInfo(node_id='448da5cb-4ac3-4df6-89b9-63a8a53456b3', node_type=<ObjectType.TEXT: '1'>, metadata={}, hash='838a518d368b827346b013b9fccd696c3912636b413fc3c2313707b10c100366'), <NodeRelationship.PARENT: '4'>: RelatedNodeInfo(node_id='e76764ac-2506-492f-928e-8026bef32c49', node_type=<ObjectType.TEXT: '1'>, metadata={}, hash='a16513f77740e3c111450120d60a0c4de1380346ef186498b3c16b84343f194f')}, text='- 3 -  \\n \\nPasal 2 \\nBank Indonesia menetapkan kebijakan penggunaan Rupiah \\npada kegiatan internasional untuk: \\na. \\nmencapai dan memelihara kestabilan nilai Rupiah dan \\nkestabilan sistem keuangan; dan \\nb. \\nmencegah dan mengurangi risiko di bidang moneter. \\n \\n Pasal 3 \\nKebijakan penggunaan Rupiah pada kegiatan internasional \\ndilakukan berdasarkan prinsip: \\na.', start_char_idx=0, end_char_idx=358, text_template='{metadata_str}\\n\\n{content}', metadata_template='{key}: {value}', metadata_seperator='\\n'),\n",
       " TextNode(id_='448da5cb-4ac3-4df6-89b9-63a8a53456b3', embedding=None, metadata={}, excluded_embed_metadata_keys=[], excluded_llm_metadata_keys=[], relationships={<NodeRelationship.SOURCE: '1'>: RelatedNodeInfo(node_id='e76764ac-2506-492f-928e-8026bef32c49', node_type=<ObjectType.TEXT: '1'>, metadata={}, hash='a16513f77740e3c111450120d60a0c4de1380346ef186498b3c16b84343f194f'), <NodeRelationship.PREVIOUS: '2'>: RelatedNodeInfo(node_id='0551ba54-419c-4b27-b52b-6504fc041241', node_type=<ObjectType.TEXT: '1'>, metadata={}, hash='c80de743beb78a071723d12e24e531248d3758f95a1600d62efea2265cd5e3de'), <NodeRelationship.NEXT: '3'>: RelatedNodeInfo(node_id='4ee3b1ea-a492-4055-b460-ecbf8c82ce18', node_type=<ObjectType.TEXT: '1'>, metadata={}, hash='286e05574060864fd99ff37c12efb3db61293a422f003f53030b5ac6888991d9'), <NodeRelationship.PARENT: '4'>: RelatedNodeInfo(node_id='e76764ac-2506-492f-928e-8026bef32c49', node_type=<ObjectType.TEXT: '1'>, metadata={}, hash='a16513f77740e3c111450120d60a0c4de1380346ef186498b3c16b84343f194f')}, text='penggunaan Rupiah hanya dapat dilakukan di dalam \\nWilayah Negara Kesatuan Republik Indonesia; dan \\nb. \\ndalam hal Rupiah digunakan di luar Wilayah Negara \\nKesatuan Republik Indonesia, penggunaannya dapat \\ndilakukan secara terbatas sepanjang memberikan dampak \\ndan manfaat positif bagi perekonomian Indonesia dengan \\nmemperhatikan: \\n1. \\nkondisi, ukuran, dan tingkat keterbukaan ekonomi \\nnasional;  \\n2.', start_char_idx=360, end_char_idx=759, text_template='{metadata_str}\\n\\n{content}', metadata_template='{key}: {value}', metadata_seperator='\\n'),\n",
       " TextNode(id_='4ee3b1ea-a492-4055-b460-ecbf8c82ce18', embedding=None, metadata={}, excluded_embed_metadata_keys=[], excluded_llm_metadata_keys=[], relationships={<NodeRelationship.SOURCE: '1'>: RelatedNodeInfo(node_id='e76764ac-2506-492f-928e-8026bef32c49', node_type=<ObjectType.TEXT: '1'>, metadata={}, hash='a16513f77740e3c111450120d60a0c4de1380346ef186498b3c16b84343f194f'), <NodeRelationship.PREVIOUS: '2'>: RelatedNodeInfo(node_id='448da5cb-4ac3-4df6-89b9-63a8a53456b3', node_type=<ObjectType.TEXT: '1'>, metadata={}, hash='838a518d368b827346b013b9fccd696c3912636b413fc3c2313707b10c100366'), <NodeRelationship.NEXT: '3'>: RelatedNodeInfo(node_id='cd9fea38-94e1-4ec3-ac2c-f38b11bf2d1d', node_type=<ObjectType.TEXT: '1'>, metadata={}, hash='9eaaeb008176e213c5756bf8dcbfd94930543faade25c18538dfaa8c1b2bca64'), <NodeRelationship.PARENT: '4'>: RelatedNodeInfo(node_id='e76764ac-2506-492f-928e-8026bef32c49', node_type=<ObjectType.TEXT: '1'>, metadata={}, hash='a16513f77740e3c111450120d60a0c4de1380346ef186498b3c16b84343f194f')}, text='dan tingkat keterbukaan ekonomi \\nnasional;  \\n2. \\nkondisi, \\nketerbukaan, \\ndan \\nkedalaman \\npasar \\nkeuangan; dan \\n3. \\nkesiapan institusional dan infrastruktur.', start_char_idx=712, end_char_idx=868, text_template='{metadata_str}\\n\\n{content}', metadata_template='{key}: {value}', metadata_seperator='\\n'),\n",
       " TextNode(id_='cd9fea38-94e1-4ec3-ac2c-f38b11bf2d1d', embedding=None, metadata={}, excluded_embed_metadata_keys=[], excluded_llm_metadata_keys=[], relationships={<NodeRelationship.SOURCE: '1'>: RelatedNodeInfo(node_id='e76764ac-2506-492f-928e-8026bef32c49', node_type=<ObjectType.TEXT: '1'>, metadata={}, hash='a16513f77740e3c111450120d60a0c4de1380346ef186498b3c16b84343f194f'), <NodeRelationship.PREVIOUS: '2'>: RelatedNodeInfo(node_id='4ee3b1ea-a492-4055-b460-ecbf8c82ce18', node_type=<ObjectType.TEXT: '1'>, metadata={}, hash='286e05574060864fd99ff37c12efb3db61293a422f003f53030b5ac6888991d9'), <NodeRelationship.NEXT: '3'>: RelatedNodeInfo(node_id='cae7a462-4e1e-4f90-989c-62bc28e2e658', node_type=<ObjectType.TEXT: '1'>, metadata={}, hash='3774b67ab74da188a2ae784a3fa732a73c5dcb9854150698b36befeb62eb19b0'), <NodeRelationship.PARENT: '4'>: RelatedNodeInfo(node_id='e76764ac-2506-492f-928e-8026bef32c49', node_type=<ObjectType.TEXT: '1'>, metadata={}, hash='a16513f77740e3c111450120d60a0c4de1380346ef186498b3c16b84343f194f')}, text='dan \\n3. \\nkesiapan institusional dan infrastruktur. \\n \\nBAB II \\nRUANG LINGKUP PENGGUNAAN RUPIAH  \\nPADA KEGIATAN INTERNASIONAL \\n \\nBagian Kesatu \\nUmum \\n \\nPasal 4 \\n(1) \\nRuang \\nlingkup \\npenggunaan \\nRupiah \\npada \\nkegiatan \\ninternasional meliputi: \\na. \\npenggunaan Rupiah di luar Wilayah Negara Kesatuan \\nRepublik Indonesia; dan \\nb.', start_char_idx=818, end_char_idx=1141, text_template='{metadata_str}\\n\\n{content}', metadata_template='{key}: {value}', metadata_seperator='\\n'),\n",
       " TextNode(id_='cae7a462-4e1e-4f90-989c-62bc28e2e658', embedding=None, metadata={}, excluded_embed_metadata_keys=[], excluded_llm_metadata_keys=[], relationships={<NodeRelationship.SOURCE: '1'>: RelatedNodeInfo(node_id='e76764ac-2506-492f-928e-8026bef32c49', node_type=<ObjectType.TEXT: '1'>, metadata={}, hash='a16513f77740e3c111450120d60a0c4de1380346ef186498b3c16b84343f194f'), <NodeRelationship.PREVIOUS: '2'>: RelatedNodeInfo(node_id='cd9fea38-94e1-4ec3-ac2c-f38b11bf2d1d', node_type=<ObjectType.TEXT: '1'>, metadata={}, hash='9eaaeb008176e213c5756bf8dcbfd94930543faade25c18538dfaa8c1b2bca64'), <NodeRelationship.PARENT: '4'>: RelatedNodeInfo(node_id='e76764ac-2506-492f-928e-8026bef32c49', node_type=<ObjectType.TEXT: '1'>, metadata={}, hash='a16513f77740e3c111450120d60a0c4de1380346ef186498b3c16b84343f194f')}, text='dan \\nb. \\npenggunaan Rupiah oleh Bukan Penduduk di dalam \\nWilayah Negara Kesatuan Republik Indonesia.', start_char_idx=1134, end_char_idx=1234, text_template='{metadata_str}\\n\\n{content}', metadata_template='{key}: {value}', metadata_seperator='\\n'),\n",
       " TextNode(id_='e8163275-a4bf-493c-842a-475c9ac623a2', embedding=None, metadata={}, excluded_embed_metadata_keys=[], excluded_llm_metadata_keys=[], relationships={<NodeRelationship.SOURCE: '1'>: RelatedNodeInfo(node_id='f8fcb6be-0963-41da-98b0-28960760ff39', node_type=<ObjectType.DOCUMENT: '4'>, metadata={}, hash='4655ab4b45a1d4b78010d84c443e436392e844a63e4c576b4cbfcf740ea764d8'), <NodeRelationship.CHILD: '5'>: [RelatedNodeInfo(node_id='a61215c4-4e05-490e-8cd4-daac9bbe5391', node_type=<ObjectType.TEXT: '1'>, metadata={}, hash='45d39d73dd06c578cbd1d5712195c27d9ab111a716c8c145d0b48246b5dfeef1')]}, text='- 4 -  \\n \\n(2) \\nDalam ruang lingkup penggunaan Rupiah pada kegiatan \\ninternasional sebagaimana dimaksud pada ayat (1) huruf a, \\ntermasuk pula pembawaan Uang Rupiah keluar Wilayah \\nNegara Kesatuan Republik Indonesia. \\n \\nBagian Kedua \\nPenggunaan Rupiah di Luar Wilayah Negara Kesatuan  \\nRepublik Indonesia \\n \\nPasal 5 \\n(1) \\nPenggunaan Rupiah di luar Wilayah Negara Kesatuan \\nRepublik Indonesia dilarang bagi Penduduk dan Bukan \\nPenduduk. \\n(2) \\nBank Indonesia dapat mengatur pengecualian atas \\nlarangan penggunaan Rupiah di luar Wilayah Negara \\nKesatuan Republik Indonesia sebagaimana dimaksud pada \\nayat (1). \\n(3) \\nPengecualian atas larangan penggunaan Rupiah di luar \\nWilayah Negara Kesatuan Republik Indonesia sebagaimana \\ndimaksud pada ayat (2) diberikan dengan pertimbangan: \\na. \\npencapaian tujuan kebijakan penggunaan Rupiah \\npada kegiatan internasional;  \\nb. \\nmanfaat bagi perekonomian nasional dan kestabilan \\nsistem keuangan; dan \\nc. \\npertimbangan lainnya.  \\n(4) \\nPelanggaran terhadap larangan sebagaimana dimaksud \\npada ayat (1) dikenakan sanksi administratif. \\n \\nPasal 6 \\nPenggunaan Rupiah di luar Wilayah Negara Kesatuan Republik \\nIndonesia sebagaimana dimaksud dalam Pasal 5 dilakukan \\ndalam bentuk: \\na. \\nfisik; \\nb. \\nrekening; dan/atau  \\nc. \\ninstrumen keuangan digital.', start_char_idx=0, end_char_idx=1277, text_template='{metadata_str}\\n\\n{content}', metadata_template='{key}: {value}', metadata_seperator='\\n'),\n",
       " TextNode(id_='a61215c4-4e05-490e-8cd4-daac9bbe5391', embedding=None, metadata={}, excluded_embed_metadata_keys=[], excluded_llm_metadata_keys=[], relationships={<NodeRelationship.SOURCE: '1'>: RelatedNodeInfo(node_id='e8163275-a4bf-493c-842a-475c9ac623a2', node_type=<ObjectType.TEXT: '1'>, metadata={}, hash='45d39d73dd06c578cbd1d5712195c27d9ab111a716c8c145d0b48246b5dfeef1'), <NodeRelationship.PARENT: '4'>: RelatedNodeInfo(node_id='e8163275-a4bf-493c-842a-475c9ac623a2', node_type=<ObjectType.TEXT: '1'>, metadata={}, hash='45d39d73dd06c578cbd1d5712195c27d9ab111a716c8c145d0b48246b5dfeef1'), <NodeRelationship.CHILD: '5'>: [RelatedNodeInfo(node_id='6e14ddad-22da-4f80-bd87-65fd86acdf18', node_type=<ObjectType.TEXT: '1'>, metadata={}, hash='0576058442be4b9b84ec93a89c7b0dd887d289d5ea11322c459d7c1860f31f24'), RelatedNodeInfo(node_id='c6c16733-5a91-4fb0-be2d-170521d6ede0', node_type=<ObjectType.TEXT: '1'>, metadata={}, hash='2644a49eeb2246a9d817b5fa1b6b5c173daec89808e6e6ab82d925620d6fd04f'), RelatedNodeInfo(node_id='364bd373-e94f-4bfd-88ff-1927162583e6', node_type=<ObjectType.TEXT: '1'>, metadata={}, hash='95cd26b622e8bb18794ab5d27008b0a1e18c37f79746c880c7f8445fbc2907e3'), RelatedNodeInfo(node_id='693cbe17-59d2-4c16-88c1-0cd08134c0f8', node_type=<ObjectType.TEXT: '1'>, metadata={}, hash='3b64d0e32aeffad47dc0c8c6fee307af407453479918161ffb4e10b10007ca23'), RelatedNodeInfo(node_id='49ea03b7-f8b2-43b8-9029-0f8e4a6af0d3', node_type=<ObjectType.TEXT: '1'>, metadata={}, hash='2ba488c7aa519030949cef765d34d5a05b43eb81eb0b4b8dd4720b6ef3569250')]}, text='- 4 -  \\n \\n(2) \\nDalam ruang lingkup penggunaan Rupiah pada kegiatan \\ninternasional sebagaimana dimaksud pada ayat (1) huruf a, \\ntermasuk pula pembawaan Uang Rupiah keluar Wilayah \\nNegara Kesatuan Republik Indonesia. \\n \\nBagian Kedua \\nPenggunaan Rupiah di Luar Wilayah Negara Kesatuan  \\nRepublik Indonesia \\n \\nPasal 5 \\n(1) \\nPenggunaan Rupiah di luar Wilayah Negara Kesatuan \\nRepublik Indonesia dilarang bagi Penduduk dan Bukan \\nPenduduk. \\n(2) \\nBank Indonesia dapat mengatur pengecualian atas \\nlarangan penggunaan Rupiah di luar Wilayah Negara \\nKesatuan Republik Indonesia sebagaimana dimaksud pada \\nayat (1). \\n(3) \\nPengecualian atas larangan penggunaan Rupiah di luar \\nWilayah Negara Kesatuan Republik Indonesia sebagaimana \\ndimaksud pada ayat (2) diberikan dengan pertimbangan: \\na. \\npencapaian tujuan kebijakan penggunaan Rupiah \\npada kegiatan internasional;  \\nb. \\nmanfaat bagi perekonomian nasional dan kestabilan \\nsistem keuangan; dan \\nc. \\npertimbangan lainnya.  \\n(4) \\nPelanggaran terhadap larangan sebagaimana dimaksud \\npada ayat (1) dikenakan sanksi administratif. \\n \\nPasal 6 \\nPenggunaan Rupiah di luar Wilayah Negara Kesatuan Republik \\nIndonesia sebagaimana dimaksud dalam Pasal 5 dilakukan \\ndalam bentuk: \\na. \\nfisik; \\nb. \\nrekening; dan/atau  \\nc. \\ninstrumen keuangan digital.', start_char_idx=0, end_char_idx=1277, text_template='{metadata_str}\\n\\n{content}', metadata_template='{key}: {value}', metadata_seperator='\\n'),\n",
       " TextNode(id_='6e14ddad-22da-4f80-bd87-65fd86acdf18', embedding=None, metadata={}, excluded_embed_metadata_keys=[], excluded_llm_metadata_keys=[], relationships={<NodeRelationship.SOURCE: '1'>: RelatedNodeInfo(node_id='a61215c4-4e05-490e-8cd4-daac9bbe5391', node_type=<ObjectType.TEXT: '1'>, metadata={}, hash='45d39d73dd06c578cbd1d5712195c27d9ab111a716c8c145d0b48246b5dfeef1'), <NodeRelationship.NEXT: '3'>: RelatedNodeInfo(node_id='c6c16733-5a91-4fb0-be2d-170521d6ede0', node_type=<ObjectType.TEXT: '1'>, metadata={}, hash='2644a49eeb2246a9d817b5fa1b6b5c173daec89808e6e6ab82d925620d6fd04f'), <NodeRelationship.PARENT: '4'>: RelatedNodeInfo(node_id='a61215c4-4e05-490e-8cd4-daac9bbe5391', node_type=<ObjectType.TEXT: '1'>, metadata={}, hash='45d39d73dd06c578cbd1d5712195c27d9ab111a716c8c145d0b48246b5dfeef1')}, text='- 4 -  \\n \\n(2) \\nDalam ruang lingkup penggunaan Rupiah pada kegiatan \\ninternasional sebagaimana dimaksud pada ayat (1) huruf a, \\ntermasuk pula pembawaan Uang Rupiah keluar Wilayah \\nNegara Kesatuan Republik Indonesia.', start_char_idx=0, end_char_idx=214, text_template='{metadata_str}\\n\\n{content}', metadata_template='{key}: {value}', metadata_seperator='\\n'),\n",
       " TextNode(id_='c6c16733-5a91-4fb0-be2d-170521d6ede0', embedding=None, metadata={}, excluded_embed_metadata_keys=[], excluded_llm_metadata_keys=[], relationships={<NodeRelationship.SOURCE: '1'>: RelatedNodeInfo(node_id='a61215c4-4e05-490e-8cd4-daac9bbe5391', node_type=<ObjectType.TEXT: '1'>, metadata={}, hash='45d39d73dd06c578cbd1d5712195c27d9ab111a716c8c145d0b48246b5dfeef1'), <NodeRelationship.PREVIOUS: '2'>: RelatedNodeInfo(node_id='6e14ddad-22da-4f80-bd87-65fd86acdf18', node_type=<ObjectType.TEXT: '1'>, metadata={}, hash='0576058442be4b9b84ec93a89c7b0dd887d289d5ea11322c459d7c1860f31f24'), <NodeRelationship.NEXT: '3'>: RelatedNodeInfo(node_id='364bd373-e94f-4bfd-88ff-1927162583e6', node_type=<ObjectType.TEXT: '1'>, metadata={}, hash='95cd26b622e8bb18794ab5d27008b0a1e18c37f79746c880c7f8445fbc2907e3'), <NodeRelationship.PARENT: '4'>: RelatedNodeInfo(node_id='a61215c4-4e05-490e-8cd4-daac9bbe5391', node_type=<ObjectType.TEXT: '1'>, metadata={}, hash='45d39d73dd06c578cbd1d5712195c27d9ab111a716c8c145d0b48246b5dfeef1')}, text='Bagian Kedua \\nPenggunaan Rupiah di Luar Wilayah Negara Kesatuan  \\nRepublik Indonesia \\n \\nPasal 5 \\n(1) \\nPenggunaan Rupiah di luar Wilayah Negara Kesatuan \\nRepublik Indonesia dilarang bagi Penduduk dan Bukan \\nPenduduk.', start_char_idx=218, end_char_idx=433, text_template='{metadata_str}\\n\\n{content}', metadata_template='{key}: {value}', metadata_seperator='\\n'),\n",
       " TextNode(id_='364bd373-e94f-4bfd-88ff-1927162583e6', embedding=None, metadata={}, excluded_embed_metadata_keys=[], excluded_llm_metadata_keys=[], relationships={<NodeRelationship.SOURCE: '1'>: RelatedNodeInfo(node_id='a61215c4-4e05-490e-8cd4-daac9bbe5391', node_type=<ObjectType.TEXT: '1'>, metadata={}, hash='45d39d73dd06c578cbd1d5712195c27d9ab111a716c8c145d0b48246b5dfeef1'), <NodeRelationship.PREVIOUS: '2'>: RelatedNodeInfo(node_id='c6c16733-5a91-4fb0-be2d-170521d6ede0', node_type=<ObjectType.TEXT: '1'>, metadata={}, hash='2644a49eeb2246a9d817b5fa1b6b5c173daec89808e6e6ab82d925620d6fd04f'), <NodeRelationship.NEXT: '3'>: RelatedNodeInfo(node_id='693cbe17-59d2-4c16-88c1-0cd08134c0f8', node_type=<ObjectType.TEXT: '1'>, metadata={}, hash='3b64d0e32aeffad47dc0c8c6fee307af407453479918161ffb4e10b10007ca23'), <NodeRelationship.PARENT: '4'>: RelatedNodeInfo(node_id='a61215c4-4e05-490e-8cd4-daac9bbe5391', node_type=<ObjectType.TEXT: '1'>, metadata={}, hash='45d39d73dd06c578cbd1d5712195c27d9ab111a716c8c145d0b48246b5dfeef1')}, text='(2) \\nBank Indonesia dapat mengatur pengecualian atas \\nlarangan penggunaan Rupiah di luar Wilayah Negara \\nKesatuan Republik Indonesia sebagaimana dimaksud pada \\nayat (1).', start_char_idx=435, end_char_idx=604, text_template='{metadata_str}\\n\\n{content}', metadata_template='{key}: {value}', metadata_seperator='\\n'),\n",
       " TextNode(id_='693cbe17-59d2-4c16-88c1-0cd08134c0f8', embedding=None, metadata={}, excluded_embed_metadata_keys=[], excluded_llm_metadata_keys=[], relationships={<NodeRelationship.SOURCE: '1'>: RelatedNodeInfo(node_id='a61215c4-4e05-490e-8cd4-daac9bbe5391', node_type=<ObjectType.TEXT: '1'>, metadata={}, hash='45d39d73dd06c578cbd1d5712195c27d9ab111a716c8c145d0b48246b5dfeef1'), <NodeRelationship.PREVIOUS: '2'>: RelatedNodeInfo(node_id='364bd373-e94f-4bfd-88ff-1927162583e6', node_type=<ObjectType.TEXT: '1'>, metadata={}, hash='95cd26b622e8bb18794ab5d27008b0a1e18c37f79746c880c7f8445fbc2907e3'), <NodeRelationship.NEXT: '3'>: RelatedNodeInfo(node_id='49ea03b7-f8b2-43b8-9029-0f8e4a6af0d3', node_type=<ObjectType.TEXT: '1'>, metadata={}, hash='2ba488c7aa519030949cef765d34d5a05b43eb81eb0b4b8dd4720b6ef3569250'), <NodeRelationship.PARENT: '4'>: RelatedNodeInfo(node_id='a61215c4-4e05-490e-8cd4-daac9bbe5391', node_type=<ObjectType.TEXT: '1'>, metadata={}, hash='45d39d73dd06c578cbd1d5712195c27d9ab111a716c8c145d0b48246b5dfeef1')}, text='(3) \\nPengecualian atas larangan penggunaan Rupiah di luar \\nWilayah Negara Kesatuan Republik Indonesia sebagaimana \\ndimaksud pada ayat (2) diberikan dengan pertimbangan: \\na. \\npencapaian tujuan kebijakan penggunaan Rupiah \\npada kegiatan internasional;  \\nb. \\nmanfaat bagi perekonomian nasional dan kestabilan \\nsistem keuangan; dan \\nc. \\npertimbangan lainnya.', start_char_idx=606, end_char_idx=960, text_template='{metadata_str}\\n\\n{content}', metadata_template='{key}: {value}', metadata_seperator='\\n'),\n",
       " TextNode(id_='49ea03b7-f8b2-43b8-9029-0f8e4a6af0d3', embedding=None, metadata={}, excluded_embed_metadata_keys=[], excluded_llm_metadata_keys=[], relationships={<NodeRelationship.SOURCE: '1'>: RelatedNodeInfo(node_id='a61215c4-4e05-490e-8cd4-daac9bbe5391', node_type=<ObjectType.TEXT: '1'>, metadata={}, hash='45d39d73dd06c578cbd1d5712195c27d9ab111a716c8c145d0b48246b5dfeef1'), <NodeRelationship.PREVIOUS: '2'>: RelatedNodeInfo(node_id='693cbe17-59d2-4c16-88c1-0cd08134c0f8', node_type=<ObjectType.TEXT: '1'>, metadata={}, hash='3b64d0e32aeffad47dc0c8c6fee307af407453479918161ffb4e10b10007ca23'), <NodeRelationship.PARENT: '4'>: RelatedNodeInfo(node_id='a61215c4-4e05-490e-8cd4-daac9bbe5391', node_type=<ObjectType.TEXT: '1'>, metadata={}, hash='45d39d73dd06c578cbd1d5712195c27d9ab111a716c8c145d0b48246b5dfeef1')}, text='(4) \\nPelanggaran terhadap larangan sebagaimana dimaksud \\npada ayat (1) dikenakan sanksi administratif. \\n \\nPasal 6 \\nPenggunaan Rupiah di luar Wilayah Negara Kesatuan Republik \\nIndonesia sebagaimana dimaksud dalam Pasal 5 dilakukan \\ndalam bentuk: \\na. \\nfisik; \\nb. \\nrekening; dan/atau  \\nc. \\ninstrumen keuangan digital.', start_char_idx=963, end_char_idx=1277, text_template='{metadata_str}\\n\\n{content}', metadata_template='{key}: {value}', metadata_seperator='\\n'),\n",
       " TextNode(id_='bc57f823-6206-47aa-9f5c-5ae9257cf993', embedding=None, metadata={}, excluded_embed_metadata_keys=[], excluded_llm_metadata_keys=[], relationships={<NodeRelationship.SOURCE: '1'>: RelatedNodeInfo(node_id='261021a1-fcd9-412a-916a-ed81e52104f0', node_type=<ObjectType.DOCUMENT: '4'>, metadata={}, hash='ec96c076d78b436eedc56cf957292470b5ad133f9737ca2b94c493b3a8564d98'), <NodeRelationship.CHILD: '5'>: [RelatedNodeInfo(node_id='2d807b64-4e4b-4229-8121-336d4c2ff85b', node_type=<ObjectType.TEXT: '1'>, metadata={}, hash='54dbd89660ef895c3dc0d2fa0e9dadb5044a8d5da31798d28dabea55f712a437')]}, text='- 5 -  \\n \\nPasal 7 \\nPenggunaan Rupiah di luar Wilayah Negara Kesatuan Republik \\nIndonesia sebagaimana dimaksud dalam Pasal 5 dilakukan \\ndalam: \\na. \\nkuotasi; \\nb. \\ntransaksi keuangan; dan/atau  \\nc. \\npenyelesaian transaksi keuangan.  \\n \\nPasal 8 \\nKetentuan lebih lanjut mengenai kebijakan penggunaan Rupiah \\ndi luar Wilayah Negara Kesatuan Republik Indonesia diatur \\ndalam Peraturan Bank Indonesia. \\n \\nBagian Ketiga \\nPenggunaan Rupiah oleh Bukan Penduduk di Dalam  \\nWilayah Negara Kesatuan Republik Indonesia \\n \\nPasal 9 \\n(1) \\nPenggunaan Rupiah oleh Bukan Penduduk di dalam \\nWilayah Negara Kesatuan Republik Indonesia wajib \\ndidukung dengan underlying kegiatan perekonomian.  \\n(2) \\nUnderlying kegiatan perekonomian sebagaimana dimaksud \\npada ayat (1) meliputi:   \\na. \\nkegiatan transaksi berjalan; \\nb. \\nkegiatan transaksi finansial; \\nc. \\nkegiatan transaksi modal; dan \\nd. \\nunderlying transaksi lain yang ditetapkan oleh Bank \\nIndonesia. \\n(3) \\nPelanggaran terhadap kewajiban sebagaimana dimaksud \\npada ayat (1) dikenakan sanksi administratif. \\n \\nPasal 10 \\n(1) Bank Indonesia dapat mengatur pembatasan penggunaan \\nRupiah pada kegiatan tertentu oleh Bukan Penduduk di \\ndalam Wilayah Negara Kesatuan Republik Indonesia dan \\npengecualiannya.', start_char_idx=0, end_char_idx=1229, text_template='{metadata_str}\\n\\n{content}', metadata_template='{key}: {value}', metadata_seperator='\\n'),\n",
       " TextNode(id_='2d807b64-4e4b-4229-8121-336d4c2ff85b', embedding=None, metadata={}, excluded_embed_metadata_keys=[], excluded_llm_metadata_keys=[], relationships={<NodeRelationship.SOURCE: '1'>: RelatedNodeInfo(node_id='bc57f823-6206-47aa-9f5c-5ae9257cf993', node_type=<ObjectType.TEXT: '1'>, metadata={}, hash='54dbd89660ef895c3dc0d2fa0e9dadb5044a8d5da31798d28dabea55f712a437'), <NodeRelationship.PARENT: '4'>: RelatedNodeInfo(node_id='bc57f823-6206-47aa-9f5c-5ae9257cf993', node_type=<ObjectType.TEXT: '1'>, metadata={}, hash='54dbd89660ef895c3dc0d2fa0e9dadb5044a8d5da31798d28dabea55f712a437'), <NodeRelationship.CHILD: '5'>: [RelatedNodeInfo(node_id='d9e8a2f5-61cb-4efd-a440-c6ef385a9c3d', node_type=<ObjectType.TEXT: '1'>, metadata={}, hash='db6f8a19741a7db22a2259a467b6a81259c8cc7a2a00c2c7e164df13253e30c9'), RelatedNodeInfo(node_id='631cb829-9994-4005-9ecc-3af293fd0a37', node_type=<ObjectType.TEXT: '1'>, metadata={}, hash='9cd7e27a28612e2231bcef3ce9ad068d406aeaee178347101b2f789e4942c0bc'), RelatedNodeInfo(node_id='1182c6d2-7579-4e7a-8af6-b44aaf4228c5', node_type=<ObjectType.TEXT: '1'>, metadata={}, hash='90cb897b7fe9a3d718349a072514024fb5fecce6b7dcd3272947fd6b9d6be7a5'), RelatedNodeInfo(node_id='4abf2b2f-898b-4ec1-bed0-2a91e43a699a', node_type=<ObjectType.TEXT: '1'>, metadata={}, hash='32eb3f44494fccbe5e1508e70bb2583c4371bba6f743c8a01d1f13011bba8b8b'), RelatedNodeInfo(node_id='1de55728-8c9c-4c50-a52c-df094ebbef20', node_type=<ObjectType.TEXT: '1'>, metadata={}, hash='67a501383902e105ce0be1f30a1142089f255b2902f2968cf824142337214aec')]}, text='- 5 -  \\n \\nPasal 7 \\nPenggunaan Rupiah di luar Wilayah Negara Kesatuan Republik \\nIndonesia sebagaimana dimaksud dalam Pasal 5 dilakukan \\ndalam: \\na. \\nkuotasi; \\nb. \\ntransaksi keuangan; dan/atau  \\nc. \\npenyelesaian transaksi keuangan.  \\n \\nPasal 8 \\nKetentuan lebih lanjut mengenai kebijakan penggunaan Rupiah \\ndi luar Wilayah Negara Kesatuan Republik Indonesia diatur \\ndalam Peraturan Bank Indonesia. \\n \\nBagian Ketiga \\nPenggunaan Rupiah oleh Bukan Penduduk di Dalam  \\nWilayah Negara Kesatuan Republik Indonesia \\n \\nPasal 9 \\n(1) \\nPenggunaan Rupiah oleh Bukan Penduduk di dalam \\nWilayah Negara Kesatuan Republik Indonesia wajib \\ndidukung dengan underlying kegiatan perekonomian.  \\n(2) \\nUnderlying kegiatan perekonomian sebagaimana dimaksud \\npada ayat (1) meliputi:   \\na. \\nkegiatan transaksi berjalan; \\nb. \\nkegiatan transaksi finansial; \\nc. \\nkegiatan transaksi modal; dan \\nd. \\nunderlying transaksi lain yang ditetapkan oleh Bank \\nIndonesia. \\n(3) \\nPelanggaran terhadap kewajiban sebagaimana dimaksud \\npada ayat (1) dikenakan sanksi administratif. \\n \\nPasal 10 \\n(1) Bank Indonesia dapat mengatur pembatasan penggunaan \\nRupiah pada kegiatan tertentu oleh Bukan Penduduk di \\ndalam Wilayah Negara Kesatuan Republik Indonesia dan \\npengecualiannya.', start_char_idx=0, end_char_idx=1229, text_template='{metadata_str}\\n\\n{content}', metadata_template='{key}: {value}', metadata_seperator='\\n'),\n",
       " TextNode(id_='d9e8a2f5-61cb-4efd-a440-c6ef385a9c3d', embedding=None, metadata={}, excluded_embed_metadata_keys=[], excluded_llm_metadata_keys=[], relationships={<NodeRelationship.SOURCE: '1'>: RelatedNodeInfo(node_id='2d807b64-4e4b-4229-8121-336d4c2ff85b', node_type=<ObjectType.TEXT: '1'>, metadata={}, hash='54dbd89660ef895c3dc0d2fa0e9dadb5044a8d5da31798d28dabea55f712a437'), <NodeRelationship.NEXT: '3'>: RelatedNodeInfo(node_id='631cb829-9994-4005-9ecc-3af293fd0a37', node_type=<ObjectType.TEXT: '1'>, metadata={}, hash='9cd7e27a28612e2231bcef3ce9ad068d406aeaee178347101b2f789e4942c0bc'), <NodeRelationship.PARENT: '4'>: RelatedNodeInfo(node_id='2d807b64-4e4b-4229-8121-336d4c2ff85b', node_type=<ObjectType.TEXT: '1'>, metadata={}, hash='54dbd89660ef895c3dc0d2fa0e9dadb5044a8d5da31798d28dabea55f712a437')}, text='- 5 -  \\n \\nPasal 7 \\nPenggunaan Rupiah di luar Wilayah Negara Kesatuan Republik \\nIndonesia sebagaimana dimaksud dalam Pasal 5 dilakukan \\ndalam: \\na. \\nkuotasi; \\nb. \\ntransaksi keuangan; dan/atau  \\nc. \\npenyelesaian transaksi keuangan.', start_char_idx=0, end_char_idx=228, text_template='{metadata_str}\\n\\n{content}', metadata_template='{key}: {value}', metadata_seperator='\\n'),\n",
       " TextNode(id_='631cb829-9994-4005-9ecc-3af293fd0a37', embedding=None, metadata={}, excluded_embed_metadata_keys=[], excluded_llm_metadata_keys=[], relationships={<NodeRelationship.SOURCE: '1'>: RelatedNodeInfo(node_id='2d807b64-4e4b-4229-8121-336d4c2ff85b', node_type=<ObjectType.TEXT: '1'>, metadata={}, hash='54dbd89660ef895c3dc0d2fa0e9dadb5044a8d5da31798d28dabea55f712a437'), <NodeRelationship.PREVIOUS: '2'>: RelatedNodeInfo(node_id='d9e8a2f5-61cb-4efd-a440-c6ef385a9c3d', node_type=<ObjectType.TEXT: '1'>, metadata={}, hash='db6f8a19741a7db22a2259a467b6a81259c8cc7a2a00c2c7e164df13253e30c9'), <NodeRelationship.NEXT: '3'>: RelatedNodeInfo(node_id='1182c6d2-7579-4e7a-8af6-b44aaf4228c5', node_type=<ObjectType.TEXT: '1'>, metadata={}, hash='90cb897b7fe9a3d718349a072514024fb5fecce6b7dcd3272947fd6b9d6be7a5'), <NodeRelationship.PARENT: '4'>: RelatedNodeInfo(node_id='2d807b64-4e4b-4229-8121-336d4c2ff85b', node_type=<ObjectType.TEXT: '1'>, metadata={}, hash='54dbd89660ef895c3dc0d2fa0e9dadb5044a8d5da31798d28dabea55f712a437')}, text='Pasal 8 \\nKetentuan lebih lanjut mengenai kebijakan penggunaan Rupiah \\ndi luar Wilayah Negara Kesatuan Republik Indonesia diatur \\ndalam Peraturan Bank Indonesia.', start_char_idx=233, end_char_idx=393, text_template='{metadata_str}\\n\\n{content}', metadata_template='{key}: {value}', metadata_seperator='\\n'),\n",
       " TextNode(id_='1182c6d2-7579-4e7a-8af6-b44aaf4228c5', embedding=None, metadata={}, excluded_embed_metadata_keys=[], excluded_llm_metadata_keys=[], relationships={<NodeRelationship.SOURCE: '1'>: RelatedNodeInfo(node_id='2d807b64-4e4b-4229-8121-336d4c2ff85b', node_type=<ObjectType.TEXT: '1'>, metadata={}, hash='54dbd89660ef895c3dc0d2fa0e9dadb5044a8d5da31798d28dabea55f712a437'), <NodeRelationship.PREVIOUS: '2'>: RelatedNodeInfo(node_id='631cb829-9994-4005-9ecc-3af293fd0a37', node_type=<ObjectType.TEXT: '1'>, metadata={}, hash='9cd7e27a28612e2231bcef3ce9ad068d406aeaee178347101b2f789e4942c0bc'), <NodeRelationship.NEXT: '3'>: RelatedNodeInfo(node_id='4abf2b2f-898b-4ec1-bed0-2a91e43a699a', node_type=<ObjectType.TEXT: '1'>, metadata={}, hash='32eb3f44494fccbe5e1508e70bb2583c4371bba6f743c8a01d1f13011bba8b8b'), <NodeRelationship.PARENT: '4'>: RelatedNodeInfo(node_id='2d807b64-4e4b-4229-8121-336d4c2ff85b', node_type=<ObjectType.TEXT: '1'>, metadata={}, hash='54dbd89660ef895c3dc0d2fa0e9dadb5044a8d5da31798d28dabea55f712a437')}, text='Bagian Ketiga \\nPenggunaan Rupiah oleh Bukan Penduduk di Dalam  \\nWilayah Negara Kesatuan Republik Indonesia \\n \\nPasal 9 \\n(1) \\nPenggunaan Rupiah oleh Bukan Penduduk di dalam \\nWilayah Negara Kesatuan Republik Indonesia wajib \\ndidukung dengan underlying kegiatan perekonomian.', start_char_idx=397, end_char_idx=668, text_template='{metadata_str}\\n\\n{content}', metadata_template='{key}: {value}', metadata_seperator='\\n'),\n",
       " TextNode(id_='4abf2b2f-898b-4ec1-bed0-2a91e43a699a', embedding=None, metadata={}, excluded_embed_metadata_keys=[], excluded_llm_metadata_keys=[], relationships={<NodeRelationship.SOURCE: '1'>: RelatedNodeInfo(node_id='2d807b64-4e4b-4229-8121-336d4c2ff85b', node_type=<ObjectType.TEXT: '1'>, metadata={}, hash='54dbd89660ef895c3dc0d2fa0e9dadb5044a8d5da31798d28dabea55f712a437'), <NodeRelationship.PREVIOUS: '2'>: RelatedNodeInfo(node_id='1182c6d2-7579-4e7a-8af6-b44aaf4228c5', node_type=<ObjectType.TEXT: '1'>, metadata={}, hash='90cb897b7fe9a3d718349a072514024fb5fecce6b7dcd3272947fd6b9d6be7a5'), <NodeRelationship.NEXT: '3'>: RelatedNodeInfo(node_id='1de55728-8c9c-4c50-a52c-df094ebbef20', node_type=<ObjectType.TEXT: '1'>, metadata={}, hash='67a501383902e105ce0be1f30a1142089f255b2902f2968cf824142337214aec'), <NodeRelationship.PARENT: '4'>: RelatedNodeInfo(node_id='2d807b64-4e4b-4229-8121-336d4c2ff85b', node_type=<ObjectType.TEXT: '1'>, metadata={}, hash='54dbd89660ef895c3dc0d2fa0e9dadb5044a8d5da31798d28dabea55f712a437')}, text='(2) \\nUnderlying kegiatan perekonomian sebagaimana dimaksud \\npada ayat (1) meliputi:   \\na. \\nkegiatan transaksi berjalan; \\nb. \\nkegiatan transaksi finansial; \\nc. \\nkegiatan transaksi modal; dan \\nd. \\nunderlying transaksi lain yang ditetapkan oleh Bank \\nIndonesia. \\n(3) \\nPelanggaran terhadap kewajiban sebagaimana dimaksud \\npada ayat (1) dikenakan sanksi administratif.', start_char_idx=671, end_char_idx=1034, text_template='{metadata_str}\\n\\n{content}', metadata_template='{key}: {value}', metadata_seperator='\\n'),\n",
       " TextNode(id_='1de55728-8c9c-4c50-a52c-df094ebbef20', embedding=None, metadata={}, excluded_embed_metadata_keys=[], excluded_llm_metadata_keys=[], relationships={<NodeRelationship.SOURCE: '1'>: RelatedNodeInfo(node_id='2d807b64-4e4b-4229-8121-336d4c2ff85b', node_type=<ObjectType.TEXT: '1'>, metadata={}, hash='54dbd89660ef895c3dc0d2fa0e9dadb5044a8d5da31798d28dabea55f712a437'), <NodeRelationship.PREVIOUS: '2'>: RelatedNodeInfo(node_id='4abf2b2f-898b-4ec1-bed0-2a91e43a699a', node_type=<ObjectType.TEXT: '1'>, metadata={}, hash='32eb3f44494fccbe5e1508e70bb2583c4371bba6f743c8a01d1f13011bba8b8b'), <NodeRelationship.PARENT: '4'>: RelatedNodeInfo(node_id='2d807b64-4e4b-4229-8121-336d4c2ff85b', node_type=<ObjectType.TEXT: '1'>, metadata={}, hash='54dbd89660ef895c3dc0d2fa0e9dadb5044a8d5da31798d28dabea55f712a437')}, text='Pasal 10 \\n(1) Bank Indonesia dapat mengatur pembatasan penggunaan \\nRupiah pada kegiatan tertentu oleh Bukan Penduduk di \\ndalam Wilayah Negara Kesatuan Republik Indonesia dan \\npengecualiannya.', start_char_idx=1038, end_char_idx=1229, text_template='{metadata_str}\\n\\n{content}', metadata_template='{key}: {value}', metadata_seperator='\\n'),\n",
       " TextNode(id_='180cfb5a-b607-437b-bbc6-792ea1840079', embedding=None, metadata={}, excluded_embed_metadata_keys=[], excluded_llm_metadata_keys=[], relationships={<NodeRelationship.SOURCE: '1'>: RelatedNodeInfo(node_id='0e163008-2d15-4339-a680-6428c184a285', node_type=<ObjectType.DOCUMENT: '4'>, metadata={}, hash='4f208d5ecc9e63e565c80fe81535fc2930ee001da9e847b51dc1c386647f3c41'), <NodeRelationship.CHILD: '5'>: [RelatedNodeInfo(node_id='8b15f9ce-59ab-47ab-b579-0bbae1a64a35', node_type=<ObjectType.TEXT: '1'>, metadata={}, hash='d4df68ec65b5ef744b792bab53f75e3e34f34d0a6ff46b1ac6245a902e111df4')]}, text='- 6 -  \\n \\n(2) Pembatasan penggunaan Rupiah pada kegiatan tertentu \\ndan pengecualiannya sebagaimana dimaksud pada ayat (1) \\ndilakukan dengan pertimbangan: \\na. \\npencapaian tujuan kebijakan penggunaan Rupiah \\npada kegiatan internasional; \\nb. \\nmanfaat bagi perekonomian nasional dan kestabilan \\nsistem keuangan; dan \\nc. \\npertimbangan lainnya.  \\n \\nPasal 11 \\nKetentuan lebih lanjut mengenai kebijakan penggunaan Rupiah \\noleh Bukan Penduduk di dalam Wilayah Negara Kesatuan \\nRepublik Indonesia diatur dalam Peraturan Bank Indonesia. \\n \\nBAB III \\nPENGAWASAN \\n \\nPasal 12 \\n(1) \\nBank Indonesia melakukan pengawasan penggunaan \\nRupiah pada kegiatan internasional. \\n(2) \\nPengawasan \\nsebagaimana \\ndimaksud \\npada \\nayat \\n(1) \\ndilakukan melalui: \\na. \\npengawasan tidak langsung; dan/atau \\nb. \\npemeriksaan. \\n(3) \\nDalam melakukan pengawasan sebagaimana dimaksud \\npada ayat (1), Bank Indonesia dapat meminta data, \\ninformasi, dan keterangan yang diperlukan kepada \\nPenduduk dan Bukan Penduduk. \\n(4) \\nPengawasan \\nsebagaimana \\ndimaksud \\npada \\nayat \\n(1) \\ndilaksanakan sesuai dengan ketentuan Peraturan Bank \\nIndonesia.', start_char_idx=0, end_char_idx=1093, text_template='{metadata_str}\\n\\n{content}', metadata_template='{key}: {value}', metadata_seperator='\\n'),\n",
       " TextNode(id_='8b15f9ce-59ab-47ab-b579-0bbae1a64a35', embedding=None, metadata={}, excluded_embed_metadata_keys=[], excluded_llm_metadata_keys=[], relationships={<NodeRelationship.SOURCE: '1'>: RelatedNodeInfo(node_id='180cfb5a-b607-437b-bbc6-792ea1840079', node_type=<ObjectType.TEXT: '1'>, metadata={}, hash='d4df68ec65b5ef744b792bab53f75e3e34f34d0a6ff46b1ac6245a902e111df4'), <NodeRelationship.PARENT: '4'>: RelatedNodeInfo(node_id='180cfb5a-b607-437b-bbc6-792ea1840079', node_type=<ObjectType.TEXT: '1'>, metadata={}, hash='d4df68ec65b5ef744b792bab53f75e3e34f34d0a6ff46b1ac6245a902e111df4'), <NodeRelationship.CHILD: '5'>: [RelatedNodeInfo(node_id='721e21c6-fa75-409a-ab7d-eca417afad61', node_type=<ObjectType.TEXT: '1'>, metadata={}, hash='8c52aa20657673147da117843d12b8cd0914f3c3a98e71b10966793b591175e0'), RelatedNodeInfo(node_id='c918d805-e52e-4519-bc3e-c2ccfe025300', node_type=<ObjectType.TEXT: '1'>, metadata={}, hash='fb965156b6b2c745c109078af34d04a80b5293e391a3d32da2a894bb16894d1d'), RelatedNodeInfo(node_id='f02e2726-0dab-4b76-8743-c0e6e67ae9b6', node_type=<ObjectType.TEXT: '1'>, metadata={}, hash='c5ba35fc2e5ca6c97141f621aad3897dfc543d585b3849c757b3e4ed174d29ed'), RelatedNodeInfo(node_id='99157939-6341-46c6-801d-1d9adeb5fd8c', node_type=<ObjectType.TEXT: '1'>, metadata={}, hash='f650b7ca5655989092afe76b9f9da2185951619cc2eabefe91b46511aaaf1b27')]}, text='- 6 -  \\n \\n(2) Pembatasan penggunaan Rupiah pada kegiatan tertentu \\ndan pengecualiannya sebagaimana dimaksud pada ayat (1) \\ndilakukan dengan pertimbangan: \\na. \\npencapaian tujuan kebijakan penggunaan Rupiah \\npada kegiatan internasional; \\nb. \\nmanfaat bagi perekonomian nasional dan kestabilan \\nsistem keuangan; dan \\nc. \\npertimbangan lainnya.  \\n \\nPasal 11 \\nKetentuan lebih lanjut mengenai kebijakan penggunaan Rupiah \\noleh Bukan Penduduk di dalam Wilayah Negara Kesatuan \\nRepublik Indonesia diatur dalam Peraturan Bank Indonesia. \\n \\nBAB III \\nPENGAWASAN \\n \\nPasal 12 \\n(1) \\nBank Indonesia melakukan pengawasan penggunaan \\nRupiah pada kegiatan internasional. \\n(2) \\nPengawasan \\nsebagaimana \\ndimaksud \\npada \\nayat \\n(1) \\ndilakukan melalui: \\na. \\npengawasan tidak langsung; dan/atau \\nb. \\npemeriksaan. \\n(3) \\nDalam melakukan pengawasan sebagaimana dimaksud \\npada ayat (1), Bank Indonesia dapat meminta data, \\ninformasi, dan keterangan yang diperlukan kepada \\nPenduduk dan Bukan Penduduk. \\n(4) \\nPengawasan \\nsebagaimana \\ndimaksud \\npada \\nayat \\n(1) \\ndilaksanakan sesuai dengan ketentuan Peraturan Bank \\nIndonesia.', start_char_idx=0, end_char_idx=1093, text_template='{metadata_str}\\n\\n{content}', metadata_template='{key}: {value}', metadata_seperator='\\n'),\n",
       " TextNode(id_='721e21c6-fa75-409a-ab7d-eca417afad61', embedding=None, metadata={}, excluded_embed_metadata_keys=[], excluded_llm_metadata_keys=[], relationships={<NodeRelationship.SOURCE: '1'>: RelatedNodeInfo(node_id='8b15f9ce-59ab-47ab-b579-0bbae1a64a35', node_type=<ObjectType.TEXT: '1'>, metadata={}, hash='d4df68ec65b5ef744b792bab53f75e3e34f34d0a6ff46b1ac6245a902e111df4'), <NodeRelationship.NEXT: '3'>: RelatedNodeInfo(node_id='c918d805-e52e-4519-bc3e-c2ccfe025300', node_type=<ObjectType.TEXT: '1'>, metadata={}, hash='fb965156b6b2c745c109078af34d04a80b5293e391a3d32da2a894bb16894d1d'), <NodeRelationship.PARENT: '4'>: RelatedNodeInfo(node_id='8b15f9ce-59ab-47ab-b579-0bbae1a64a35', node_type=<ObjectType.TEXT: '1'>, metadata={}, hash='d4df68ec65b5ef744b792bab53f75e3e34f34d0a6ff46b1ac6245a902e111df4')}, text='- 6 -  \\n \\n(2) Pembatasan penggunaan Rupiah pada kegiatan tertentu \\ndan pengecualiannya sebagaimana dimaksud pada ayat (1) \\ndilakukan dengan pertimbangan: \\na. \\npencapaian tujuan kebijakan penggunaan Rupiah \\npada kegiatan internasional; \\nb. \\nmanfaat bagi perekonomian nasional dan kestabilan \\nsistem keuangan; dan \\nc. \\npertimbangan lainnya.', start_char_idx=0, end_char_idx=338, text_template='{metadata_str}\\n\\n{content}', metadata_template='{key}: {value}', metadata_seperator='\\n'),\n",
       " TextNode(id_='c918d805-e52e-4519-bc3e-c2ccfe025300', embedding=None, metadata={}, excluded_embed_metadata_keys=[], excluded_llm_metadata_keys=[], relationships={<NodeRelationship.SOURCE: '1'>: RelatedNodeInfo(node_id='8b15f9ce-59ab-47ab-b579-0bbae1a64a35', node_type=<ObjectType.TEXT: '1'>, metadata={}, hash='d4df68ec65b5ef744b792bab53f75e3e34f34d0a6ff46b1ac6245a902e111df4'), <NodeRelationship.PREVIOUS: '2'>: RelatedNodeInfo(node_id='721e21c6-fa75-409a-ab7d-eca417afad61', node_type=<ObjectType.TEXT: '1'>, metadata={}, hash='8c52aa20657673147da117843d12b8cd0914f3c3a98e71b10966793b591175e0'), <NodeRelationship.NEXT: '3'>: RelatedNodeInfo(node_id='f02e2726-0dab-4b76-8743-c0e6e67ae9b6', node_type=<ObjectType.TEXT: '1'>, metadata={}, hash='c5ba35fc2e5ca6c97141f621aad3897dfc543d585b3849c757b3e4ed174d29ed'), <NodeRelationship.PARENT: '4'>: RelatedNodeInfo(node_id='8b15f9ce-59ab-47ab-b579-0bbae1a64a35', node_type=<ObjectType.TEXT: '1'>, metadata={}, hash='d4df68ec65b5ef744b792bab53f75e3e34f34d0a6ff46b1ac6245a902e111df4')}, text='Pasal 11 \\nKetentuan lebih lanjut mengenai kebijakan penggunaan Rupiah \\noleh Bukan Penduduk di dalam Wilayah Negara Kesatuan \\nRepublik Indonesia diatur dalam Peraturan Bank Indonesia. \\n \\nBAB III \\nPENGAWASAN \\n \\nPasal 12 \\n(1) \\nBank Indonesia melakukan pengawasan penggunaan \\nRupiah pada kegiatan internasional.', start_char_idx=343, end_char_idx=650, text_template='{metadata_str}\\n\\n{content}', metadata_template='{key}: {value}', metadata_seperator='\\n'),\n",
       " TextNode(id_='f02e2726-0dab-4b76-8743-c0e6e67ae9b6', embedding=None, metadata={}, excluded_embed_metadata_keys=[], excluded_llm_metadata_keys=[], relationships={<NodeRelationship.SOURCE: '1'>: RelatedNodeInfo(node_id='8b15f9ce-59ab-47ab-b579-0bbae1a64a35', node_type=<ObjectType.TEXT: '1'>, metadata={}, hash='d4df68ec65b5ef744b792bab53f75e3e34f34d0a6ff46b1ac6245a902e111df4'), <NodeRelationship.PREVIOUS: '2'>: RelatedNodeInfo(node_id='c918d805-e52e-4519-bc3e-c2ccfe025300', node_type=<ObjectType.TEXT: '1'>, metadata={}, hash='fb965156b6b2c745c109078af34d04a80b5293e391a3d32da2a894bb16894d1d'), <NodeRelationship.NEXT: '3'>: RelatedNodeInfo(node_id='99157939-6341-46c6-801d-1d9adeb5fd8c', node_type=<ObjectType.TEXT: '1'>, metadata={}, hash='f650b7ca5655989092afe76b9f9da2185951619cc2eabefe91b46511aaaf1b27'), <NodeRelationship.PARENT: '4'>: RelatedNodeInfo(node_id='8b15f9ce-59ab-47ab-b579-0bbae1a64a35', node_type=<ObjectType.TEXT: '1'>, metadata={}, hash='d4df68ec65b5ef744b792bab53f75e3e34f34d0a6ff46b1ac6245a902e111df4')}, text='(2) \\nPengawasan \\nsebagaimana \\ndimaksud \\npada \\nayat \\n(1) \\ndilakukan melalui: \\na. \\npengawasan tidak langsung; dan/atau \\nb. \\npemeriksaan. \\n(3) \\nDalam melakukan pengawasan sebagaimana dimaksud \\npada ayat (1), Bank Indonesia dapat meminta data, \\ninformasi, dan keterangan yang diperlukan kepada \\nPenduduk dan Bukan Penduduk.', start_char_idx=652, end_char_idx=971, text_template='{metadata_str}\\n\\n{content}', metadata_template='{key}: {value}', metadata_seperator='\\n'),\n",
       " TextNode(id_='99157939-6341-46c6-801d-1d9adeb5fd8c', embedding=None, metadata={}, excluded_embed_metadata_keys=[], excluded_llm_metadata_keys=[], relationships={<NodeRelationship.SOURCE: '1'>: RelatedNodeInfo(node_id='8b15f9ce-59ab-47ab-b579-0bbae1a64a35', node_type=<ObjectType.TEXT: '1'>, metadata={}, hash='d4df68ec65b5ef744b792bab53f75e3e34f34d0a6ff46b1ac6245a902e111df4'), <NodeRelationship.PREVIOUS: '2'>: RelatedNodeInfo(node_id='f02e2726-0dab-4b76-8743-c0e6e67ae9b6', node_type=<ObjectType.TEXT: '1'>, metadata={}, hash='c5ba35fc2e5ca6c97141f621aad3897dfc543d585b3849c757b3e4ed174d29ed'), <NodeRelationship.PARENT: '4'>: RelatedNodeInfo(node_id='8b15f9ce-59ab-47ab-b579-0bbae1a64a35', node_type=<ObjectType.TEXT: '1'>, metadata={}, hash='d4df68ec65b5ef744b792bab53f75e3e34f34d0a6ff46b1ac6245a902e111df4')}, text='(4) \\nPengawasan \\nsebagaimana \\ndimaksud \\npada \\nayat \\n(1) \\ndilaksanakan sesuai dengan ketentuan Peraturan Bank \\nIndonesia.', start_char_idx=973, end_char_idx=1093, text_template='{metadata_str}\\n\\n{content}', metadata_template='{key}: {value}', metadata_seperator='\\n'),\n",
       " TextNode(id_='7975befc-e2a5-4eb4-8d4f-1220388c3605', embedding=None, metadata={}, excluded_embed_metadata_keys=[], excluded_llm_metadata_keys=[], relationships={<NodeRelationship.SOURCE: '1'>: RelatedNodeInfo(node_id='9311df29-0f7b-4fca-9976-3a591c1dad4b', node_type=<ObjectType.DOCUMENT: '4'>, metadata={}, hash='40260fed80520a730b66ae405fec903db684e88ad47ec264e0e8617653d17dd9'), <NodeRelationship.CHILD: '5'>: [RelatedNodeInfo(node_id='b2e596bb-e6f0-4853-b3cb-6c0d9c115d11', node_type=<ObjectType.TEXT: '1'>, metadata={}, hash='37fbd286d52d078ecaa9748efa7f033bd2591ae63b910ef3464c485fff6a3acd')]}, text='- 7 -  \\n \\nBAB IV \\nKOORDINASI \\n \\nPasal 13 \\nBank Indonesia dapat melakukan koordinasi dengan otoritas, \\ninstansi, lembaga, dan/atau pihak lainnya dalam mendukung \\nkebijakan penggunaan Rupiah pada kegiatan internasional. \\n \\nBAB V \\nKETENTUAN PENUTUP \\n \\nPasal 14 \\nPeraturan Bank Indonesia ini mulai berlaku pada tanggal           \\ndiundangkan.', start_char_idx=0, end_char_idx=338, text_template='{metadata_str}\\n\\n{content}', metadata_template='{key}: {value}', metadata_seperator='\\n'),\n",
       " TextNode(id_='b2e596bb-e6f0-4853-b3cb-6c0d9c115d11', embedding=None, metadata={}, excluded_embed_metadata_keys=[], excluded_llm_metadata_keys=[], relationships={<NodeRelationship.SOURCE: '1'>: RelatedNodeInfo(node_id='7975befc-e2a5-4eb4-8d4f-1220388c3605', node_type=<ObjectType.TEXT: '1'>, metadata={}, hash='37fbd286d52d078ecaa9748efa7f033bd2591ae63b910ef3464c485fff6a3acd'), <NodeRelationship.PARENT: '4'>: RelatedNodeInfo(node_id='7975befc-e2a5-4eb4-8d4f-1220388c3605', node_type=<ObjectType.TEXT: '1'>, metadata={}, hash='37fbd286d52d078ecaa9748efa7f033bd2591ae63b910ef3464c485fff6a3acd'), <NodeRelationship.CHILD: '5'>: [RelatedNodeInfo(node_id='eff98214-c064-48b3-850c-de4ab8865166', node_type=<ObjectType.TEXT: '1'>, metadata={}, hash='37fbd286d52d078ecaa9748efa7f033bd2591ae63b910ef3464c485fff6a3acd')]}, text='- 7 -  \\n \\nBAB IV \\nKOORDINASI \\n \\nPasal 13 \\nBank Indonesia dapat melakukan koordinasi dengan otoritas, \\ninstansi, lembaga, dan/atau pihak lainnya dalam mendukung \\nkebijakan penggunaan Rupiah pada kegiatan internasional. \\n \\nBAB V \\nKETENTUAN PENUTUP \\n \\nPasal 14 \\nPeraturan Bank Indonesia ini mulai berlaku pada tanggal           \\ndiundangkan.', start_char_idx=0, end_char_idx=338, text_template='{metadata_str}\\n\\n{content}', metadata_template='{key}: {value}', metadata_seperator='\\n'),\n",
       " TextNode(id_='eff98214-c064-48b3-850c-de4ab8865166', embedding=None, metadata={}, excluded_embed_metadata_keys=[], excluded_llm_metadata_keys=[], relationships={<NodeRelationship.SOURCE: '1'>: RelatedNodeInfo(node_id='b2e596bb-e6f0-4853-b3cb-6c0d9c115d11', node_type=<ObjectType.TEXT: '1'>, metadata={}, hash='37fbd286d52d078ecaa9748efa7f033bd2591ae63b910ef3464c485fff6a3acd'), <NodeRelationship.PARENT: '4'>: RelatedNodeInfo(node_id='b2e596bb-e6f0-4853-b3cb-6c0d9c115d11', node_type=<ObjectType.TEXT: '1'>, metadata={}, hash='37fbd286d52d078ecaa9748efa7f033bd2591ae63b910ef3464c485fff6a3acd')}, text='- 7 -  \\n \\nBAB IV \\nKOORDINASI \\n \\nPasal 13 \\nBank Indonesia dapat melakukan koordinasi dengan otoritas, \\ninstansi, lembaga, dan/atau pihak lainnya dalam mendukung \\nkebijakan penggunaan Rupiah pada kegiatan internasional. \\n \\nBAB V \\nKETENTUAN PENUTUP \\n \\nPasal 14 \\nPeraturan Bank Indonesia ini mulai berlaku pada tanggal           \\ndiundangkan.', start_char_idx=0, end_char_idx=338, text_template='{metadata_str}\\n\\n{content}', metadata_template='{key}: {value}', metadata_seperator='\\n'),\n",
       " TextNode(id_='3aa30bb2-e33b-4062-923a-8b2a427824b0', embedding=None, metadata={}, excluded_embed_metadata_keys=[], excluded_llm_metadata_keys=[], relationships={<NodeRelationship.SOURCE: '1'>: RelatedNodeInfo(node_id='91cbef38-215b-402a-9f95-bd09f39ec025', node_type=<ObjectType.DOCUMENT: '4'>, metadata={}, hash='c311819c229f3ac29430ebf7be358aaec7717f5482c7cf87a6e3d422f034c311'), <NodeRelationship.CHILD: '5'>: [RelatedNodeInfo(node_id='0ba549c0-76ee-4bea-aeac-0576e9ce1593', node_type=<ObjectType.TEXT: '1'>, metadata={}, hash='00748302f86a86e22fe662f5dd008e5a3ff2c81d78fb385391b4019561bb1188')]}, text='- 8 -  \\n \\nAgar \\nsetiap \\norang \\nmengetahuinya, \\nmemerintahkan \\npengundangan \\nPeraturan \\nBank \\nIndonesia \\nini \\ndengan \\npenempatannya dalam Lembaran Negara Republik Indonesia. \\n \\n \\nDitetapkan di Jakarta \\npada tanggal 27 April 2022     \\n \\nGUBERNUR BANK INDONESIA, \\n \\n \\n \\n      TTD \\n \\n      PERRY WARJIYO \\n \\nDiundangkan di Jakarta \\npada tanggal       \\n \\nMENTERI HUKUM DAN HAK ASASI MANUSIA \\nREPUBLIK INDONESIA,  \\n \\n \\n \\nYASONNA H. LAOLY \\n \\n \\n \\nLEMBARAN NEGARA REPUBLIK INDONESIA TAHUN 2022 NOMOR 115 \\n \\n \\n \\n \\n \\nTTD', start_char_idx=0, end_char_idx=508, text_template='{metadata_str}\\n\\n{content}', metadata_template='{key}: {value}', metadata_seperator='\\n'),\n",
       " TextNode(id_='0ba549c0-76ee-4bea-aeac-0576e9ce1593', embedding=None, metadata={}, excluded_embed_metadata_keys=[], excluded_llm_metadata_keys=[], relationships={<NodeRelationship.SOURCE: '1'>: RelatedNodeInfo(node_id='3aa30bb2-e33b-4062-923a-8b2a427824b0', node_type=<ObjectType.TEXT: '1'>, metadata={}, hash='00748302f86a86e22fe662f5dd008e5a3ff2c81d78fb385391b4019561bb1188'), <NodeRelationship.PARENT: '4'>: RelatedNodeInfo(node_id='3aa30bb2-e33b-4062-923a-8b2a427824b0', node_type=<ObjectType.TEXT: '1'>, metadata={}, hash='00748302f86a86e22fe662f5dd008e5a3ff2c81d78fb385391b4019561bb1188'), <NodeRelationship.CHILD: '5'>: [RelatedNodeInfo(node_id='b16e5e80-945a-4838-a722-5c5d5382c4f8', node_type=<ObjectType.TEXT: '1'>, metadata={}, hash='6868898f890cfe22486664d3dde213b0197fdf8743b50039b9b53c69e7457f16'), RelatedNodeInfo(node_id='b667e69f-deaf-412b-a78e-61f85501d3cc', node_type=<ObjectType.TEXT: '1'>, metadata={}, hash='49b620a7807ee70a77a5dd647333c3dbd8aa17c9b751be285027ccd16ad8eed0')]}, text='- 8 -  \\n \\nAgar \\nsetiap \\norang \\nmengetahuinya, \\nmemerintahkan \\npengundangan \\nPeraturan \\nBank \\nIndonesia \\nini \\ndengan \\npenempatannya dalam Lembaran Negara Republik Indonesia. \\n \\n \\nDitetapkan di Jakarta \\npada tanggal 27 April 2022     \\n \\nGUBERNUR BANK INDONESIA, \\n \\n \\n \\n      TTD \\n \\n      PERRY WARJIYO \\n \\nDiundangkan di Jakarta \\npada tanggal       \\n \\nMENTERI HUKUM DAN HAK ASASI MANUSIA \\nREPUBLIK INDONESIA,  \\n \\n \\n \\nYASONNA H. LAOLY \\n \\n \\n \\nLEMBARAN NEGARA REPUBLIK INDONESIA TAHUN 2022 NOMOR 115 \\n \\n \\n \\n \\n \\nTTD', start_char_idx=0, end_char_idx=508, text_template='{metadata_str}\\n\\n{content}', metadata_template='{key}: {value}', metadata_seperator='\\n'),\n",
       " TextNode(id_='b16e5e80-945a-4838-a722-5c5d5382c4f8', embedding=None, metadata={}, excluded_embed_metadata_keys=[], excluded_llm_metadata_keys=[], relationships={<NodeRelationship.SOURCE: '1'>: RelatedNodeInfo(node_id='0ba549c0-76ee-4bea-aeac-0576e9ce1593', node_type=<ObjectType.TEXT: '1'>, metadata={}, hash='00748302f86a86e22fe662f5dd008e5a3ff2c81d78fb385391b4019561bb1188'), <NodeRelationship.NEXT: '3'>: RelatedNodeInfo(node_id='b667e69f-deaf-412b-a78e-61f85501d3cc', node_type=<ObjectType.TEXT: '1'>, metadata={}, hash='49b620a7807ee70a77a5dd647333c3dbd8aa17c9b751be285027ccd16ad8eed0'), <NodeRelationship.PARENT: '4'>: RelatedNodeInfo(node_id='0ba549c0-76ee-4bea-aeac-0576e9ce1593', node_type=<ObjectType.TEXT: '1'>, metadata={}, hash='00748302f86a86e22fe662f5dd008e5a3ff2c81d78fb385391b4019561bb1188')}, text='- 8 -  \\n \\nAgar \\nsetiap \\norang \\nmengetahuinya, \\nmemerintahkan \\npengundangan \\nPeraturan \\nBank \\nIndonesia \\nini \\ndengan \\npenempatannya dalam Lembaran Negara Republik Indonesia.', start_char_idx=0, end_char_idx=172, text_template='{metadata_str}\\n\\n{content}', metadata_template='{key}: {value}', metadata_seperator='\\n'),\n",
       " TextNode(id_='b667e69f-deaf-412b-a78e-61f85501d3cc', embedding=None, metadata={}, excluded_embed_metadata_keys=[], excluded_llm_metadata_keys=[], relationships={<NodeRelationship.SOURCE: '1'>: RelatedNodeInfo(node_id='0ba549c0-76ee-4bea-aeac-0576e9ce1593', node_type=<ObjectType.TEXT: '1'>, metadata={}, hash='00748302f86a86e22fe662f5dd008e5a3ff2c81d78fb385391b4019561bb1188'), <NodeRelationship.PREVIOUS: '2'>: RelatedNodeInfo(node_id='b16e5e80-945a-4838-a722-5c5d5382c4f8', node_type=<ObjectType.TEXT: '1'>, metadata={}, hash='6868898f890cfe22486664d3dde213b0197fdf8743b50039b9b53c69e7457f16'), <NodeRelationship.PARENT: '4'>: RelatedNodeInfo(node_id='0ba549c0-76ee-4bea-aeac-0576e9ce1593', node_type=<ObjectType.TEXT: '1'>, metadata={}, hash='00748302f86a86e22fe662f5dd008e5a3ff2c81d78fb385391b4019561bb1188')}, text='Ditetapkan di Jakarta \\npada tanggal 27 April 2022     \\n \\nGUBERNUR BANK INDONESIA, \\n \\n \\n \\n      TTD \\n \\n      PERRY WARJIYO \\n \\nDiundangkan di Jakarta \\npada tanggal       \\n \\nMENTERI HUKUM DAN HAK ASASI MANUSIA \\nREPUBLIK INDONESIA,  \\n \\n \\n \\nYASONNA H. LAOLY \\n \\n \\n \\nLEMBARAN NEGARA REPUBLIK INDONESIA TAHUN 2022 NOMOR 115 \\n \\n \\n \\n \\n \\nTTD', start_char_idx=178, end_char_idx=508, text_template='{metadata_str}\\n\\n{content}', metadata_template='{key}: {value}', metadata_seperator='\\n'),\n",
       " TextNode(id_='13a5175d-e4e2-42f6-aafa-d43749816759', embedding=None, metadata={}, excluded_embed_metadata_keys=[], excluded_llm_metadata_keys=[], relationships={<NodeRelationship.SOURCE: '1'>: RelatedNodeInfo(node_id='10a3135e-3c05-4409-9e2e-fb54b0aa7919', node_type=<ObjectType.DOCUMENT: '4'>, metadata={}, hash='26624332a643085474bb200773af8544eb9dd011d3e4cf9c4c3fd05582847f23'), <NodeRelationship.CHILD: '5'>: [RelatedNodeInfo(node_id='4b9eb19a-e4cf-4db1-8980-d918013b0c50', node_type=<ObjectType.TEXT: '1'>, metadata={}, hash='44570975840792a57ed9c15763f1a53ec25a524613b6f5b727ff1644e9c6b202')]}, text='PENJELASAN  \\nATAS \\nPERATURAN BANK INDONESIA \\nNOMOR 24/ 6 /PBI/2022 \\nTENTANG \\nKEBIJAKAN PENGGUNAAN RUPIAH PADA KEGIATAN INTERNASIONAL \\n \\nI. \\nUMUM \\nDari sisi fundamental ekonomi, perkembangan transaksi perdagangan \\ninternasional Indonesia masih diwarnai oleh transaksi neraca berjalan \\n(current account) yang cenderung defisit. Sementara itu, kondisi pasar \\nkeuangan, khususnya pasar valuta asing domestik masih cenderung belum \\ndalam. Kondisi ini menyebabkan risiko volatilitas nilai tukar Rupiah yang \\nmasih tinggi.  \\nUntuk mencapai kestabilan nilai tukar Rupiah, Bank Indonesia telah \\nmengatur kebijakan penggunaan Rupiah pada kegiatan internasional \\ndalam beberapa peraturan Bank Indonesia. Secara bertahap, penguatan \\nkebijakan terus dilakukan dari aspek prudential measures dan pelaporan, \\nbaik yang dilakukan oleh bank maupun nonbank. \\nSelanjutnya, untuk memperkuat kebijakan Bank Indonesia dalam \\nmenjaga kestabilan nilai tukar Rupiah dengan mengurangi ketergantungan \\npenggunaan \\nmata \\nuang  \\nnegara \\nutama \\ndalam \\nperdagangan \\ninternasional, dilakukan pengaturan yang memungkinkan penggunaan \\nRupiah di luar Wilayah Negara Kesatuan Republik Indonesia dan \\nmendorong peningkatan peran Rupiah dalam transaksi perdagangan \\ninternasional dan pendalaman pasar keuangan, termasuk pelaksanaan \\nskema penyelesaian transaksi bilateral menggunakan mata uang lokal \\nmelalui bank. Dengan demikian sejalan dengan adanya kebutuhan dari sisi \\nperdagangan dan transaksi keuangan internasional maka penggunaan', start_char_idx=4, end_char_idx=1504, text_template='{metadata_str}\\n\\n{content}', metadata_template='{key}: {value}', metadata_seperator='\\n'),\n",
       " TextNode(id_='4b9eb19a-e4cf-4db1-8980-d918013b0c50', embedding=None, metadata={}, excluded_embed_metadata_keys=[], excluded_llm_metadata_keys=[], relationships={<NodeRelationship.SOURCE: '1'>: RelatedNodeInfo(node_id='13a5175d-e4e2-42f6-aafa-d43749816759', node_type=<ObjectType.TEXT: '1'>, metadata={}, hash='44570975840792a57ed9c15763f1a53ec25a524613b6f5b727ff1644e9c6b202'), <NodeRelationship.PARENT: '4'>: RelatedNodeInfo(node_id='13a5175d-e4e2-42f6-aafa-d43749816759', node_type=<ObjectType.TEXT: '1'>, metadata={}, hash='44570975840792a57ed9c15763f1a53ec25a524613b6f5b727ff1644e9c6b202'), <NodeRelationship.CHILD: '5'>: [RelatedNodeInfo(node_id='d0e300a2-10ce-4489-8283-78ac3a318538', node_type=<ObjectType.TEXT: '1'>, metadata={}, hash='808bf02d3150b784f163818559cfd601a3b1909721b40150c3b908a4cc39d6a7'), RelatedNodeInfo(node_id='7a9ec4b0-8005-4f38-a42a-2973d8437f3b', node_type=<ObjectType.TEXT: '1'>, metadata={}, hash='39e6d12b4943d7869a6e979403f855db356d660fe3ce5266dcdd967dfa3e6104'), RelatedNodeInfo(node_id='20ee55fa-eefb-4c18-8c22-35fa791770fb', node_type=<ObjectType.TEXT: '1'>, metadata={}, hash='01b80dfa098bdeae932a94f3fbb34240d1d97a35515faa1f0b14737716af355c'), RelatedNodeInfo(node_id='774f05ed-32b1-4c99-ac7c-be98d0292303', node_type=<ObjectType.TEXT: '1'>, metadata={}, hash='1f7f4b316bfb7be0592783c09096a505054a2e3147fc164d9cd33c51e6b504d6'), RelatedNodeInfo(node_id='e7c5d947-1487-4fe8-a9a7-7745094b3e8a', node_type=<ObjectType.TEXT: '1'>, metadata={}, hash='1fbfef794e88455962ad8a85e5ae55a37c52124a96c66e220e26537e60018b63')]}, text='PENJELASAN  \\nATAS \\nPERATURAN BANK INDONESIA \\nNOMOR 24/ 6 /PBI/2022 \\nTENTANG \\nKEBIJAKAN PENGGUNAAN RUPIAH PADA KEGIATAN INTERNASIONAL \\n \\nI. \\nUMUM \\nDari sisi fundamental ekonomi, perkembangan transaksi perdagangan \\ninternasional Indonesia masih diwarnai oleh transaksi neraca berjalan \\n(current account) yang cenderung defisit. Sementara itu, kondisi pasar \\nkeuangan, khususnya pasar valuta asing domestik masih cenderung belum \\ndalam. Kondisi ini menyebabkan risiko volatilitas nilai tukar Rupiah yang \\nmasih tinggi.  \\nUntuk mencapai kestabilan nilai tukar Rupiah, Bank Indonesia telah \\nmengatur kebijakan penggunaan Rupiah pada kegiatan internasional \\ndalam beberapa peraturan Bank Indonesia. Secara bertahap, penguatan \\nkebijakan terus dilakukan dari aspek prudential measures dan pelaporan, \\nbaik yang dilakukan oleh bank maupun nonbank. \\nSelanjutnya, untuk memperkuat kebijakan Bank Indonesia dalam \\nmenjaga kestabilan nilai tukar Rupiah dengan mengurangi ketergantungan \\npenggunaan \\nmata \\nuang  \\nnegara \\nutama \\ndalam \\nperdagangan \\ninternasional, dilakukan pengaturan yang memungkinkan penggunaan \\nRupiah di luar Wilayah Negara Kesatuan Republik Indonesia dan \\nmendorong peningkatan peran Rupiah dalam transaksi perdagangan \\ninternasional dan pendalaman pasar keuangan, termasuk pelaksanaan \\nskema penyelesaian transaksi bilateral menggunakan mata uang lokal \\nmelalui bank. Dengan demikian sejalan dengan adanya kebutuhan dari sisi \\nperdagangan dan transaksi keuangan internasional maka penggunaan', start_char_idx=0, end_char_idx=1500, text_template='{metadata_str}\\n\\n{content}', metadata_template='{key}: {value}', metadata_seperator='\\n'),\n",
       " TextNode(id_='d0e300a2-10ce-4489-8283-78ac3a318538', embedding=None, metadata={}, excluded_embed_metadata_keys=[], excluded_llm_metadata_keys=[], relationships={<NodeRelationship.SOURCE: '1'>: RelatedNodeInfo(node_id='4b9eb19a-e4cf-4db1-8980-d918013b0c50', node_type=<ObjectType.TEXT: '1'>, metadata={}, hash='44570975840792a57ed9c15763f1a53ec25a524613b6f5b727ff1644e9c6b202'), <NodeRelationship.NEXT: '3'>: RelatedNodeInfo(node_id='7a9ec4b0-8005-4f38-a42a-2973d8437f3b', node_type=<ObjectType.TEXT: '1'>, metadata={}, hash='39e6d12b4943d7869a6e979403f855db356d660fe3ce5266dcdd967dfa3e6104'), <NodeRelationship.PARENT: '4'>: RelatedNodeInfo(node_id='4b9eb19a-e4cf-4db1-8980-d918013b0c50', node_type=<ObjectType.TEXT: '1'>, metadata={}, hash='44570975840792a57ed9c15763f1a53ec25a524613b6f5b727ff1644e9c6b202')}, text='PENJELASAN  \\nATAS \\nPERATURAN BANK INDONESIA \\nNOMOR 24/ 6 /PBI/2022 \\nTENTANG \\nKEBIJAKAN PENGGUNAAN RUPIAH PADA KEGIATAN INTERNASIONAL \\n \\nI. \\nUMUM \\nDari sisi fundamental ekonomi, perkembangan transaksi perdagangan \\ninternasional Indonesia masih diwarnai oleh transaksi neraca berjalan \\n(current account) yang cenderung defisit.', start_char_idx=0, end_char_idx=325, text_template='{metadata_str}\\n\\n{content}', metadata_template='{key}: {value}', metadata_seperator='\\n'),\n",
       " TextNode(id_='7a9ec4b0-8005-4f38-a42a-2973d8437f3b', embedding=None, metadata={}, excluded_embed_metadata_keys=[], excluded_llm_metadata_keys=[], relationships={<NodeRelationship.SOURCE: '1'>: RelatedNodeInfo(node_id='4b9eb19a-e4cf-4db1-8980-d918013b0c50', node_type=<ObjectType.TEXT: '1'>, metadata={}, hash='44570975840792a57ed9c15763f1a53ec25a524613b6f5b727ff1644e9c6b202'), <NodeRelationship.PREVIOUS: '2'>: RelatedNodeInfo(node_id='d0e300a2-10ce-4489-8283-78ac3a318538', node_type=<ObjectType.TEXT: '1'>, metadata={}, hash='808bf02d3150b784f163818559cfd601a3b1909721b40150c3b908a4cc39d6a7'), <NodeRelationship.NEXT: '3'>: RelatedNodeInfo(node_id='20ee55fa-eefb-4c18-8c22-35fa791770fb', node_type=<ObjectType.TEXT: '1'>, metadata={}, hash='01b80dfa098bdeae932a94f3fbb34240d1d97a35515faa1f0b14737716af355c'), <NodeRelationship.PARENT: '4'>: RelatedNodeInfo(node_id='4b9eb19a-e4cf-4db1-8980-d918013b0c50', node_type=<ObjectType.TEXT: '1'>, metadata={}, hash='44570975840792a57ed9c15763f1a53ec25a524613b6f5b727ff1644e9c6b202')}, text='Sementara itu, kondisi pasar \\nkeuangan, khususnya pasar valuta asing domestik masih cenderung belum \\ndalam. Kondisi ini menyebabkan risiko volatilitas nilai tukar Rupiah yang \\nmasih tinggi.  \\nUntuk mencapai kestabilan nilai tukar Rupiah, Bank Indonesia telah \\nmengatur kebijakan penggunaan Rupiah pada kegiatan internasional \\ndalam beberapa peraturan Bank Indonesia.', start_char_idx=326, end_char_idx=692, text_template='{metadata_str}\\n\\n{content}', metadata_template='{key}: {value}', metadata_seperator='\\n'),\n",
       " TextNode(id_='20ee55fa-eefb-4c18-8c22-35fa791770fb', embedding=None, metadata={}, excluded_embed_metadata_keys=[], excluded_llm_metadata_keys=[], relationships={<NodeRelationship.SOURCE: '1'>: RelatedNodeInfo(node_id='4b9eb19a-e4cf-4db1-8980-d918013b0c50', node_type=<ObjectType.TEXT: '1'>, metadata={}, hash='44570975840792a57ed9c15763f1a53ec25a524613b6f5b727ff1644e9c6b202'), <NodeRelationship.PREVIOUS: '2'>: RelatedNodeInfo(node_id='7a9ec4b0-8005-4f38-a42a-2973d8437f3b', node_type=<ObjectType.TEXT: '1'>, metadata={}, hash='39e6d12b4943d7869a6e979403f855db356d660fe3ce5266dcdd967dfa3e6104'), <NodeRelationship.NEXT: '3'>: RelatedNodeInfo(node_id='774f05ed-32b1-4c99-ac7c-be98d0292303', node_type=<ObjectType.TEXT: '1'>, metadata={}, hash='1f7f4b316bfb7be0592783c09096a505054a2e3147fc164d9cd33c51e6b504d6'), <NodeRelationship.PARENT: '4'>: RelatedNodeInfo(node_id='4b9eb19a-e4cf-4db1-8980-d918013b0c50', node_type=<ObjectType.TEXT: '1'>, metadata={}, hash='44570975840792a57ed9c15763f1a53ec25a524613b6f5b727ff1644e9c6b202')}, text='Secara bertahap, penguatan \\nkebijakan terus dilakukan dari aspek prudential measures dan pelaporan, \\nbaik yang dilakukan oleh bank maupun nonbank. \\nSelanjutnya, untuk memperkuat kebijakan Bank Indonesia dalam \\nmenjaga kestabilan nilai tukar Rupiah dengan mengurangi ketergantungan \\npenggunaan \\nmata \\nuang  \\nnegara \\nutama \\ndalam \\nperdagangan \\ninternasional,', start_char_idx=693, end_char_idx=1049, text_template='{metadata_str}\\n\\n{content}', metadata_template='{key}: {value}', metadata_seperator='\\n'),\n",
       " TextNode(id_='774f05ed-32b1-4c99-ac7c-be98d0292303', embedding=None, metadata={}, excluded_embed_metadata_keys=[], excluded_llm_metadata_keys=[], relationships={<NodeRelationship.SOURCE: '1'>: RelatedNodeInfo(node_id='4b9eb19a-e4cf-4db1-8980-d918013b0c50', node_type=<ObjectType.TEXT: '1'>, metadata={}, hash='44570975840792a57ed9c15763f1a53ec25a524613b6f5b727ff1644e9c6b202'), <NodeRelationship.PREVIOUS: '2'>: RelatedNodeInfo(node_id='20ee55fa-eefb-4c18-8c22-35fa791770fb', node_type=<ObjectType.TEXT: '1'>, metadata={}, hash='01b80dfa098bdeae932a94f3fbb34240d1d97a35515faa1f0b14737716af355c'), <NodeRelationship.NEXT: '3'>: RelatedNodeInfo(node_id='e7c5d947-1487-4fe8-a9a7-7745094b3e8a', node_type=<ObjectType.TEXT: '1'>, metadata={}, hash='1fbfef794e88455962ad8a85e5ae55a37c52124a96c66e220e26537e60018b63'), <NodeRelationship.PARENT: '4'>: RelatedNodeInfo(node_id='4b9eb19a-e4cf-4db1-8980-d918013b0c50', node_type=<ObjectType.TEXT: '1'>, metadata={}, hash='44570975840792a57ed9c15763f1a53ec25a524613b6f5b727ff1644e9c6b202')}, text='dilakukan pengaturan yang memungkinkan penggunaan \\nRupiah di luar Wilayah Negara Kesatuan Republik Indonesia dan \\nmendorong peningkatan peran Rupiah dalam transaksi perdagangan \\ninternasional dan pendalaman pasar keuangan, termasuk pelaksanaan \\nskema penyelesaian transaksi bilateral menggunakan mata uang lokal \\nmelalui bank.', start_char_idx=1050, end_char_idx=1376, text_template='{metadata_str}\\n\\n{content}', metadata_template='{key}: {value}', metadata_seperator='\\n'),\n",
       " TextNode(id_='e7c5d947-1487-4fe8-a9a7-7745094b3e8a', embedding=None, metadata={}, excluded_embed_metadata_keys=[], excluded_llm_metadata_keys=[], relationships={<NodeRelationship.SOURCE: '1'>: RelatedNodeInfo(node_id='4b9eb19a-e4cf-4db1-8980-d918013b0c50', node_type=<ObjectType.TEXT: '1'>, metadata={}, hash='44570975840792a57ed9c15763f1a53ec25a524613b6f5b727ff1644e9c6b202'), <NodeRelationship.PREVIOUS: '2'>: RelatedNodeInfo(node_id='774f05ed-32b1-4c99-ac7c-be98d0292303', node_type=<ObjectType.TEXT: '1'>, metadata={}, hash='1f7f4b316bfb7be0592783c09096a505054a2e3147fc164d9cd33c51e6b504d6'), <NodeRelationship.PARENT: '4'>: RelatedNodeInfo(node_id='4b9eb19a-e4cf-4db1-8980-d918013b0c50', node_type=<ObjectType.TEXT: '1'>, metadata={}, hash='44570975840792a57ed9c15763f1a53ec25a524613b6f5b727ff1644e9c6b202')}, text='Dengan demikian sejalan dengan adanya kebutuhan dari sisi \\nperdagangan dan transaksi keuangan internasional maka penggunaan', start_char_idx=1377, end_char_idx=1500, text_template='{metadata_str}\\n\\n{content}', metadata_template='{key}: {value}', metadata_seperator='\\n'),\n",
       " TextNode(id_='6dda4231-8251-4ef3-82c2-19f1afa3f90d', embedding=None, metadata={}, excluded_embed_metadata_keys=[], excluded_llm_metadata_keys=[], relationships={<NodeRelationship.SOURCE: '1'>: RelatedNodeInfo(node_id='e457052d-49cb-4339-b32e-7fdc7dfaac46', node_type=<ObjectType.DOCUMENT: '4'>, metadata={}, hash='b5829f86714d66269f65211de24b361922644be5f31cf06c17e14c359ef668b0'), <NodeRelationship.CHILD: '5'>: [RelatedNodeInfo(node_id='bf0cbcdc-c575-47ea-a7f0-7e1c94f7eb97', node_type=<ObjectType.TEXT: '1'>, metadata={}, hash='9a4ad5c4b69a9f6ef73699ed3936e0301f9c2bbdd0d4e84b1627e6281f462ef5')]}, text='- 2 - \\nRupiah pada kegiatan internasional dapat dilakukan dalam lingkup \\nterbatas. \\nKebijakan penggunaan Rupiah pada kegiatan internasional diperlukan \\nuntuk memastikan Rupiah digunakan untuk mendukung kegiatan \\nperekonomian nasional. Dampak dari kebijakan penggunaan Rupiah pada \\nkegiatan internasional tersebut diharapkan mampu mendukung kestabilan \\nnilai tukar Rupiah, mendorong pendalaman pasar keuangan, dan \\nmendorong perbaikan struktur ekonomi domestik. \\nSelanjutnya, guna membentuk pengaturan yang komprehensif yang \\nmeliputi seluruh aspek penggunaan Rupiah pada kegiatan internasional \\ndan mendukung perkembangan perekonomian, perlu ditetapkan Peraturan \\nBank Indonesia tentang Kebijakan Penggunaan Rupiah pada Kegiatan \\nInternasional.  \\n \\nII.  PASAL DEMI PASAL  \\n \\nPasal 1 \\n \\nCukup jelas. \\n \\nPasal 2 \\nHuruf a \\nCukup jelas.  \\nHuruf b \\nRisiko di bidang moneter antara lain berupa risiko nilai tukar, \\nrisiko likuiditas, dan risiko inflasi yang dapat mengganggu \\nstabilitas moneter. \\n \\nPasal 3  \\n \\nCukup jelas.  \\n \\nPasal 4 \\n \\nAyat (1) \\nContoh \\nkegiatan \\ninternasional \\nantara \\nlain \\nperdagangan \\ninternasional dan transaksi keuangan internasional. \\nAyat (2) \\nPembawaan Uang Rupiah keluar Wilayah Negara Kesatuan \\nRepublik Indonesia dilaksanakan sesuai dengan ketentuan', start_char_idx=0, end_char_idx=1275, text_template='{metadata_str}\\n\\n{content}', metadata_template='{key}: {value}', metadata_seperator='\\n'),\n",
       " TextNode(id_='bf0cbcdc-c575-47ea-a7f0-7e1c94f7eb97', embedding=None, metadata={}, excluded_embed_metadata_keys=[], excluded_llm_metadata_keys=[], relationships={<NodeRelationship.SOURCE: '1'>: RelatedNodeInfo(node_id='6dda4231-8251-4ef3-82c2-19f1afa3f90d', node_type=<ObjectType.TEXT: '1'>, metadata={}, hash='9a4ad5c4b69a9f6ef73699ed3936e0301f9c2bbdd0d4e84b1627e6281f462ef5'), <NodeRelationship.PARENT: '4'>: RelatedNodeInfo(node_id='6dda4231-8251-4ef3-82c2-19f1afa3f90d', node_type=<ObjectType.TEXT: '1'>, metadata={}, hash='9a4ad5c4b69a9f6ef73699ed3936e0301f9c2bbdd0d4e84b1627e6281f462ef5'), <NodeRelationship.CHILD: '5'>: [RelatedNodeInfo(node_id='6ceff989-8e31-4c64-aa21-82173be94682', node_type=<ObjectType.TEXT: '1'>, metadata={}, hash='072a0cee35aa560b1830acc1ddfb3a5db1bba5d932ef991d508263776ed0925a'), RelatedNodeInfo(node_id='d7d16d03-3fba-4bd8-b539-5919044bcc2c', node_type=<ObjectType.TEXT: '1'>, metadata={}, hash='9f0e2727f16822e604c7188f09af1506ac3676ebe5e2883c8eaa3a7237bc5898'), RelatedNodeInfo(node_id='b7051456-ec69-45a1-a3dc-827ff1b63757', node_type=<ObjectType.TEXT: '1'>, metadata={}, hash='cf5ee88053bec1dbad055627073200591537cd292854d901b0c7b13664c9c60d'), RelatedNodeInfo(node_id='57cfea04-2e55-479d-b962-53f81f70f42a', node_type=<ObjectType.TEXT: '1'>, metadata={}, hash='cc9adee860f7d4f9f61089e00c04edadd02fb6052fe371b759c1e617b4e4b857'), RelatedNodeInfo(node_id='ff4a5433-28bb-4d25-9551-add7b96b5f24', node_type=<ObjectType.TEXT: '1'>, metadata={}, hash='a9cb2ae8ca1f6ee0d9619871024493f51df28478e212121da2ff83a0a9ee31fe')]}, text='- 2 - \\nRupiah pada kegiatan internasional dapat dilakukan dalam lingkup \\nterbatas. \\nKebijakan penggunaan Rupiah pada kegiatan internasional diperlukan \\nuntuk memastikan Rupiah digunakan untuk mendukung kegiatan \\nperekonomian nasional. Dampak dari kebijakan penggunaan Rupiah pada \\nkegiatan internasional tersebut diharapkan mampu mendukung kestabilan \\nnilai tukar Rupiah, mendorong pendalaman pasar keuangan, dan \\nmendorong perbaikan struktur ekonomi domestik. \\nSelanjutnya, guna membentuk pengaturan yang komprehensif yang \\nmeliputi seluruh aspek penggunaan Rupiah pada kegiatan internasional \\ndan mendukung perkembangan perekonomian, perlu ditetapkan Peraturan \\nBank Indonesia tentang Kebijakan Penggunaan Rupiah pada Kegiatan \\nInternasional.  \\n \\nII.  PASAL DEMI PASAL  \\n \\nPasal 1 \\n \\nCukup jelas. \\n \\nPasal 2 \\nHuruf a \\nCukup jelas.  \\nHuruf b \\nRisiko di bidang moneter antara lain berupa risiko nilai tukar, \\nrisiko likuiditas, dan risiko inflasi yang dapat mengganggu \\nstabilitas moneter. \\n \\nPasal 3  \\n \\nCukup jelas.  \\n \\nPasal 4 \\n \\nAyat (1) \\nContoh \\nkegiatan \\ninternasional \\nantara \\nlain \\nperdagangan \\ninternasional dan transaksi keuangan internasional. \\nAyat (2) \\nPembawaan Uang Rupiah keluar Wilayah Negara Kesatuan \\nRepublik Indonesia dilaksanakan sesuai dengan ketentuan', start_char_idx=0, end_char_idx=1275, text_template='{metadata_str}\\n\\n{content}', metadata_template='{key}: {value}', metadata_seperator='\\n'),\n",
       " TextNode(id_='6ceff989-8e31-4c64-aa21-82173be94682', embedding=None, metadata={}, excluded_embed_metadata_keys=[], excluded_llm_metadata_keys=[], relationships={<NodeRelationship.SOURCE: '1'>: RelatedNodeInfo(node_id='bf0cbcdc-c575-47ea-a7f0-7e1c94f7eb97', node_type=<ObjectType.TEXT: '1'>, metadata={}, hash='9a4ad5c4b69a9f6ef73699ed3936e0301f9c2bbdd0d4e84b1627e6281f462ef5'), <NodeRelationship.NEXT: '3'>: RelatedNodeInfo(node_id='d7d16d03-3fba-4bd8-b539-5919044bcc2c', node_type=<ObjectType.TEXT: '1'>, metadata={}, hash='9f0e2727f16822e604c7188f09af1506ac3676ebe5e2883c8eaa3a7237bc5898'), <NodeRelationship.PARENT: '4'>: RelatedNodeInfo(node_id='bf0cbcdc-c575-47ea-a7f0-7e1c94f7eb97', node_type=<ObjectType.TEXT: '1'>, metadata={}, hash='9a4ad5c4b69a9f6ef73699ed3936e0301f9c2bbdd0d4e84b1627e6281f462ef5')}, text='- 2 - \\nRupiah pada kegiatan internasional dapat dilakukan dalam lingkup \\nterbatas. \\nKebijakan penggunaan Rupiah pada kegiatan internasional diperlukan \\nuntuk memastikan Rupiah digunakan untuk mendukung kegiatan \\nperekonomian nasional.', start_char_idx=0, end_char_idx=234, text_template='{metadata_str}\\n\\n{content}', metadata_template='{key}: {value}', metadata_seperator='\\n'),\n",
       " TextNode(id_='d7d16d03-3fba-4bd8-b539-5919044bcc2c', embedding=None, metadata={}, excluded_embed_metadata_keys=[], excluded_llm_metadata_keys=[], relationships={<NodeRelationship.SOURCE: '1'>: RelatedNodeInfo(node_id='bf0cbcdc-c575-47ea-a7f0-7e1c94f7eb97', node_type=<ObjectType.TEXT: '1'>, metadata={}, hash='9a4ad5c4b69a9f6ef73699ed3936e0301f9c2bbdd0d4e84b1627e6281f462ef5'), <NodeRelationship.PREVIOUS: '2'>: RelatedNodeInfo(node_id='6ceff989-8e31-4c64-aa21-82173be94682', node_type=<ObjectType.TEXT: '1'>, metadata={}, hash='072a0cee35aa560b1830acc1ddfb3a5db1bba5d932ef991d508263776ed0925a'), <NodeRelationship.NEXT: '3'>: RelatedNodeInfo(node_id='b7051456-ec69-45a1-a3dc-827ff1b63757', node_type=<ObjectType.TEXT: '1'>, metadata={}, hash='cf5ee88053bec1dbad055627073200591537cd292854d901b0c7b13664c9c60d'), <NodeRelationship.PARENT: '4'>: RelatedNodeInfo(node_id='bf0cbcdc-c575-47ea-a7f0-7e1c94f7eb97', node_type=<ObjectType.TEXT: '1'>, metadata={}, hash='9a4ad5c4b69a9f6ef73699ed3936e0301f9c2bbdd0d4e84b1627e6281f462ef5')}, text='Dampak dari kebijakan penggunaan Rupiah pada \\nkegiatan internasional tersebut diharapkan mampu mendukung kestabilan \\nnilai tukar Rupiah, mendorong pendalaman pasar keuangan, dan \\nmendorong perbaikan struktur ekonomi domestik.', start_char_idx=235, end_char_idx=460, text_template='{metadata_str}\\n\\n{content}', metadata_template='{key}: {value}', metadata_seperator='\\n'),\n",
       " TextNode(id_='b7051456-ec69-45a1-a3dc-827ff1b63757', embedding=None, metadata={}, excluded_embed_metadata_keys=[], excluded_llm_metadata_keys=[], relationships={<NodeRelationship.SOURCE: '1'>: RelatedNodeInfo(node_id='bf0cbcdc-c575-47ea-a7f0-7e1c94f7eb97', node_type=<ObjectType.TEXT: '1'>, metadata={}, hash='9a4ad5c4b69a9f6ef73699ed3936e0301f9c2bbdd0d4e84b1627e6281f462ef5'), <NodeRelationship.PREVIOUS: '2'>: RelatedNodeInfo(node_id='d7d16d03-3fba-4bd8-b539-5919044bcc2c', node_type=<ObjectType.TEXT: '1'>, metadata={}, hash='9f0e2727f16822e604c7188f09af1506ac3676ebe5e2883c8eaa3a7237bc5898'), <NodeRelationship.NEXT: '3'>: RelatedNodeInfo(node_id='57cfea04-2e55-479d-b962-53f81f70f42a', node_type=<ObjectType.TEXT: '1'>, metadata={}, hash='cc9adee860f7d4f9f61089e00c04edadd02fb6052fe371b759c1e617b4e4b857'), <NodeRelationship.PARENT: '4'>: RelatedNodeInfo(node_id='bf0cbcdc-c575-47ea-a7f0-7e1c94f7eb97', node_type=<ObjectType.TEXT: '1'>, metadata={}, hash='9a4ad5c4b69a9f6ef73699ed3936e0301f9c2bbdd0d4e84b1627e6281f462ef5')}, text='Selanjutnya, guna membentuk pengaturan yang komprehensif yang \\nmeliputi seluruh aspek penggunaan Rupiah pada kegiatan internasional \\ndan mendukung perkembangan perekonomian, perlu ditetapkan Peraturan \\nBank Indonesia tentang Kebijakan Penggunaan Rupiah pada Kegiatan \\nInternasional.  \\n \\nII.  PASAL DEMI PASAL  \\n \\nPasal 1 \\n \\nCukup jelas. \\n \\nPasal 2 \\nHuruf a \\nCukup jelas.', start_char_idx=462, end_char_idx=832, text_template='{metadata_str}\\n\\n{content}', metadata_template='{key}: {value}', metadata_seperator='\\n'),\n",
       " TextNode(id_='57cfea04-2e55-479d-b962-53f81f70f42a', embedding=None, metadata={}, excluded_embed_metadata_keys=[], excluded_llm_metadata_keys=[], relationships={<NodeRelationship.SOURCE: '1'>: RelatedNodeInfo(node_id='bf0cbcdc-c575-47ea-a7f0-7e1c94f7eb97', node_type=<ObjectType.TEXT: '1'>, metadata={}, hash='9a4ad5c4b69a9f6ef73699ed3936e0301f9c2bbdd0d4e84b1627e6281f462ef5'), <NodeRelationship.PREVIOUS: '2'>: RelatedNodeInfo(node_id='b7051456-ec69-45a1-a3dc-827ff1b63757', node_type=<ObjectType.TEXT: '1'>, metadata={}, hash='cf5ee88053bec1dbad055627073200591537cd292854d901b0c7b13664c9c60d'), <NodeRelationship.NEXT: '3'>: RelatedNodeInfo(node_id='ff4a5433-28bb-4d25-9551-add7b96b5f24', node_type=<ObjectType.TEXT: '1'>, metadata={}, hash='a9cb2ae8ca1f6ee0d9619871024493f51df28478e212121da2ff83a0a9ee31fe'), <NodeRelationship.PARENT: '4'>: RelatedNodeInfo(node_id='bf0cbcdc-c575-47ea-a7f0-7e1c94f7eb97', node_type=<ObjectType.TEXT: '1'>, metadata={}, hash='9a4ad5c4b69a9f6ef73699ed3936e0301f9c2bbdd0d4e84b1627e6281f462ef5')}, text='Pasal 2 \\nHuruf a \\nCukup jelas.  \\nHuruf b \\nRisiko di bidang moneter antara lain berupa risiko nilai tukar, \\nrisiko likuiditas, dan risiko inflasi yang dapat mengganggu \\nstabilitas moneter. \\n \\nPasal 3  \\n \\nCukup jelas.  \\n \\nPasal 4 \\n \\nAyat (1) \\nContoh \\nkegiatan \\ninternasional \\nantara \\nlain \\nperdagangan \\ninternasional dan transaksi keuangan internasional.', start_char_idx=802, end_char_idx=1154, text_template='{metadata_str}\\n\\n{content}', metadata_template='{key}: {value}', metadata_seperator='\\n'),\n",
       " TextNode(id_='ff4a5433-28bb-4d25-9551-add7b96b5f24', embedding=None, metadata={}, excluded_embed_metadata_keys=[], excluded_llm_metadata_keys=[], relationships={<NodeRelationship.SOURCE: '1'>: RelatedNodeInfo(node_id='bf0cbcdc-c575-47ea-a7f0-7e1c94f7eb97', node_type=<ObjectType.TEXT: '1'>, metadata={}, hash='9a4ad5c4b69a9f6ef73699ed3936e0301f9c2bbdd0d4e84b1627e6281f462ef5'), <NodeRelationship.PREVIOUS: '2'>: RelatedNodeInfo(node_id='57cfea04-2e55-479d-b962-53f81f70f42a', node_type=<ObjectType.TEXT: '1'>, metadata={}, hash='cc9adee860f7d4f9f61089e00c04edadd02fb6052fe371b759c1e617b4e4b857'), <NodeRelationship.PARENT: '4'>: RelatedNodeInfo(node_id='bf0cbcdc-c575-47ea-a7f0-7e1c94f7eb97', node_type=<ObjectType.TEXT: '1'>, metadata={}, hash='9a4ad5c4b69a9f6ef73699ed3936e0301f9c2bbdd0d4e84b1627e6281f462ef5')}, text='Ayat (2) \\nPembawaan Uang Rupiah keluar Wilayah Negara Kesatuan \\nRepublik Indonesia dilaksanakan sesuai dengan ketentuan', start_char_idx=1156, end_char_idx=1275, text_template='{metadata_str}\\n\\n{content}', metadata_template='{key}: {value}', metadata_seperator='\\n'),\n",
       " TextNode(id_='8d07d654-28ff-4693-923d-89afdba78b06', embedding=None, metadata={}, excluded_embed_metadata_keys=[], excluded_llm_metadata_keys=[], relationships={<NodeRelationship.SOURCE: '1'>: RelatedNodeInfo(node_id='783fb497-b187-40ac-bd6f-bd68e2b344c7', node_type=<ObjectType.DOCUMENT: '4'>, metadata={}, hash='3700fe44ed1de37f4cf81edcac7faee8089c20e04ac7d45c2a29bf944ce6d81a'), <NodeRelationship.CHILD: '5'>: [RelatedNodeInfo(node_id='de8b63b7-92e5-4897-aa0e-d1070c07db40', node_type=<ObjectType.TEXT: '1'>, metadata={}, hash='aa82b2f73fc373575abc19cab6b86723087c489b07fa021d7089a97393d0909d')]}, text='- 3 - \\nPeraturan Bank Indonesia mengenai persyaratan dan tata cara \\nmembawa uang rupiah keluar atau masuk wilayah pabean \\nRepublik Indonesia. \\n \\nPasal 5 \\n \\nAyat (1) \\n \\n \\nCukup jelas. \\n \\nAyat (2) \\n \\n \\nContoh pengecualian atas larangan penggunaan Rupiah pada \\nkegiatan internasional di luar Wilayah Negara Kesatuan Republik \\nIndonesia \\nantara \\nlain \\npenyelesaian \\ntransaksi \\nbilateral \\nmenggunakan mata uang lokal melalui bank. \\n \\nAyat (3) \\n \\n \\nCukup jelas. \\n \\nAyat (4) \\n \\n \\nCukup jelas. \\n \\nPasal 6 \\n \\nHuruf a \\nYang dimaksud dengan “fisik” adalah Uang Rupiah dalam bentuk \\nkertas maupun logam. \\n \\nHuruf b \\nContoh penggunaan Rupiah dalam bentuk rekening (account \\nbased) antara lain pembukaan rekening. \\nHuruf c \\nContoh penggunaan Rupiah dalam bentuk instrumen keuangan \\ndigital (digital based) antara lain penggunaan Rupiah dengan \\nteknologi kriptografi atau teknologi buku besar yang terdistribusi \\n(distributed ledger technology). \\n \\nPasal 7 \\n \\nHuruf a \\nYang \\ndimaksud \\ndengan \\n“kuotasi” \\nadalah \\nsegala \\nbentuk \\npenggunaan referensi dan/atau denominasi mata uang yang \\ndijadikan dasar dalam transaksi keuangan internasional.', start_char_idx=0, end_char_idx=1125, text_template='{metadata_str}\\n\\n{content}', metadata_template='{key}: {value}', metadata_seperator='\\n'),\n",
       " TextNode(id_='de8b63b7-92e5-4897-aa0e-d1070c07db40', embedding=None, metadata={}, excluded_embed_metadata_keys=[], excluded_llm_metadata_keys=[], relationships={<NodeRelationship.SOURCE: '1'>: RelatedNodeInfo(node_id='8d07d654-28ff-4693-923d-89afdba78b06', node_type=<ObjectType.TEXT: '1'>, metadata={}, hash='aa82b2f73fc373575abc19cab6b86723087c489b07fa021d7089a97393d0909d'), <NodeRelationship.PARENT: '4'>: RelatedNodeInfo(node_id='8d07d654-28ff-4693-923d-89afdba78b06', node_type=<ObjectType.TEXT: '1'>, metadata={}, hash='aa82b2f73fc373575abc19cab6b86723087c489b07fa021d7089a97393d0909d'), <NodeRelationship.CHILD: '5'>: [RelatedNodeInfo(node_id='c75ce9f9-a66a-4809-a51b-eca89f14f701', node_type=<ObjectType.TEXT: '1'>, metadata={}, hash='fa2b25748c339d2c4f25e17d29a86477132f432da623ad56cee5ddabe45bdfec'), RelatedNodeInfo(node_id='53326937-efa0-4659-989b-7e689077526f', node_type=<ObjectType.TEXT: '1'>, metadata={}, hash='bf15706ceb9206aeacf35499a54276240cf97018c520c10637acfc32fc464ae4'), RelatedNodeInfo(node_id='7c26006d-2a3c-4fc4-86a1-15791939c02c', node_type=<ObjectType.TEXT: '1'>, metadata={}, hash='920b98012650df5f4469d33e7c45bae7434d8d445fffdffd825d73d17cee7f82'), RelatedNodeInfo(node_id='05fed700-47eb-4568-b602-ecc5152157d6', node_type=<ObjectType.TEXT: '1'>, metadata={}, hash='b3771ec3cdf6ebc802a12be292478254df611aa26401577724f54d8b5ccf45fd'), RelatedNodeInfo(node_id='53da0125-c144-4416-91e0-1d3d04e149f9', node_type=<ObjectType.TEXT: '1'>, metadata={}, hash='51190ab68fe48f26998433c7355cb35c5123af544e4b2ddcdd1e3a63c58f78fe')]}, text='- 3 - \\nPeraturan Bank Indonesia mengenai persyaratan dan tata cara \\nmembawa uang rupiah keluar atau masuk wilayah pabean \\nRepublik Indonesia. \\n \\nPasal 5 \\n \\nAyat (1) \\n \\n \\nCukup jelas. \\n \\nAyat (2) \\n \\n \\nContoh pengecualian atas larangan penggunaan Rupiah pada \\nkegiatan internasional di luar Wilayah Negara Kesatuan Republik \\nIndonesia \\nantara \\nlain \\npenyelesaian \\ntransaksi \\nbilateral \\nmenggunakan mata uang lokal melalui bank. \\n \\nAyat (3) \\n \\n \\nCukup jelas. \\n \\nAyat (4) \\n \\n \\nCukup jelas. \\n \\nPasal 6 \\n \\nHuruf a \\nYang dimaksud dengan “fisik” adalah Uang Rupiah dalam bentuk \\nkertas maupun logam. \\n \\nHuruf b \\nContoh penggunaan Rupiah dalam bentuk rekening (account \\nbased) antara lain pembukaan rekening. \\nHuruf c \\nContoh penggunaan Rupiah dalam bentuk instrumen keuangan \\ndigital (digital based) antara lain penggunaan Rupiah dengan \\nteknologi kriptografi atau teknologi buku besar yang terdistribusi \\n(distributed ledger technology). \\n \\nPasal 7 \\n \\nHuruf a \\nYang \\ndimaksud \\ndengan \\n“kuotasi” \\nadalah \\nsegala \\nbentuk \\npenggunaan referensi dan/atau denominasi mata uang yang \\ndijadikan dasar dalam transaksi keuangan internasional.', start_char_idx=0, end_char_idx=1125, text_template='{metadata_str}\\n\\n{content}', metadata_template='{key}: {value}', metadata_seperator='\\n'),\n",
       " TextNode(id_='c75ce9f9-a66a-4809-a51b-eca89f14f701', embedding=None, metadata={}, excluded_embed_metadata_keys=[], excluded_llm_metadata_keys=[], relationships={<NodeRelationship.SOURCE: '1'>: RelatedNodeInfo(node_id='de8b63b7-92e5-4897-aa0e-d1070c07db40', node_type=<ObjectType.TEXT: '1'>, metadata={}, hash='aa82b2f73fc373575abc19cab6b86723087c489b07fa021d7089a97393d0909d'), <NodeRelationship.NEXT: '3'>: RelatedNodeInfo(node_id='53326937-efa0-4659-989b-7e689077526f', node_type=<ObjectType.TEXT: '1'>, metadata={}, hash='bf15706ceb9206aeacf35499a54276240cf97018c520c10637acfc32fc464ae4'), <NodeRelationship.PARENT: '4'>: RelatedNodeInfo(node_id='de8b63b7-92e5-4897-aa0e-d1070c07db40', node_type=<ObjectType.TEXT: '1'>, metadata={}, hash='aa82b2f73fc373575abc19cab6b86723087c489b07fa021d7089a97393d0909d')}, text='- 3 - \\nPeraturan Bank Indonesia mengenai persyaratan dan tata cara \\nmembawa uang rupiah keluar atau masuk wilayah pabean \\nRepublik Indonesia. \\n \\nPasal 5 \\n \\nAyat (1) \\n \\n \\nCukup jelas.', start_char_idx=0, end_char_idx=182, text_template='{metadata_str}\\n\\n{content}', metadata_template='{key}: {value}', metadata_seperator='\\n'),\n",
       " TextNode(id_='53326937-efa0-4659-989b-7e689077526f', embedding=None, metadata={}, excluded_embed_metadata_keys=[], excluded_llm_metadata_keys=[], relationships={<NodeRelationship.SOURCE: '1'>: RelatedNodeInfo(node_id='de8b63b7-92e5-4897-aa0e-d1070c07db40', node_type=<ObjectType.TEXT: '1'>, metadata={}, hash='aa82b2f73fc373575abc19cab6b86723087c489b07fa021d7089a97393d0909d'), <NodeRelationship.PREVIOUS: '2'>: RelatedNodeInfo(node_id='c75ce9f9-a66a-4809-a51b-eca89f14f701', node_type=<ObjectType.TEXT: '1'>, metadata={}, hash='fa2b25748c339d2c4f25e17d29a86477132f432da623ad56cee5ddabe45bdfec'), <NodeRelationship.NEXT: '3'>: RelatedNodeInfo(node_id='7c26006d-2a3c-4fc4-86a1-15791939c02c', node_type=<ObjectType.TEXT: '1'>, metadata={}, hash='920b98012650df5f4469d33e7c45bae7434d8d445fffdffd825d73d17cee7f82'), <NodeRelationship.PARENT: '4'>: RelatedNodeInfo(node_id='de8b63b7-92e5-4897-aa0e-d1070c07db40', node_type=<ObjectType.TEXT: '1'>, metadata={}, hash='aa82b2f73fc373575abc19cab6b86723087c489b07fa021d7089a97393d0909d')}, text='Pasal 5 \\n \\nAyat (1) \\n \\n \\nCukup jelas. \\n \\nAyat (2) \\n \\n \\nContoh pengecualian atas larangan penggunaan Rupiah pada \\nkegiatan internasional di luar Wilayah Negara Kesatuan Republik \\nIndonesia \\nantara \\nlain \\npenyelesaian \\ntransaksi \\nbilateral \\nmenggunakan mata uang lokal melalui bank. \\n \\nAyat (3) \\n \\n \\nCukup jelas. \\n \\nAyat (4) \\n \\n \\nCukup jelas.', start_char_idx=145, end_char_idx=485, text_template='{metadata_str}\\n\\n{content}', metadata_template='{key}: {value}', metadata_seperator='\\n'),\n",
       " TextNode(id_='7c26006d-2a3c-4fc4-86a1-15791939c02c', embedding=None, metadata={}, excluded_embed_metadata_keys=[], excluded_llm_metadata_keys=[], relationships={<NodeRelationship.SOURCE: '1'>: RelatedNodeInfo(node_id='de8b63b7-92e5-4897-aa0e-d1070c07db40', node_type=<ObjectType.TEXT: '1'>, metadata={}, hash='aa82b2f73fc373575abc19cab6b86723087c489b07fa021d7089a97393d0909d'), <NodeRelationship.PREVIOUS: '2'>: RelatedNodeInfo(node_id='53326937-efa0-4659-989b-7e689077526f', node_type=<ObjectType.TEXT: '1'>, metadata={}, hash='bf15706ceb9206aeacf35499a54276240cf97018c520c10637acfc32fc464ae4'), <NodeRelationship.NEXT: '3'>: RelatedNodeInfo(node_id='05fed700-47eb-4568-b602-ecc5152157d6', node_type=<ObjectType.TEXT: '1'>, metadata={}, hash='b3771ec3cdf6ebc802a12be292478254df611aa26401577724f54d8b5ccf45fd'), <NodeRelationship.PARENT: '4'>: RelatedNodeInfo(node_id='de8b63b7-92e5-4897-aa0e-d1070c07db40', node_type=<ObjectType.TEXT: '1'>, metadata={}, hash='aa82b2f73fc373575abc19cab6b86723087c489b07fa021d7089a97393d0909d')}, text='Ayat (4) \\n \\n \\nCukup jelas. \\n \\nPasal 6 \\n \\nHuruf a \\nYang dimaksud dengan “fisik” adalah Uang Rupiah dalam bentuk \\nkertas maupun logam. \\n \\nHuruf b \\nContoh penggunaan Rupiah dalam bentuk rekening (account \\nbased) antara lain pembukaan rekening.', start_char_idx=459, end_char_idx=699, text_template='{metadata_str}\\n\\n{content}', metadata_template='{key}: {value}', metadata_seperator='\\n'),\n",
       " TextNode(id_='05fed700-47eb-4568-b602-ecc5152157d6', embedding=None, metadata={}, excluded_embed_metadata_keys=[], excluded_llm_metadata_keys=[], relationships={<NodeRelationship.SOURCE: '1'>: RelatedNodeInfo(node_id='de8b63b7-92e5-4897-aa0e-d1070c07db40', node_type=<ObjectType.TEXT: '1'>, metadata={}, hash='aa82b2f73fc373575abc19cab6b86723087c489b07fa021d7089a97393d0909d'), <NodeRelationship.PREVIOUS: '2'>: RelatedNodeInfo(node_id='7c26006d-2a3c-4fc4-86a1-15791939c02c', node_type=<ObjectType.TEXT: '1'>, metadata={}, hash='920b98012650df5f4469d33e7c45bae7434d8d445fffdffd825d73d17cee7f82'), <NodeRelationship.NEXT: '3'>: RelatedNodeInfo(node_id='53da0125-c144-4416-91e0-1d3d04e149f9', node_type=<ObjectType.TEXT: '1'>, metadata={}, hash='51190ab68fe48f26998433c7355cb35c5123af544e4b2ddcdd1e3a63c58f78fe'), <NodeRelationship.PARENT: '4'>: RelatedNodeInfo(node_id='de8b63b7-92e5-4897-aa0e-d1070c07db40', node_type=<ObjectType.TEXT: '1'>, metadata={}, hash='aa82b2f73fc373575abc19cab6b86723087c489b07fa021d7089a97393d0909d')}, text='Huruf c \\nContoh penggunaan Rupiah dalam bentuk instrumen keuangan \\ndigital (digital based) antara lain penggunaan Rupiah dengan \\nteknologi kriptografi atau teknologi buku besar yang terdistribusi \\n(distributed ledger technology).', start_char_idx=701, end_char_idx=930, text_template='{metadata_str}\\n\\n{content}', metadata_template='{key}: {value}', metadata_seperator='\\n'),\n",
       " TextNode(id_='53da0125-c144-4416-91e0-1d3d04e149f9', embedding=None, metadata={}, excluded_embed_metadata_keys=[], excluded_llm_metadata_keys=[], relationships={<NodeRelationship.SOURCE: '1'>: RelatedNodeInfo(node_id='de8b63b7-92e5-4897-aa0e-d1070c07db40', node_type=<ObjectType.TEXT: '1'>, metadata={}, hash='aa82b2f73fc373575abc19cab6b86723087c489b07fa021d7089a97393d0909d'), <NodeRelationship.PREVIOUS: '2'>: RelatedNodeInfo(node_id='05fed700-47eb-4568-b602-ecc5152157d6', node_type=<ObjectType.TEXT: '1'>, metadata={}, hash='b3771ec3cdf6ebc802a12be292478254df611aa26401577724f54d8b5ccf45fd'), <NodeRelationship.PARENT: '4'>: RelatedNodeInfo(node_id='de8b63b7-92e5-4897-aa0e-d1070c07db40', node_type=<ObjectType.TEXT: '1'>, metadata={}, hash='aa82b2f73fc373575abc19cab6b86723087c489b07fa021d7089a97393d0909d')}, text='Pasal 7 \\n \\nHuruf a \\nYang \\ndimaksud \\ndengan \\n“kuotasi” \\nadalah \\nsegala \\nbentuk \\npenggunaan referensi dan/atau denominasi mata uang yang \\ndijadikan dasar dalam transaksi keuangan internasional.', start_char_idx=934, end_char_idx=1125, text_template='{metadata_str}\\n\\n{content}', metadata_template='{key}: {value}', metadata_seperator='\\n'),\n",
       " TextNode(id_='014e170c-4f0e-4f27-87b7-3ce3e5741224', embedding=None, metadata={}, excluded_embed_metadata_keys=[], excluded_llm_metadata_keys=[], relationships={<NodeRelationship.SOURCE: '1'>: RelatedNodeInfo(node_id='802b4664-8a3a-473e-8ef1-fb8b4c468d5f', node_type=<ObjectType.DOCUMENT: '4'>, metadata={}, hash='907e5e4afce8d9eaa64c73252662819919e4e255af410183d14d16d536e5edf4'), <NodeRelationship.CHILD: '5'>: [RelatedNodeInfo(node_id='9191c30c-95eb-4a13-88b4-9f25e2fc8b58', node_type=<ObjectType.TEXT: '1'>, metadata={}, hash='36e5e0275dc2aafdd5e53fec75db99868b69b1860fbc6bbd8c634ab0aaf13200')]}, text='- 4 - \\nContoh kuotasi antara lain penggunaan denominasi Rupiah pada \\npenerbitan surat berharga di luar Wilayah Negara Kesatuan \\nRepublik Indonesia. \\n \\nHuruf b \\nContoh transaksi keuangan antara lain transaksi jual beli barang \\ndan/atau jasa, jual beli instrumen keuangan, transfer Rupiah ke \\nluar Wilayah Negara Kesatuan Republik Indonesia, dan transaksi \\npinjam-meminjam dana dan/atau instrumen keuangan.  \\nHuruf c \\nContoh \\npenyelesaian \\ntransaksi \\nkeuangan \\nantara \\nlain \\npenyelesaian \\ntransaksi \\njual \\nbeli \\nbarang \\ndan/atau \\njasa, \\npenyelesaian jual beli instrumen keuangan, dan penyelesaian \\ntransaksi \\npinjam-meminjam \\ndana \\ndan/atau \\ninstrumen \\nkeuangan.  \\n \\nPasal 8 \\n \\nCukup jelas. \\n \\nPasal 9 \\n \\nAyat (1)  \\nTermasuk penggunaan Rupiah oleh Bukan Penduduk di dalam \\nWilayah Negara Kesatuan Republik Indonesia yaitu transfer \\nkepada Bukan Penduduk.  \\nAyat (2) \\nCukup jelas. \\nAyat (3) \\nCukup jelas. \\n \\nPasal 10 \\n \\nAyat (1) \\nContoh pembatasan penggunaan Rupiah pada kegiatan tertentu \\noleh Bukan Penduduk di dalam Wilayah Negara Kesatuan \\nRepublik Indonesia dan pengecualiannya antara lain terkait \\npenerimaan kredit dan/atau pembiayaan.  \\nAyat (2) \\n \\n \\nCukup jelas.', start_char_idx=0, end_char_idx=1168, text_template='{metadata_str}\\n\\n{content}', metadata_template='{key}: {value}', metadata_seperator='\\n'),\n",
       " TextNode(id_='9191c30c-95eb-4a13-88b4-9f25e2fc8b58', embedding=None, metadata={}, excluded_embed_metadata_keys=[], excluded_llm_metadata_keys=[], relationships={<NodeRelationship.SOURCE: '1'>: RelatedNodeInfo(node_id='014e170c-4f0e-4f27-87b7-3ce3e5741224', node_type=<ObjectType.TEXT: '1'>, metadata={}, hash='36e5e0275dc2aafdd5e53fec75db99868b69b1860fbc6bbd8c634ab0aaf13200'), <NodeRelationship.PARENT: '4'>: RelatedNodeInfo(node_id='014e170c-4f0e-4f27-87b7-3ce3e5741224', node_type=<ObjectType.TEXT: '1'>, metadata={}, hash='36e5e0275dc2aafdd5e53fec75db99868b69b1860fbc6bbd8c634ab0aaf13200'), <NodeRelationship.CHILD: '5'>: [RelatedNodeInfo(node_id='a7dfc6b8-68f3-419f-bc41-228d72c047d9', node_type=<ObjectType.TEXT: '1'>, metadata={}, hash='6fcabd2da314d066e951447beebae0a22ea02ed1650dbda82f9e3a21004c02cd'), RelatedNodeInfo(node_id='53e13770-a185-431f-b01f-5825081b96ef', node_type=<ObjectType.TEXT: '1'>, metadata={}, hash='1be06794b4c660610c18f78ccbf65d56561bc1ce7407051723e1d272497aff7c'), RelatedNodeInfo(node_id='263eedf9-382a-45f3-aa3b-31e8cff5860a', node_type=<ObjectType.TEXT: '1'>, metadata={}, hash='69764c91cea3bc7e0115f2ce8d18ecc0cf0e6cc6d7af965337e976e692448271'), RelatedNodeInfo(node_id='ee859aa1-c9ad-4c5c-8b88-ef304d833384', node_type=<ObjectType.TEXT: '1'>, metadata={}, hash='043669f81977f97f1291c0c4bd7387c406ef1810a1ba7a4ad37a788c09350c0d'), RelatedNodeInfo(node_id='26d116a0-ae83-4adb-825c-1dde84da9b26', node_type=<ObjectType.TEXT: '1'>, metadata={}, hash='624111260ddae8fd53889918ab43e6d9f21d28ac02765b2bb32be09b92307303')]}, text='- 4 - \\nContoh kuotasi antara lain penggunaan denominasi Rupiah pada \\npenerbitan surat berharga di luar Wilayah Negara Kesatuan \\nRepublik Indonesia. \\n \\nHuruf b \\nContoh transaksi keuangan antara lain transaksi jual beli barang \\ndan/atau jasa, jual beli instrumen keuangan, transfer Rupiah ke \\nluar Wilayah Negara Kesatuan Republik Indonesia, dan transaksi \\npinjam-meminjam dana dan/atau instrumen keuangan.  \\nHuruf c \\nContoh \\npenyelesaian \\ntransaksi \\nkeuangan \\nantara \\nlain \\npenyelesaian \\ntransaksi \\njual \\nbeli \\nbarang \\ndan/atau \\njasa, \\npenyelesaian jual beli instrumen keuangan, dan penyelesaian \\ntransaksi \\npinjam-meminjam \\ndana \\ndan/atau \\ninstrumen \\nkeuangan.  \\n \\nPasal 8 \\n \\nCukup jelas. \\n \\nPasal 9 \\n \\nAyat (1)  \\nTermasuk penggunaan Rupiah oleh Bukan Penduduk di dalam \\nWilayah Negara Kesatuan Republik Indonesia yaitu transfer \\nkepada Bukan Penduduk.  \\nAyat (2) \\nCukup jelas. \\nAyat (3) \\nCukup jelas. \\n \\nPasal 10 \\n \\nAyat (1) \\nContoh pembatasan penggunaan Rupiah pada kegiatan tertentu \\noleh Bukan Penduduk di dalam Wilayah Negara Kesatuan \\nRepublik Indonesia dan pengecualiannya antara lain terkait \\npenerimaan kredit dan/atau pembiayaan.  \\nAyat (2) \\n \\n \\nCukup jelas.', start_char_idx=0, end_char_idx=1168, text_template='{metadata_str}\\n\\n{content}', metadata_template='{key}: {value}', metadata_seperator='\\n'),\n",
       " TextNode(id_='a7dfc6b8-68f3-419f-bc41-228d72c047d9', embedding=None, metadata={}, excluded_embed_metadata_keys=[], excluded_llm_metadata_keys=[], relationships={<NodeRelationship.SOURCE: '1'>: RelatedNodeInfo(node_id='9191c30c-95eb-4a13-88b4-9f25e2fc8b58', node_type=<ObjectType.TEXT: '1'>, metadata={}, hash='36e5e0275dc2aafdd5e53fec75db99868b69b1860fbc6bbd8c634ab0aaf13200'), <NodeRelationship.NEXT: '3'>: RelatedNodeInfo(node_id='53e13770-a185-431f-b01f-5825081b96ef', node_type=<ObjectType.TEXT: '1'>, metadata={}, hash='1be06794b4c660610c18f78ccbf65d56561bc1ce7407051723e1d272497aff7c'), <NodeRelationship.PARENT: '4'>: RelatedNodeInfo(node_id='9191c30c-95eb-4a13-88b4-9f25e2fc8b58', node_type=<ObjectType.TEXT: '1'>, metadata={}, hash='36e5e0275dc2aafdd5e53fec75db99868b69b1860fbc6bbd8c634ab0aaf13200')}, text='- 4 - \\nContoh kuotasi antara lain penggunaan denominasi Rupiah pada \\npenerbitan surat berharga di luar Wilayah Negara Kesatuan \\nRepublik Indonesia.', start_char_idx=0, end_char_idx=147, text_template='{metadata_str}\\n\\n{content}', metadata_template='{key}: {value}', metadata_seperator='\\n'),\n",
       " TextNode(id_='53e13770-a185-431f-b01f-5825081b96ef', embedding=None, metadata={}, excluded_embed_metadata_keys=[], excluded_llm_metadata_keys=[], relationships={<NodeRelationship.SOURCE: '1'>: RelatedNodeInfo(node_id='9191c30c-95eb-4a13-88b4-9f25e2fc8b58', node_type=<ObjectType.TEXT: '1'>, metadata={}, hash='36e5e0275dc2aafdd5e53fec75db99868b69b1860fbc6bbd8c634ab0aaf13200'), <NodeRelationship.PREVIOUS: '2'>: RelatedNodeInfo(node_id='a7dfc6b8-68f3-419f-bc41-228d72c047d9', node_type=<ObjectType.TEXT: '1'>, metadata={}, hash='6fcabd2da314d066e951447beebae0a22ea02ed1650dbda82f9e3a21004c02cd'), <NodeRelationship.NEXT: '3'>: RelatedNodeInfo(node_id='263eedf9-382a-45f3-aa3b-31e8cff5860a', node_type=<ObjectType.TEXT: '1'>, metadata={}, hash='69764c91cea3bc7e0115f2ce8d18ecc0cf0e6cc6d7af965337e976e692448271'), <NodeRelationship.PARENT: '4'>: RelatedNodeInfo(node_id='9191c30c-95eb-4a13-88b4-9f25e2fc8b58', node_type=<ObjectType.TEXT: '1'>, metadata={}, hash='36e5e0275dc2aafdd5e53fec75db99868b69b1860fbc6bbd8c634ab0aaf13200')}, text='Huruf b \\nContoh transaksi keuangan antara lain transaksi jual beli barang \\ndan/atau jasa, jual beli instrumen keuangan, transfer Rupiah ke \\nluar Wilayah Negara Kesatuan Republik Indonesia, dan transaksi \\npinjam-meminjam dana dan/atau instrumen keuangan.', start_char_idx=151, end_char_idx=404, text_template='{metadata_str}\\n\\n{content}', metadata_template='{key}: {value}', metadata_seperator='\\n'),\n",
       " TextNode(id_='263eedf9-382a-45f3-aa3b-31e8cff5860a', embedding=None, metadata={}, excluded_embed_metadata_keys=[], excluded_llm_metadata_keys=[], relationships={<NodeRelationship.SOURCE: '1'>: RelatedNodeInfo(node_id='9191c30c-95eb-4a13-88b4-9f25e2fc8b58', node_type=<ObjectType.TEXT: '1'>, metadata={}, hash='36e5e0275dc2aafdd5e53fec75db99868b69b1860fbc6bbd8c634ab0aaf13200'), <NodeRelationship.PREVIOUS: '2'>: RelatedNodeInfo(node_id='53e13770-a185-431f-b01f-5825081b96ef', node_type=<ObjectType.TEXT: '1'>, metadata={}, hash='1be06794b4c660610c18f78ccbf65d56561bc1ce7407051723e1d272497aff7c'), <NodeRelationship.NEXT: '3'>: RelatedNodeInfo(node_id='ee859aa1-c9ad-4c5c-8b88-ef304d833384', node_type=<ObjectType.TEXT: '1'>, metadata={}, hash='043669f81977f97f1291c0c4bd7387c406ef1810a1ba7a4ad37a788c09350c0d'), <NodeRelationship.PARENT: '4'>: RelatedNodeInfo(node_id='9191c30c-95eb-4a13-88b4-9f25e2fc8b58', node_type=<ObjectType.TEXT: '1'>, metadata={}, hash='36e5e0275dc2aafdd5e53fec75db99868b69b1860fbc6bbd8c634ab0aaf13200')}, text='Huruf c \\nContoh \\npenyelesaian \\ntransaksi \\nkeuangan \\nantara \\nlain \\npenyelesaian \\ntransaksi \\njual \\nbeli \\nbarang \\ndan/atau \\njasa, \\npenyelesaian jual beli instrumen keuangan, dan penyelesaian \\ntransaksi \\npinjam-meminjam \\ndana \\ndan/atau \\ninstrumen \\nkeuangan.  \\n \\nPasal 8 \\n \\nCukup jelas.', start_char_idx=407, end_char_idx=688, text_template='{metadata_str}\\n\\n{content}', metadata_template='{key}: {value}', metadata_seperator='\\n'),\n",
       " TextNode(id_='ee859aa1-c9ad-4c5c-8b88-ef304d833384', embedding=None, metadata={}, excluded_embed_metadata_keys=[], excluded_llm_metadata_keys=[], relationships={<NodeRelationship.SOURCE: '1'>: RelatedNodeInfo(node_id='9191c30c-95eb-4a13-88b4-9f25e2fc8b58', node_type=<ObjectType.TEXT: '1'>, metadata={}, hash='36e5e0275dc2aafdd5e53fec75db99868b69b1860fbc6bbd8c634ab0aaf13200'), <NodeRelationship.PREVIOUS: '2'>: RelatedNodeInfo(node_id='263eedf9-382a-45f3-aa3b-31e8cff5860a', node_type=<ObjectType.TEXT: '1'>, metadata={}, hash='69764c91cea3bc7e0115f2ce8d18ecc0cf0e6cc6d7af965337e976e692448271'), <NodeRelationship.NEXT: '3'>: RelatedNodeInfo(node_id='26d116a0-ae83-4adb-825c-1dde84da9b26', node_type=<ObjectType.TEXT: '1'>, metadata={}, hash='624111260ddae8fd53889918ab43e6d9f21d28ac02765b2bb32be09b92307303'), <NodeRelationship.PARENT: '4'>: RelatedNodeInfo(node_id='9191c30c-95eb-4a13-88b4-9f25e2fc8b58', node_type=<ObjectType.TEXT: '1'>, metadata={}, hash='36e5e0275dc2aafdd5e53fec75db99868b69b1860fbc6bbd8c634ab0aaf13200')}, text='Pasal 8 \\n \\nCukup jelas. \\n \\nPasal 9 \\n \\nAyat (1)  \\nTermasuk penggunaan Rupiah oleh Bukan Penduduk di dalam \\nWilayah Negara Kesatuan Republik Indonesia yaitu transfer \\nkepada Bukan Penduduk.  \\nAyat (2) \\nCukup jelas. \\nAyat (3) \\nCukup jelas.', start_char_idx=665, end_char_idx=901, text_template='{metadata_str}\\n\\n{content}', metadata_template='{key}: {value}', metadata_seperator='\\n'),\n",
       " TextNode(id_='26d116a0-ae83-4adb-825c-1dde84da9b26', embedding=None, metadata={}, excluded_embed_metadata_keys=[], excluded_llm_metadata_keys=[], relationships={<NodeRelationship.SOURCE: '1'>: RelatedNodeInfo(node_id='9191c30c-95eb-4a13-88b4-9f25e2fc8b58', node_type=<ObjectType.TEXT: '1'>, metadata={}, hash='36e5e0275dc2aafdd5e53fec75db99868b69b1860fbc6bbd8c634ab0aaf13200'), <NodeRelationship.PREVIOUS: '2'>: RelatedNodeInfo(node_id='ee859aa1-c9ad-4c5c-8b88-ef304d833384', node_type=<ObjectType.TEXT: '1'>, metadata={}, hash='043669f81977f97f1291c0c4bd7387c406ef1810a1ba7a4ad37a788c09350c0d'), <NodeRelationship.PARENT: '4'>: RelatedNodeInfo(node_id='9191c30c-95eb-4a13-88b4-9f25e2fc8b58', node_type=<ObjectType.TEXT: '1'>, metadata={}, hash='36e5e0275dc2aafdd5e53fec75db99868b69b1860fbc6bbd8c634ab0aaf13200')}, text='Ayat (3) \\nCukup jelas. \\n \\nPasal 10 \\n \\nAyat (1) \\nContoh pembatasan penggunaan Rupiah pada kegiatan tertentu \\noleh Bukan Penduduk di dalam Wilayah Negara Kesatuan \\nRepublik Indonesia dan pengecualiannya antara lain terkait \\npenerimaan kredit dan/atau pembiayaan.  \\nAyat (2) \\n \\n \\nCukup jelas.', start_char_idx=879, end_char_idx=1168, text_template='{metadata_str}\\n\\n{content}', metadata_template='{key}: {value}', metadata_seperator='\\n'),\n",
       " TextNode(id_='9dc85062-c716-4955-b80e-24b565b98604', embedding=None, metadata={}, excluded_embed_metadata_keys=[], excluded_llm_metadata_keys=[], relationships={<NodeRelationship.SOURCE: '1'>: RelatedNodeInfo(node_id='28c79b22-e34a-48d8-b9c3-ca692507237c', node_type=<ObjectType.DOCUMENT: '4'>, metadata={}, hash='2e427039cf27d474761e77b8f237aea6ee699e73e0f54f75a0a0392921db5ead'), <NodeRelationship.CHILD: '5'>: [RelatedNodeInfo(node_id='88faf27e-87a2-4a08-bc01-fffcd1148bcf', node_type=<ObjectType.TEXT: '1'>, metadata={}, hash='be11bb6c30c701c5e7f6c79427ddeb4ed18136f101b7668f70043810748a0887')]}, text='- 5 - \\nPasal 11  \\nCukup jelas.  \\n \\nPasal 12 \\nCukup jelas.  \\n \\nPasal 13 \\n \\nCukup jelas.  \\n \\n \\n \\nPasal 14 \\n \\nCukup jelas. \\n \\n \\nTAMBAHAN LEMBARAN NEGARA REPUBLIK INDONESIA NOMOR 6791', start_char_idx=0, end_char_idx=179, text_template='{metadata_str}\\n\\n{content}', metadata_template='{key}: {value}', metadata_seperator='\\n'),\n",
       " TextNode(id_='88faf27e-87a2-4a08-bc01-fffcd1148bcf', embedding=None, metadata={}, excluded_embed_metadata_keys=[], excluded_llm_metadata_keys=[], relationships={<NodeRelationship.SOURCE: '1'>: RelatedNodeInfo(node_id='9dc85062-c716-4955-b80e-24b565b98604', node_type=<ObjectType.TEXT: '1'>, metadata={}, hash='be11bb6c30c701c5e7f6c79427ddeb4ed18136f101b7668f70043810748a0887'), <NodeRelationship.PARENT: '4'>: RelatedNodeInfo(node_id='9dc85062-c716-4955-b80e-24b565b98604', node_type=<ObjectType.TEXT: '1'>, metadata={}, hash='be11bb6c30c701c5e7f6c79427ddeb4ed18136f101b7668f70043810748a0887'), <NodeRelationship.CHILD: '5'>: [RelatedNodeInfo(node_id='59191008-d14f-469a-935b-a5fa766b9a7e', node_type=<ObjectType.TEXT: '1'>, metadata={}, hash='be11bb6c30c701c5e7f6c79427ddeb4ed18136f101b7668f70043810748a0887')]}, text='- 5 - \\nPasal 11  \\nCukup jelas.  \\n \\nPasal 12 \\nCukup jelas.  \\n \\nPasal 13 \\n \\nCukup jelas.  \\n \\n \\n \\nPasal 14 \\n \\nCukup jelas. \\n \\n \\nTAMBAHAN LEMBARAN NEGARA REPUBLIK INDONESIA NOMOR 6791', start_char_idx=0, end_char_idx=179, text_template='{metadata_str}\\n\\n{content}', metadata_template='{key}: {value}', metadata_seperator='\\n'),\n",
       " TextNode(id_='59191008-d14f-469a-935b-a5fa766b9a7e', embedding=None, metadata={}, excluded_embed_metadata_keys=[], excluded_llm_metadata_keys=[], relationships={<NodeRelationship.SOURCE: '1'>: RelatedNodeInfo(node_id='88faf27e-87a2-4a08-bc01-fffcd1148bcf', node_type=<ObjectType.TEXT: '1'>, metadata={}, hash='be11bb6c30c701c5e7f6c79427ddeb4ed18136f101b7668f70043810748a0887'), <NodeRelationship.PARENT: '4'>: RelatedNodeInfo(node_id='88faf27e-87a2-4a08-bc01-fffcd1148bcf', node_type=<ObjectType.TEXT: '1'>, metadata={}, hash='be11bb6c30c701c5e7f6c79427ddeb4ed18136f101b7668f70043810748a0887')}, text='- 5 - \\nPasal 11  \\nCukup jelas.  \\n \\nPasal 12 \\nCukup jelas.  \\n \\nPasal 13 \\n \\nCukup jelas.  \\n \\n \\n \\nPasal 14 \\n \\nCukup jelas. \\n \\n \\nTAMBAHAN LEMBARAN NEGARA REPUBLIK INDONESIA NOMOR 6791', start_char_idx=0, end_char_idx=179, text_template='{metadata_str}\\n\\n{content}', metadata_template='{key}: {value}', metadata_seperator='\\n')]"
      ]
     },
     "execution_count": 403,
     "metadata": {},
     "output_type": "execute_result"
    }
   ],
   "source": [
    "nodes"
   ]
  },
  {
   "cell_type": "markdown",
   "metadata": {},
   "source": [
    "## Vector Inde"
   ]
  },
  {
   "cell_type": "code",
   "execution_count": 404,
   "metadata": {},
   "outputs": [],
   "source": [
    "from llama_index.core import (\n",
    "    Settings,\n",
    "    VectorStoreIndex\n",
    ")\n",
    "\n",
    "from llama_index.llms.openai import OpenAI\n",
    "from llama_index.embeddings.openai import OpenAIEmbedding"
   ]
  },
  {
   "cell_type": "code",
   "execution_count": 405,
   "metadata": {},
   "outputs": [],
   "source": [
    "llm = OpenAI(api_key = os.getenv(\"OPENAI_API_KEY\"), temperature= 0.0)\n",
    "\n",
    "embeeding = OpenAIEmbedding(api_key=os.getenv(\"OPENAI_API_KEY\"))"
   ]
  },
  {
   "cell_type": "code",
   "execution_count": 406,
   "metadata": {},
   "outputs": [],
   "source": [
    "Settings.llm = llm\n",
    "Settings.embed_model = embeeding"
   ]
  },
  {
   "cell_type": "code",
   "execution_count": 407,
   "metadata": {},
   "outputs": [
    {
     "name": "stderr",
     "output_type": "stream",
     "text": [
      "Parsing nodes: 100%|██████████| 13/13 [00:00<00:00, 2102.89it/s]\n",
      "Generating embeddings: 100%|██████████| 13/13 [00:01<00:00, 10.03it/s]\n"
     ]
    }
   ],
   "source": [
    "index = VectorStoreIndex.from_documents(document, show_progress = True) # Using document"
   ]
  },
  {
   "cell_type": "code",
   "execution_count": 408,
   "metadata": {},
   "outputs": [
    {
     "name": "stderr",
     "output_type": "stream",
     "text": [
      "Generating embeddings: 100%|██████████| 80/80 [00:02<00:00, 35.26it/s]\n"
     ]
    }
   ],
   "source": [
    "node_index = VectorStoreIndex(nodes, show_progress = True) # Using nodes"
   ]
  },
  {
   "cell_type": "markdown",
   "metadata": {},
   "source": [
    "## Storing"
   ]
  },
  {
   "cell_type": "code",
   "execution_count": 409,
   "metadata": {},
   "outputs": [],
   "source": [
    "from llama_index.core import StorageContext\n",
    "from llama_index.vector_stores.lancedb import LanceDBVectorStore"
   ]
  },
  {
   "cell_type": "code",
   "execution_count": 410,
   "metadata": {},
   "outputs": [],
   "source": [
    "vector_store = LanceDBVectorStore(uri = \"vector_db/\", table_name = f\"pbi_exercise\")"
   ]
  },
  {
   "cell_type": "code",
   "execution_count": 411,
   "metadata": {},
   "outputs": [],
   "source": [
    "storage_context = StorageContext.from_defaults(vector_store = vector_store)"
   ]
  },
  {
   "cell_type": "code",
   "execution_count": 412,
   "metadata": {},
   "outputs": [
    {
     "name": "stderr",
     "output_type": "stream",
     "text": [
      "Parsing nodes: 100%|██████████| 13/13 [00:00<00:00, 2853.72it/s]\n",
      "Generating embeddings: 100%|██████████| 13/13 [00:00<00:00, 19.34it/s]\n"
     ]
    }
   ],
   "source": [
    "index = VectorStoreIndex.from_documents(document, storage_context = storage_context, show_progress = True)"
   ]
  },
  {
   "cell_type": "code",
   "execution_count": 413,
   "metadata": {},
   "outputs": [],
   "source": [
    "# To load\n",
    "index = VectorStoreIndex.from_vector_store(vector_store=vector_store)"
   ]
  },
  {
   "cell_type": "code",
   "execution_count": 414,
   "metadata": {},
   "outputs": [],
   "source": [
    "#node_index = VectorStoreIndex(nodes, storage_context = storage_context, show_progress = True)"
   ]
  },
  {
   "cell_type": "code",
   "execution_count": 415,
   "metadata": {},
   "outputs": [],
   "source": [
    "# node_index = VectorStoreIndex.from_vector_store(vector_store=vector_store) # Load"
   ]
  },
  {
   "cell_type": "markdown",
   "metadata": {},
   "source": [
    "## Query"
   ]
  },
  {
   "cell_type": "code",
   "execution_count": 416,
   "metadata": {},
   "outputs": [
    {
     "name": "stdout",
     "output_type": "stream",
     "text": [
      "<llama_index.core.query_engine.retriever_query_engine.RetrieverQueryEngine object at 0x0000022427D8E620>\n",
      "KEBIJAKAN PENGGUNAAN RUPIAH PADA KEGIATAN INTERNASIONAL\n"
     ]
    }
   ],
   "source": [
    "query_engine = index.as_query_engine()\n",
    "print(query_engine)\n",
    "response = query_engine.query(\"Apa judul dari peraturan ini?\")\n",
    "\n",
    "print(response)"
   ]
  },
  {
   "cell_type": "code",
   "execution_count": 417,
   "metadata": {},
   "outputs": [
    {
     "name": "stdout",
     "output_type": "stream",
     "text": [
      "<llama_index.core.query_engine.retriever_query_engine.RetrieverQueryEngine object at 0x000002242C248310>\n",
      "PERATURAN BANK INDONESIA TENTANG KEBIJAKAN PENGGUNAAN RUPIAH PADA KEGIATAN INTERNASIONAL.\n"
     ]
    }
   ],
   "source": [
    "# Parsed using hierarical\n",
    "\n",
    "query_vector_engine = node_index.as_query_engine()\n",
    "\n",
    "print(query_vector_engine)\n",
    "\n",
    "response = query_vector_engine.query(\"Apa judul dari peraturan ini?\")\n",
    "\n",
    "print(response)"
   ]
  },
  {
   "cell_type": "markdown",
   "metadata": {},
   "source": [
    "# Advanced RAG"
   ]
  },
  {
   "cell_type": "markdown",
   "metadata": {},
   "source": [
    "## Building Nodes"
   ]
  },
  {
   "cell_type": "code",
   "execution_count": 419,
   "metadata": {},
   "outputs": [],
   "source": [
    "from llama_index.core.extractors import (\n",
    "    SummaryExtractor,\n",
    "    QuestionsAnsweredExtractor,\n",
    "    TitleExtractor\n",
    ")"
   ]
  },
  {
   "cell_type": "code",
   "execution_count": 418,
   "metadata": {},
   "outputs": [],
   "source": [
    "from llama_index.core.ingestion import IngestionPipeline\n",
    "from llama_index.core.node_parser import HierarchicalNodeParser, TextSplitter"
   ]
  },
  {
   "cell_type": "code",
   "execution_count": 420,
   "metadata": {},
   "outputs": [],
   "source": [
    "node_parser = HierarchicalNodeParser.from_defaults()"
   ]
  },
  {
   "cell_type": "code",
   "execution_count": 422,
   "metadata": {},
   "outputs": [],
   "source": [
    "extractors = [QuestionsAnsweredExtractor(questions=5, llm=llm), SummaryExtractor(summaries=[\"prev\", \"self\"], llm=llm), TitleExtractor(nodes = 5, llm=llm)]\n",
    "\n",
    "transformations = [node_parser] + extractors\n",
    "\n",
    "pipeline = IngestionPipeline(transformations=transformations)"
   ]
  },
  {
   "cell_type": "code",
   "execution_count": 426,
   "metadata": {},
   "outputs": [
    {
     "name": "stderr",
     "output_type": "stream",
     "text": [
      "100%|██████████| 80/80 [00:47<00:00,  1.67it/s]\n",
      "100%|██████████| 80/80 [00:39<00:00,  2.03it/s]\n",
      "100%|██████████| 1/1 [00:00<00:00,  1.03it/s]\n",
      "100%|██████████| 1/1 [00:00<00:00,  1.19it/s]\n",
      "100%|██████████| 4/4 [00:01<00:00,  3.17it/s]\n",
      "100%|██████████| 1/1 [00:00<00:00,  1.35it/s]\n",
      "100%|██████████| 2/2 [00:00<00:00,  2.57it/s]\n",
      "100%|██████████| 5/5 [00:01<00:00,  3.02it/s]\n",
      "100%|██████████| 1/1 [00:00<00:00,  1.73it/s]\n",
      "100%|██████████| 1/1 [00:00<00:00,  1.41it/s]\n",
      "100%|██████████| 1/1 [00:00<00:00,  1.22it/s]\n",
      "100%|██████████| 5/5 [00:01<00:00,  3.68it/s]\n",
      "100%|██████████| 1/1 [00:00<00:00,  1.45it/s]\n",
      "100%|██████████| 1/1 [00:00<00:00,  1.36it/s]\n",
      "100%|██████████| 5/5 [00:01<00:00,  2.55it/s]\n",
      "100%|██████████| 1/1 [00:00<00:00,  1.30it/s]\n",
      "100%|██████████| 1/1 [00:00<00:00,  1.15it/s]\n",
      "100%|██████████| 5/5 [00:01<00:00,  3.16it/s]\n",
      "100%|██████████| 1/1 [00:01<00:00,  1.23s/it]\n",
      "100%|██████████| 1/1 [00:01<00:00,  1.02s/it]\n",
      "100%|██████████| 4/4 [00:01<00:00,  3.75it/s]\n",
      "100%|██████████| 1/1 [00:01<00:00,  1.32s/it]\n",
      "100%|██████████| 1/1 [00:00<00:00,  1.22it/s]\n",
      "100%|██████████| 1/1 [00:00<00:00,  1.53it/s]\n",
      "100%|██████████| 1/1 [00:00<00:00,  1.04it/s]\n",
      "100%|██████████| 1/1 [00:00<00:00,  1.24it/s]\n",
      "100%|██████████| 2/2 [00:01<00:00,  1.31it/s]\n",
      "100%|██████████| 1/1 [00:01<00:00,  1.16s/it]\n",
      "100%|██████████| 1/1 [00:01<00:00,  1.79s/it]\n",
      "100%|██████████| 5/5 [00:02<00:00,  2.14it/s]\n",
      "100%|██████████| 1/1 [00:01<00:00,  1.25s/it]\n",
      "100%|██████████| 1/1 [00:00<00:00,  1.25it/s]\n",
      "100%|██████████| 5/5 [00:03<00:00,  1.43it/s]\n",
      "100%|██████████| 1/1 [00:01<00:00,  1.17s/it]\n",
      "100%|██████████| 1/1 [00:02<00:00,  2.29s/it]\n",
      "100%|██████████| 5/5 [00:01<00:00,  3.07it/s]\n",
      "100%|██████████| 1/1 [00:00<00:00,  1.30it/s]\n",
      "100%|██████████| 1/1 [00:00<00:00,  1.11it/s]\n",
      "100%|██████████| 5/5 [00:01<00:00,  2.97it/s]\n",
      "100%|██████████| 1/1 [00:00<00:00,  1.08it/s]\n",
      "100%|██████████| 1/1 [00:00<00:00,  1.24it/s]\n",
      "100%|██████████| 1/1 [00:00<00:00,  1.30it/s]\n"
     ]
    }
   ],
   "source": [
    "import nest_asyncio\n",
    "\n",
    "nest_asyncio.apply()\n",
    "\n",
    "nodes = pipeline.run(documents = docs)"
   ]
  },
  {
   "cell_type": "code",
   "execution_count": 427,
   "metadata": {},
   "outputs": [
    {
     "data": {
      "text/plain": [
       "{'questions_this_excerpt_can_answer': \"1. What is the rationale behind Bank Indonesia's decision to establish a policy on the use of the Rupiah in international activities?\\n2. How does the cautious use of the Rupiah in international activities contribute to maintaining the stability of the Rupiah's exchange rate and benefiting Indonesia's economy?\\n3. What specific considerations led to the establishment of Regulation No. 24/6/PBI/2022 on the Policy of Using the Rupiah in International Activities by Bank Indonesia?\\n4. How has the Law No. 23 of 1999 on Bank Indonesia been amended over the years, particularly in relation to the regulation of the Rupiah's use in international activities?\\n5. What role does Bank Indonesia play as the monetary authority in determining policies related to the use of the Rupiah in international activities, and how does this impact the overall economic landscape of Indonesia?\",\n",
       " 'section_summary': \"The section discusses Bank Indonesia's Regulation No. 24/6/PBI/2022 on the Policy of Using the Rupiah in International Activities. It highlights the rationale behind the policy, emphasizing the importance of maintaining the stability of the Rupiah's exchange rate and benefiting Indonesia's economy. The section also mentions the specific considerations that led to the establishment of the regulation and references the amendments made to Law No. 23 of 1999 on Bank Indonesia in relation to the Rupiah's use in international activities. Additionally, it underscores the role of Bank Indonesia as the monetary authority in determining policies related to the use of the Rupiah in international activities and its impact on Indonesia's overall economic landscape.\",\n",
       " 'document_title': 'Regulation on the Use of Rupiah in International Activities by Bank Indonesia'}"
      ]
     },
     "execution_count": 427,
     "metadata": {},
     "output_type": "execute_result"
    }
   ],
   "source": [
    "nodes[0].metadata"
   ]
  },
  {
   "cell_type": "markdown",
   "metadata": {},
   "source": [
    "## Indexing"
   ]
  },
  {
   "cell_type": "code",
   "execution_count": 444,
   "metadata": {},
   "outputs": [
    {
     "name": "stderr",
     "output_type": "stream",
     "text": [
      "Generating embeddings: 100%|██████████| 80/80 [00:06<00:00, 12.72it/s]\n"
     ]
    }
   ],
   "source": [
    "advanced_rag_index = VectorStoreIndex(nodes, show_progress=True)"
   ]
  },
  {
   "cell_type": "markdown",
   "metadata": {},
   "source": [
    "## Querying"
   ]
  },
  {
   "cell_type": "code",
   "execution_count": 445,
   "metadata": {},
   "outputs": [],
   "source": [
    "from llama_index.core.retrievers import RecursiveRetriever\n",
    "from llama_index.core.query_engine import RetrieverQueryEngine"
   ]
  },
  {
   "cell_type": "code",
   "execution_count": 446,
   "metadata": {},
   "outputs": [],
   "source": [
    "vector_retriever = advanced_rag_index.as_retriever(similarity_top_k = 3) # Change index to be a retriever\n",
    "recursive_retriever = RecursiveRetriever(\"vector\", retriever_dict={\"vector\": vector_retriever}) # Menghitung beratnya ke nodes yang lain\n",
    "\n",
    "query_engine = RetrieverQueryEngine.from_args(recursive_retriever) # Use the retriever as the query engine"
   ]
  },
  {
   "cell_type": "code",
   "execution_count": 447,
   "metadata": {},
   "outputs": [
    {
     "name": "stdout",
     "output_type": "stream",
     "text": [
      "Regulation on Bank Indonesia: Official Gazette Publication by Governor Perry Warjiyo and Minister Yasonna H. Laoly\n"
     ]
    }
   ],
   "source": [
    "response = query_engine.query(\"Apa judul dari peraturan ini?\")\n",
    "print(response)"
   ]
  },
  {
   "cell_type": "markdown",
   "metadata": {},
   "source": [
    "## Agent & Tools"
   ]
  },
  {
   "cell_type": "code",
   "execution_count": 455,
   "metadata": {},
   "outputs": [],
   "source": [
    "new_pdf_path = \"POJK_51.pdf\"\n",
    "secdoc = fitz.open(Path(new_pdf_path))\n",
    "\n",
    "total_page = len(secdoc)"
   ]
  },
  {
   "cell_type": "code",
   "execution_count": 456,
   "metadata": {},
   "outputs": [],
   "source": [
    "docs = []\n",
    "\n",
    "for page in secdoc:\n",
    "    text = page.get_text()\n",
    "    docs.append(Document(text = text))"
   ]
  },
  {
   "cell_type": "code",
   "execution_count": 461,
   "metadata": {},
   "outputs": [
    {
     "name": "stderr",
     "output_type": "stream",
     "text": []
    },
    {
     "name": "stderr",
     "output_type": "stream",
     "text": [
      "100%|██████████| 118/118 [01:27<00:00,  1.35it/s]\n",
      "100%|██████████| 118/118 [01:00<00:00,  1.94it/s]\n",
      "100%|██████████| 1/1 [00:00<00:00,  1.05it/s]\n",
      "100%|██████████| 1/1 [00:00<00:00,  1.26it/s]\n",
      "100%|██████████| 4/4 [00:01<00:00,  2.72it/s]\n",
      "100%|██████████| 1/1 [00:00<00:00,  1.10it/s]\n",
      "100%|██████████| 2/2 [00:00<00:00,  2.39it/s]\n",
      "100%|██████████| 5/5 [00:01<00:00,  3.47it/s]\n",
      "100%|██████████| 1/1 [00:00<00:00,  1.24it/s]\n",
      "100%|██████████| 1/1 [00:00<00:00,  1.33it/s]\n",
      "100%|██████████| 2/2 [00:00<00:00,  2.42it/s]\n",
      "100%|██████████| 5/5 [00:01<00:00,  3.49it/s]\n",
      "100%|██████████| 1/1 [00:00<00:00,  1.45it/s]\n",
      "100%|██████████| 1/1 [00:01<00:00,  1.27s/it]\n",
      "100%|██████████| 2/2 [00:00<00:00,  2.20it/s]\n",
      "100%|██████████| 5/5 [00:01<00:00,  2.77it/s]\n",
      "100%|██████████| 1/1 [00:00<00:00,  1.50it/s]\n",
      "100%|██████████| 1/1 [00:00<00:00,  1.27it/s]\n",
      "100%|██████████| 2/2 [00:00<00:00,  2.02it/s]\n",
      "100%|██████████| 4/4 [00:00<00:00,  4.04it/s]\n",
      "100%|██████████| 2/2 [00:00<00:00,  2.05it/s]\n",
      "100%|██████████| 1/1 [00:00<00:00,  1.45it/s]\n",
      "100%|██████████| 1/1 [00:00<00:00,  1.22it/s]\n",
      "100%|██████████| 5/5 [00:02<00:00,  2.13it/s]\n",
      "100%|██████████| 1/1 [00:00<00:00,  1.67it/s]\n",
      "100%|██████████| 2/2 [00:00<00:00,  2.38it/s]\n",
      "100%|██████████| 5/5 [00:01<00:00,  2.60it/s]\n",
      "100%|██████████| 1/1 [00:00<00:00,  1.28it/s]\n",
      "100%|██████████| 1/1 [00:00<00:00,  1.38it/s]\n",
      "100%|██████████| 2/2 [00:00<00:00,  2.32it/s]\n",
      "100%|██████████| 5/5 [00:02<00:00,  2.24it/s]\n",
      "100%|██████████| 1/1 [00:06<00:00,  6.46s/it]\n",
      "100%|██████████| 1/1 [00:00<00:00,  1.56it/s]\n",
      "100%|██████████| 1/1 [00:01<00:00,  1.55s/it]\n",
      "100%|██████████| 4/4 [00:01<00:00,  2.29it/s]\n",
      "100%|██████████| 1/1 [00:01<00:00,  1.27s/it]\n",
      "100%|██████████| 1/1 [00:01<00:00,  1.05s/it]\n",
      "100%|██████████| 4/4 [00:28<00:00,  7.20s/it]\n",
      "100%|██████████| 1/1 [00:02<00:00,  2.23s/it]\n",
      "100%|██████████| 2/2 [00:02<00:00,  1.43s/it]\n",
      "100%|██████████| 4/4 [00:01<00:00,  3.59it/s]\n",
      "100%|██████████| 3/3 [00:00<00:00,  3.02it/s]\n",
      "100%|██████████| 1/1 [00:00<00:00,  1.60it/s]\n",
      "100%|██████████| 2/2 [00:00<00:00,  2.47it/s]\n",
      "100%|██████████| 5/5 [00:01<00:00,  2.77it/s]\n",
      "100%|██████████| 1/1 [00:00<00:00,  1.44it/s]\n",
      "100%|██████████| 1/1 [00:00<00:00,  1.00it/s]\n",
      "100%|██████████| 2/2 [00:00<00:00,  2.45it/s]\n",
      "100%|██████████| 5/5 [00:01<00:00,  3.23it/s]\n",
      "100%|██████████| 1/1 [00:00<00:00,  1.56it/s]\n",
      "100%|██████████| 1/1 [00:00<00:00,  1.25it/s]\n",
      "100%|██████████| 1/1 [00:01<00:00,  1.13s/it]\n",
      "100%|██████████| 3/3 [00:01<00:00,  2.29it/s]\n",
      "100%|██████████| 1/1 [00:00<00:00,  1.39it/s]\n",
      "100%|██████████| 1/1 [00:00<00:00,  1.18it/s]\n",
      "100%|██████████| 2/2 [00:01<00:00,  1.93it/s]\n"
     ]
    }
   ],
   "source": [
    "sec_nodes = pipeline.run(documents = docs)"
   ]
  },
  {
   "cell_type": "code",
   "execution_count": 463,
   "metadata": {},
   "outputs": [
    {
     "name": "stderr",
     "output_type": "stream",
     "text": [
      "Generating embeddings: 100%|██████████| 118/118 [00:09<00:00, 12.80it/s]\n"
     ]
    },
    {
     "name": "stdout",
     "output_type": "stream",
     "text": [
      "Regulations on Sustainable Finance for Financial Institutions, Issuers, and Public Companies in Indonesia: Guidelines for Implementing Financial Activities by Lembaga Jasa Keuangan (LJK)\n"
     ]
    }
   ],
   "source": [
    "second_advanced_rag_index = VectorStoreIndex(sec_nodes, show_progress=True)\n",
    "second_vector_retriever = second_advanced_rag_index.as_retriever(similarity_top_k = 3) # Change index to be a retriever\n",
    "second_recursive_retriever = RecursiveRetriever(\"vector\", retriever_dict={\"vector\": second_vector_retriever}) # Menghitung beratnya ke nodes yang lain\n",
    "\n",
    "second_query_engine = RetrieverQueryEngine.from_args(second_recursive_retriever) # Use the retriever as the query engine\n",
    "\n",
    "second_response = second_query_engine.query(\"Apa judul dari peraturan ini?\")\n",
    "print(second_response)"
   ]
  },
  {
   "cell_type": "markdown",
   "metadata": {},
   "source": [
    "## QueryEngine Tools\n"
   ]
  },
  {
   "cell_type": "code",
   "execution_count": 464,
   "metadata": {},
   "outputs": [],
   "source": [
    "from llama_index.core.tools import QueryEngineTool, ToolMetadata"
   ]
  },
  {
   "cell_type": "code",
   "execution_count": 465,
   "metadata": {},
   "outputs": [],
   "source": [
    "query_tools = [\n",
    "    QueryEngineTool(query_engine, metadata = ToolMetadata(\n",
    "        name =\"vector_tool_PBI_2022\",\n",
    "        description=(f\"Useful for retrieving details and summarizing the compliance : Bank Indonesia Regulation (PBI) with number 24/6/2022\")\n",
    "    )),\n",
    "    QueryEngineTool(second_query_engine, metadata = ToolMetadata(\n",
    "      name = \"vector_tool_POJK_51\",\n",
    "      description=(f\"Useful for retrieving details and summarizing the compliance : Financial Services Authority Regulation (POJK) with number 51/POJK.03/2017\")\n",
    "    ))\n",
    "]"
   ]
  },
  {
   "cell_type": "markdown",
   "metadata": {},
   "source": [
    "## Build Agent"
   ]
  },
  {
   "cell_type": "code",
   "execution_count": 488,
   "metadata": {},
   "outputs": [],
   "source": [
    "#Build Agent\n",
    "context = \"\"\"\n",
    "You are a chatbot able to help answer question about banking compliance in Indonesia. \n",
    "\n",
    "#Tools\n",
    "You have access to a wide variety of tools. You are responsible for using tools in any sequence you deem appropriate to complete the task at hand. \n",
    "This may require breaking the task into subtasks and using different tools to complete each subtask.\n",
    "\n",
    "You have access to the following tools: ['vector_tool_PBI_2022','vector_tool_sal_pojk_51']\n",
    "\n",
    "Please follow the instructions below: \n",
    "#Instruction\n",
    "Given the context information and not prior knowledge, answer the query using one of the tools provided\n",
    "Use the previous chat history, or the context above, to interact and help the user. \n",
    "----------------------------------------------\n",
    "Query: {query_str} 'query results from the tool is: {query_results}\n",
    "Answer: \\\n",
    "\"\"\"\n",
    "\n",
    "system= f\"\"\"\n",
    "You MUST reply based on the user's language. \n",
    "User will ask question straight about the compliances and may not refer to the compliance or title. \n",
    "You must ALWAYS use at least one of the tools provided when answering a question.\n",
    "These are the compliance available: \n",
    "- Bank Indonesia Regulation (Peraturan Bank Indonesia) No. 24/06/PBI/2022 on the Use of Rupiah in International Activities and Amendments to the Republic of Indonesia's State Gazette\n",
    "- Otoritas Jasa Keuangan Regulation (Peraturan Otoritas Jasa Keuangan) No. 51/POJK.03/2017 on Implementation of Sustainable finance for various entities, including financial service institutions, issuers, and public companies\n",
    "\n",
    "You are designed to answer queries from user which includes but not limited to: Summarizing contents, question specific article/section of the compliance, etc. \n",
    "You are NOT allowed to hallucinate. \n",
    "Do NOT rely on prior knowledge.\n",
    "\"\"\""
   ]
  },
  {
   "cell_type": "code",
   "execution_count": 489,
   "metadata": {},
   "outputs": [],
   "source": [
    "from llama_index.agent.openai import OpenAIAgent\n",
    "from llama_index.core.memory import ChatMemoryBuffer"
   ]
  },
  {
   "cell_type": "code",
   "execution_count": 490,
   "metadata": {},
   "outputs": [],
   "source": [
    "memory = ChatMemoryBuffer.from_defaults(token_limit=10000) # Menyimpan memory percakapan 10000"
   ]
  },
  {
   "cell_type": "code",
   "execution_count": 491,
   "metadata": {},
   "outputs": [],
   "source": [
    "agent = OpenAIAgent.from_tools(\n",
    "    tool= query_tools,\n",
    "    chat_mode = \"context\",\n",
    "    context_promt = context,\n",
    "    llm = llm,\n",
    "    memory = memory,\n",
    "    system_prompt= system,\n",
    "    response_mode = \"refine\",\n",
    "    verbose = True\n",
    ")"
   ]
  },
  {
   "cell_type": "code",
   "execution_count": 492,
   "metadata": {},
   "outputs": [
    {
     "name": "stdout",
     "output_type": "stream",
     "text": [
      "Added user message to memory: PBI Nomor 1/05/PBI/2005 tentang apa?\n"
     ]
    }
   ],
   "source": [
    "response = agent.chat(\"PBI Nomor 1/05/PBI/2005 tentang apa?\")"
   ]
  },
  {
   "cell_type": "code",
   "execution_count": 493,
   "metadata": {},
   "outputs": [
    {
     "name": "stdout",
     "output_type": "stream",
     "text": [
      "Maaf, saya hanya dapat memberikan informasi mengenai Peraturan Bank Indonesia No. 24/06/PBI/2022 tentang Penggunaan Rupiah dalam Kegiatan Internasional dan Amandemen Lembaran Negara Republik Indonesia serta Peraturan Otoritas Jasa Keuangan No. 51/POJK.03/2017 tentang Implementasi Keuangan Berkelanjutan. Apakah ada yang bisa saya bantu terkait peraturan tersebut?\n"
     ]
    }
   ],
   "source": [
    "print(response)"
   ]
  },
  {
   "cell_type": "code",
   "execution_count": null,
   "metadata": {},
   "outputs": [],
   "source": []
  },
  {
   "cell_type": "code",
   "execution_count": null,
   "metadata": {},
   "outputs": [],
   "source": []
  }
 ],
 "metadata": {
  "kernelspec": {
   "display_name": "env",
   "language": "python",
   "name": "python3"
  },
  "language_info": {
   "codemirror_mode": {
    "name": "ipython",
    "version": 3
   },
   "file_extension": ".py",
   "mimetype": "text/x-python",
   "name": "python",
   "nbconvert_exporter": "python",
   "pygments_lexer": "ipython3",
   "version": "3.10.6"
  }
 },
 "nbformat": 4,
 "nbformat_minor": 2
}
